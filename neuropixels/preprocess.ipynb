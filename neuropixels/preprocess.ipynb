{
 "cells": [
  {
   "cell_type": "markdown",
   "id": "f468ecc0-2df3-4672-bfcd-ad0c549d28ab",
   "metadata": {},
   "source": [
    "Load binary files from each experiment, concatenate, and save for spike-sorting."
   ]
  },
  {
   "cell_type": "code",
   "execution_count": null,
   "id": "7ccf31da-df8d-4ed3-ae62-db37b68e9535",
   "metadata": {},
   "outputs": [],
   "source": []
  }
 ],
 "metadata": {
  "kernelspec": {
   "display_name": "Python 3 (ipykernel)",
   "language": "python",
   "name": "python3"
  },
  "language_info": {
   "codemirror_mode": {
    "name": "ipython",
    "version": 3
   },
   "file_extension": ".py",
   "mimetype": "text/x-python",
   "name": "python",
   "nbconvert_exporter": "python",
   "pygments_lexer": "ipython3",
   "version": "3.10.6"
  }
 },
 "nbformat": 4,
 "nbformat_minor": 5
}
