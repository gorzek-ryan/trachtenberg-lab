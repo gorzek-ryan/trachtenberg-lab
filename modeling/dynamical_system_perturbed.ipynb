{
 "cells": [
  {
   "cell_type": "code",
   "execution_count": 1,
   "metadata": {},
   "outputs": [],
   "source": [
    "import numpy as np\n",
    "from mat73 import loadmat\n",
    "from tqdm import tqdm\n",
    "import pandas as pd\n",
    "import seaborn as sns\n",
    "import matplotlib.pyplot as plt"
   ]
  },
  {
   "cell_type": "code",
   "execution_count": 2,
   "metadata": {},
   "outputs": [],
   "source": [
    "data_all = loadmat(\"data_all.mat\")[\"data_all\"] # load the matfile"
   ]
  },
  {
   "cell_type": "code",
   "execution_count": 3,
   "metadata": {},
   "outputs": [],
   "source": [
    "nsol = data_all[\"err\"].size # number of pre-trained solutions\n",
    "nc = 4 # number of cell types in a subnetwork, excluding L4 feedforward input\n",
    "nb = 4 # number of interconnected subnetworks\n",
    "nc2 = nc * nb # total number of units, excluding L4 feedforward input\n",
    "is0 = 1 # select center stimulus (from dim. 3 of X, others are likely cross, iso, and blank?) with Pythonic index\n",
    "\n",
    "nco = 11 # number of contrasts\n",
    "contrast_c = np.linspace(0, 1, nco) # linearly spaced contrasts from 0 to 1\n",
    "\n",
    "new_max = 1 # maximum activity allowed, otherwise classified as unstable"
   ]
  },
  {
   "cell_type": "markdown",
   "metadata": {},
   "source": [
    "Response to Center Stimulus under Control Conditions"
   ]
  },
  {
   "cell_type": "code",
   "execution_count": 4,
   "metadata": {},
   "outputs": [
    {
     "name": "stdout",
     "output_type": "stream",
     "text": [
      "Contrast #0\n"
     ]
    },
    {
     "name": "stderr",
     "output_type": "stream",
     "text": [
      "100%|██████████| 115/115 [00:00<00:00, 583.21it/s]\n"
     ]
    },
    {
     "name": "stdout",
     "output_type": "stream",
     "text": [
      "Contrast #1\n"
     ]
    },
    {
     "name": "stderr",
     "output_type": "stream",
     "text": [
      "100%|██████████| 115/115 [00:00<00:00, 612.82it/s]\n"
     ]
    },
    {
     "name": "stdout",
     "output_type": "stream",
     "text": [
      "Contrast #2\n"
     ]
    },
    {
     "name": "stderr",
     "output_type": "stream",
     "text": [
      "100%|██████████| 115/115 [00:00<00:00, 634.83it/s]\n"
     ]
    },
    {
     "name": "stdout",
     "output_type": "stream",
     "text": [
      "Contrast #3\n"
     ]
    },
    {
     "name": "stderr",
     "output_type": "stream",
     "text": [
      "100%|██████████| 115/115 [00:00<00:00, 608.13it/s]\n"
     ]
    },
    {
     "name": "stdout",
     "output_type": "stream",
     "text": [
      "Contrast #4\n"
     ]
    },
    {
     "name": "stderr",
     "output_type": "stream",
     "text": [
      "100%|██████████| 115/115 [00:00<00:00, 571.06it/s]\n"
     ]
    },
    {
     "name": "stdout",
     "output_type": "stream",
     "text": [
      "Contrast #5\n"
     ]
    },
    {
     "name": "stderr",
     "output_type": "stream",
     "text": [
      "100%|██████████| 115/115 [00:00<00:00, 563.65it/s]\n"
     ]
    },
    {
     "name": "stdout",
     "output_type": "stream",
     "text": [
      "Contrast #6\n"
     ]
    },
    {
     "name": "stderr",
     "output_type": "stream",
     "text": [
      "100%|██████████| 115/115 [00:00<00:00, 502.25it/s]\n"
     ]
    },
    {
     "name": "stdout",
     "output_type": "stream",
     "text": [
      "Contrast #7\n"
     ]
    },
    {
     "name": "stderr",
     "output_type": "stream",
     "text": [
      "100%|██████████| 115/115 [00:00<00:00, 501.39it/s]\n"
     ]
    },
    {
     "name": "stdout",
     "output_type": "stream",
     "text": [
      "Contrast #8\n"
     ]
    },
    {
     "name": "stderr",
     "output_type": "stream",
     "text": [
      "100%|██████████| 115/115 [00:00<00:00, 459.90it/s]\n"
     ]
    },
    {
     "name": "stdout",
     "output_type": "stream",
     "text": [
      "Contrast #9\n"
     ]
    },
    {
     "name": "stderr",
     "output_type": "stream",
     "text": [
      "100%|██████████| 115/115 [00:00<00:00, 429.43it/s]\n"
     ]
    },
    {
     "name": "stdout",
     "output_type": "stream",
     "text": [
      "Contrast #10\n"
     ]
    },
    {
     "name": "stderr",
     "output_type": "stream",
     "text": [
      "100%|██████████| 115/115 [00:00<00:00, 11770.54it/s]\n"
     ]
    },
    {
     "data": {
      "text/plain": [
       "<matplotlib.lines.Line2D at 0x14cddbda0>"
      ]
     },
     "execution_count": 4,
     "metadata": {},
     "output_type": "execute_result"
    },
    {
     "data": {
      "image/png": "[encoded data removed]",
      "text/plain": [
       "<Figure size 640x480 with 1 Axes>"
      ]
     },
     "metadata": {},
     "output_type": "display_data"
    }
   ],
   "source": [
    "fixed_points = np.tile(np.nan, (nsol, nco, nc2)) # store fixed points (after convergence) for each model solution, contrast, and unit\n",
    "num_iters = np.zeros((nsol, nco))\n",
    "dynpars = data_all[\"dynpars\"] # grab model training parameters\n",
    "for ico in range(nco):\n",
    "    print(\"Contrast #{0}\".format(ico))\n",
    "    cc = contrast_c[ico] # get the current contrast value\n",
    "    for isol in tqdm(range(nsol)):\n",
    "        rt = np.expand_dims(data_all[\"X\"][isol, :nc2, is0].squeeze(), axis=0) # starting activity for each unit, excluding L4 input\n",
    "        h = cc * data_all[\"X\"][isol, nc2:, is0].squeeze() # L4 feedforward input, scaled by current contrast value\n",
    "        W = data_all[\"W\"][isol, :, :].squeeze()\n",
    "        #### simulate until timeout, convergence, or unstable\n",
    "        dr = 1 # change in the rate\n",
    "        it = 0 # number of iterations\n",
    "        while (it < dynpars[\"nt\"]) & (dr > dynpars[\"eps_dr\"]) & (rt.max() < new_max):\n",
    "            r0 = rt[it, :] # get current starting point (last activity vector)\n",
    "            a = np.concatenate((r0, h)) # tack L4 units onto the rest for multiplication with W\n",
    "            ## compute the new activity vector by adding the change (flowing through the subnetwork) to the starting point \n",
    "            r1 = r0 + (-r0 + np.maximum(np.matmul(W, a), 0)**2) * dynpars[\"dt\"]\n",
    "            rt = np.vstack((rt, r1)) # store the new activity vector\n",
    "            dr = np.sum((r1 - r0)**2) # compute the change from previous activity vector\n",
    "            it += 1\n",
    "        fixed_points[isol, ico, :] = r1\n",
    "        num_iters[isol, ico] = it + 1\n",
    "# plot the number of iterations to reach convergence for each contrast\n",
    "iter_df = pd.DataFrame(num_iters, columns=[np.round(c, 2) for c in contrast_c])\n",
    "iter_df = iter_df.melt(var_name='Contrast', value_name='# of Iterations to Convergence')\n",
    "sns.stripplot(x='Contrast', y='# of Iterations to Convergence', data=iter_df)\n",
    "plt.axhline(0, color=\"r\", linestyle=\"--\")"
   ]
  },
  {
   "cell_type": "markdown",
   "metadata": {},
   "source": [
    "Response to Center Stimulus during Optogenetic Perturbation of PV and VIP"
   ]
  },
  {
   "cell_type": "code",
   "execution_count": 49,
   "metadata": {},
   "outputs": [
    {
     "name": "stdout",
     "output_type": "stream",
     "text": [
      "Contrast #0\n"
     ]
    },
    {
     "name": "stderr",
     "output_type": "stream",
     "text": [
      "100%|██████████| 115/115 [00:00<00:00, 604.56it/s]\n",
      "100%|██████████| 115/115 [00:00<00:00, 598.38it/s]\n"
     ]
    },
    {
     "name": "stdout",
     "output_type": "stream",
     "text": [
      "Contrast #1\n"
     ]
    },
    {
     "name": "stderr",
     "output_type": "stream",
     "text": [
      "100%|██████████| 115/115 [00:00<00:00, 609.10it/s]\n",
      "100%|██████████| 115/115 [00:00<00:00, 629.92it/s]\n"
     ]
    },
    {
     "name": "stdout",
     "output_type": "stream",
     "text": [
      "Contrast #2\n"
     ]
    },
    {
     "name": "stderr",
     "output_type": "stream",
     "text": [
      "100%|██████████| 115/115 [00:00<00:00, 597.97it/s]\n",
      "100%|██████████| 115/115 [00:00<00:00, 605.71it/s]\n"
     ]
    },
    {
     "name": "stdout",
     "output_type": "stream",
     "text": [
      "Contrast #3\n"
     ]
    },
    {
     "name": "stderr",
     "output_type": "stream",
     "text": [
      "100%|██████████| 115/115 [00:00<00:00, 604.00it/s]\n",
      "100%|██████████| 115/115 [00:00<00:00, 555.23it/s]\n"
     ]
    },
    {
     "name": "stdout",
     "output_type": "stream",
     "text": [
      "Contrast #4\n"
     ]
    },
    {
     "name": "stderr",
     "output_type": "stream",
     "text": [
      "100%|██████████| 115/115 [00:00<00:00, 555.21it/s]\n",
      "100%|██████████| 115/115 [00:00<00:00, 547.73it/s]\n"
     ]
    },
    {
     "name": "stdout",
     "output_type": "stream",
     "text": [
      "Contrast #5\n"
     ]
    },
    {
     "name": "stderr",
     "output_type": "stream",
     "text": [
      "100%|██████████| 115/115 [00:00<00:00, 538.12it/s]\n",
      "100%|██████████| 115/115 [00:00<00:00, 530.56it/s]\n"
     ]
    },
    {
     "name": "stdout",
     "output_type": "stream",
     "text": [
      "Contrast #6\n"
     ]
    },
    {
     "name": "stderr",
     "output_type": "stream",
     "text": [
      "100%|██████████| 115/115 [00:00<00:00, 506.36it/s]\n",
      "100%|██████████| 115/115 [00:00<00:00, 447.15it/s]\n"
     ]
    },
    {
     "name": "stdout",
     "output_type": "stream",
     "text": [
      "Contrast #7\n"
     ]
    },
    {
     "name": "stderr",
     "output_type": "stream",
     "text": [
      "100%|██████████| 115/115 [00:00<00:00, 511.75it/s]\n",
      "100%|██████████| 115/115 [00:00<00:00, 428.32it/s]\n"
     ]
    },
    {
     "name": "stdout",
     "output_type": "stream",
     "text": [
      "Contrast #8\n"
     ]
    },
    {
     "name": "stderr",
     "output_type": "stream",
     "text": [
      "100%|██████████| 115/115 [00:00<00:00, 456.01it/s]\n",
      "100%|██████████| 115/115 [00:00<00:00, 331.24it/s]\n"
     ]
    },
    {
     "name": "stdout",
     "output_type": "stream",
     "text": [
      "Contrast #9\n"
     ]
    },
    {
     "name": "stderr",
     "output_type": "stream",
     "text": [
      "100%|██████████| 115/115 [00:00<00:00, 421.92it/s]\n",
      "100%|██████████| 115/115 [00:00<00:00, 281.41it/s]\n"
     ]
    },
    {
     "name": "stdout",
     "output_type": "stream",
     "text": [
      "Contrast #10\n"
     ]
    },
    {
     "name": "stderr",
     "output_type": "stream",
     "text": [
      "100%|██████████| 115/115 [00:00<00:00, 340.27it/s]\n",
      "100%|██████████| 115/115 [00:00<00:00, 923.81it/s]\n"
     ]
    }
   ],
   "source": [
    "doo = 0.05 # optogenetic stimulus strength\n",
    "r_opto = {\"PV\" : np.tile(np.nan, (nco, nc2, nsol)), \n",
    "          \"VIP\" : np.tile(np.nan, (nco, nc2, nsol))} # store activity for each perturbation\n",
    "time_steps = {\"PV\" : np.tile(np.nan, (nco, nsol)), \n",
    "              \"VIP\" : np.tile(np.nan, (nco, nsol))} # store iteration counts for each perturbation \n",
    "opto_idx = {\"PV\" : 1, \"VIP\" : 3} # Pythonic PV and VIP indices within weight matrix\n",
    "dynpars = data_all[\"dynpars\"] # grab model training parameters\n",
    "for ico in range(nco):\n",
    "    print(\"Contrast #{0}\".format(ico))\n",
    "    cc = contrast_c[ico] # get the current contrast value\n",
    "    for ct in [\"PV\", \"VIP\"]:\n",
    "        Wo = np.zeros((nc,)) # subnetwork\n",
    "        Wo[opto_idx[ct]] = 1 # opto stimulation for current cell type\n",
    "        Wo = np.tile(Wo, (nb,)) # tile for each subnetwork\n",
    "        Oh = Wo * doo # scale opto input by stimulus strength\n",
    "        for isol in tqdm(range(nsol)):\n",
    "            rt = np.expand_dims(data_all[\"X\"][isol, :nc2, is0].squeeze(), axis=0) # starting activity for each unit, excluding L4 input\n",
    "            h = cc * data_all[\"X\"][isol, nc2:, is0].squeeze() # L4 feedforward input, scaled by current contrast value\n",
    "            W = data_all[\"W\"][isol, :, :].squeeze()\n",
    "            #### simulate until timeout, convergence, or unstable\n",
    "            dr = 1 # change in the rate\n",
    "            it = 0 # number of iterations\n",
    "            while (it < dynpars[\"nt\"]) & (dr > dynpars[\"eps_dr\"]) & (rt.max() < new_max):\n",
    "                r0 = rt[it, :] # get current starting point (last activity vector)\n",
    "                a = np.concatenate((r0, h)) # tack L4 units onto the rest for multiplication with W\n",
    "                ## compute the new activity vector by adding the change (flowing through the subnetwork) to the starting point\n",
    "                r1 = r0 + (-r0 + np.maximum(np.matmul(W, a) + Oh, 0)**2) * dynpars[\"dt\"] # add opto stimulation (Oh)\n",
    "                rt = np.vstack((rt, r1)) # store the new activity vector\n",
    "                dr = np.sum((r1 - r0)**2) # compute the change from previous activity vector\n",
    "                it += 1\n",
    "            #### store activity if solutions did not time out and are still stable\n",
    "            if (it < dynpars[\"nt\"]) & (rt.max() < dynpars[\"max_x\"]):\n",
    "                r_opto[ct][ico, :, isol] = r1\n",
    "            time_steps[ct][ico, isol] = it # store # of iterations in any case\n",
    "check_nan = lambda x: np.all(np.isnan(x[:, 0, :]) == False, axis=0)\n",
    "sol_exist = np.where(check_nan(r_opto[\"PV\"]) & check_nan(r_opto[\"VIP\"]))[0]"
   ]
  },
  {
   "cell_type": "code",
   "execution_count": 50,
   "metadata": {},
   "outputs": [
    {
     "name": "stderr",
     "output_type": "stream",
     "text": [
      "/var/folders/q9/55ddr8ls05q0zp9f1rrcsj1h0000gn/T/ipykernel_32144/1691204171.py:9: RuntimeWarning: divide by zero encountered in log10\n",
      "  axs[1].plot(np.log10(contrast_c), np.log10(control), color=\"black\")\n",
      "/var/folders/q9/55ddr8ls05q0zp9f1rrcsj1h0000gn/T/ipykernel_32144/1691204171.py:10: RuntimeWarning: divide by zero encountered in log10\n",
      "  axs[1].plot(np.log10(contrast_c), np.log10(pv_stim), color=\"blue\")\n",
      "/var/folders/q9/55ddr8ls05q0zp9f1rrcsj1h0000gn/T/ipykernel_32144/1691204171.py:11: RuntimeWarning: divide by zero encountered in log10\n",
      "  axs[1].plot(np.log10(contrast_c), np.log10(vip_stim), color=\"green\")\n"
     ]
    },
    {
     "data": {
      "image/png": "[encoded data removed]",
      "text/plain": [
       "<Figure size 900x400 with 2 Axes>"
      ]
     },
     "metadata": {},
     "output_type": "display_data"
    }
   ],
   "source": [
    "control = np.mean(fixed_points[sol_exist, :, 0], axis=0)\n",
    "pv_stim = np.mean(r_opto[\"PV\"][:, 0, sol_exist], axis=1)\n",
    "vip_stim = np.mean(r_opto[\"VIP\"][:, 0, sol_exist], axis=1)\n",
    "\n",
    "fig, axs = plt.subplots(1, 2)\n",
    "axs[0].plot(contrast_c, control, color=\"black\")\n",
    "axs[0].plot(contrast_c, pv_stim, color=\"blue\")\n",
    "axs[0].plot(contrast_c, vip_stim, color=\"green\")\n",
    "axs[1].plot(np.log10(contrast_c), np.log10(control), color=\"black\")\n",
    "axs[1].plot(np.log10(contrast_c), np.log10(pv_stim), color=\"blue\")\n",
    "axs[1].plot(np.log10(contrast_c), np.log10(vip_stim), color=\"green\")\n",
    "axs[0].legend((\"Control\", \"PV Activation\", \"VIP Activation\"))\n",
    "fig.set_size_inches(9, 4)"
   ]
  }
 ],
 "metadata": {
  "kernelspec": {
   "display_name": "modeling",
   "language": "python",
   "name": "python3"
  },
  "language_info": {
   "codemirror_mode": {
    "name": "ipython",
    "version": 3
   },
   "file_extension": ".py",
   "mimetype": "text/x-python",
   "name": "python",
   "nbconvert_exporter": "python",
   "pygments_lexer": "ipython3",
   "version": "3.12.2"
  }
 },
 "nbformat": 4,
 "nbformat_minor": 2
}
