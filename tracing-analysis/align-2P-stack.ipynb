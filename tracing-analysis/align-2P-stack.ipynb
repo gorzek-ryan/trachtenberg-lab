{
 "cells": [
  {
   "cell_type": "markdown",
   "id": "5d62173c-50ba-4d46-9267-6ef8ca2e543c",
   "metadata": {},
   "source": [
    "Load Data"
   ]
  },
  {
   "cell_type": "code",
   "execution_count": null,
   "id": "ed794c16-c0a8-4915-a89d-057543bec2e1",
   "metadata": {},
   "outputs": [],
   "source": [
    "import numpy as np\n",
    "\n",
    "in_data = np.load(\"/Users/ryan.gorzek/Downloads/retr02_002_001_stackred_seg_n3processed.npy\", allow_pickle=True)\n",
    "data = in_data.item()"
   ]
  },
  {
   "cell_type": "markdown",
   "id": "9e1bed6d-8b1c-4c56-9c91-567e4c668821",
   "metadata": {},
   "source": [
    "Plot Centroids for Pre-corrected Imaging Volume"
   ]
  },
  {
   "cell_type": "code",
   "execution_count": 28,
   "id": "7dd03072-26c4-4ae1-927d-9797d20c100f",
   "metadata": {},
   "outputs": [
    {
     "data": {
      "application/vnd.plotly.v1+json": {
       "config": {
        "plotlyServerURL": "https://plot.ly"
       },
       "data": [
        {
         "hovertemplate": "line_group=0<br>X=%{x}<br>Y=%{y}<br>Z=%{z}<extra></extra>",
         "legendgroup": "",
         "line": {
          "color": "black",
          "dash": "solid",
          "width": 4
         },
         "marker": {
          "size": 3,
          "symbol": "circle"
         },
         "mode": "lines",
         "name": "",
         "scene": "scene",
         "showlegend": false,
         "type": "scatter3d",
         "x": [
          0,
          0
         ],
         "y": [
          0,
          0
         ],
         "z": [
          0,
          65
         ]
        },
        {
         "hovertemplate": "line_group=1<br>X=%{x}<br>Y=%{y}<br>Z=%{z}<extra></extra>",
         "legendgroup": "",
         "line": {
          "color": "black",
          "dash": "solid",
          "width": 4
         },
         "marker": {
          "size": 3,
          "symbol": "circle"
         },
         "mode": "lines",
         "name": "",
         "scene": "scene",
         "showlegend": false,
         "type": "scatter3d",
         "x": [
          0,
          0
         ],
         "y": [
          899,
          899
         ],
         "z": [
          0,
          65
         ]
        },
        {
         "hovertemplate": "line_group=2<br>X=%{x}<br>Y=%{y}<br>Z=%{z}<extra></extra>",
         "legendgroup": "",
         "line": {
          "color": "black",
          "dash": "solid",
          "width": 4
         },
         "marker": {
          "size": 3,
          "symbol": "circle"
         },
         "mode": "lines",
         "name": "",
         "scene": "scene",
         "showlegend": false,
         "type": "scatter3d",
         "x": [
          795,
          795
         ],
         "y": [
          0,
          0
         ],
         "z": [
          0,
          65
         ]
        },
        {
         "hovertemplate": "line_group=3<br>X=%{x}<br>Y=%{y}<br>Z=%{z}<extra></extra>",
         "legendgroup": "",
         "line": {
          "color": "black",
          "dash": "solid",
          "width": 4
         },
         "marker": {
          "size": 3,
          "symbol": "circle"
         },
         "mode": "lines",
         "name": "",
         "scene": "scene",
         "showlegend": false,
         "type": "scatter3d",
         "x": [
          795,
          795
         ],
         "y": [
          899,
          899
         ],
         "z": [
          0,
          65
         ]
        },
        {
         "hovertemplate": "line_group=4<br>X=%{x}<br>Y=%{y}<br>Z=%{z}<extra></extra>",
         "legendgroup": "",
         "line": {
          "color": "black",
          "dash": "solid",
          "width": 4
         },
         "marker": {
          "size": 3,
          "symbol": "circle"
         },
         "mode": "lines",
         "name": "",
         "scene": "scene",
         "showlegend": false,
         "type": "scatter3d",
         "x": [
          0,
          0
         ],
         "y": [
          0,
          899
         ],
         "z": [
          0,
          0
         ]
        },
        {
         "hovertemplate": "line_group=5<br>X=%{x}<br>Y=%{y}<br>Z=%{z}<extra></extra>",
         "legendgroup": "",
         "line": {
          "color": "black",
          "dash": "solid",
          "width": 4
         },
         "marker": {
          "size": 3,
          "symbol": "circle"
         },
         "mode": "lines",
         "name": "",
         "scene": "scene",
         "showlegend": false,
         "type": "scatter3d",
         "x": [
          0,
          0
         ],
         "y": [
          0,
          899
         ],
         "z": [
          65,
          65
         ]
        },
        {
         "hovertemplate": "line_group=6<br>X=%{x}<br>Y=%{y}<br>Z=%{z}<extra></extra>",
         "legendgroup": "",
         "line": {
          "color": "black",
          "dash": "solid",
          "width": 4
         },
         "marker": {
          "size": 3,
          "symbol": "circle"
         },
         "mode": "lines",
         "name": "",
         "scene": "scene",
         "showlegend": false,
         "type": "scatter3d",
         "x": [
          795,
          795
         ],
         "y": [
          0,
          899
         ],
         "z": [
          0,
          0
         ]
        },
        {
         "hovertemplate": "line_group=7<br>X=%{x}<br>Y=%{y}<br>Z=%{z}<extra></extra>",
         "legendgroup": "",
         "line": {
          "color": "black",
          "dash": "solid",
          "width": 4
         },
         "marker": {
          "size": 3,
          "symbol": "circle"
         },
         "mode": "lines",
         "name": "",
         "scene": "scene",
         "showlegend": false,
         "type": "scatter3d",
         "x": [
          795,
          795
         ],
         "y": [
          0,
          899
         ],
         "z": [
          65,
          65
         ]
        },
        {
         "hovertemplate": "line_group=8<br>X=%{x}<br>Y=%{y}<br>Z=%{z}<extra></extra>",
         "legendgroup": "",
         "line": {
          "color": "black",
          "dash": "solid",
          "width": 4
         },
         "marker": {
          "size": 3,
          "symbol": "circle"
         },
         "mode": "lines",
         "name": "",
         "scene": "scene",
         "showlegend": false,
         "type": "scatter3d",
         "x": [
          0,
          795
         ],
         "y": [
          0,
          0
         ],
         "z": [
          0,
          0
         ]
        },
        {
         "hovertemplate": "line_group=9<br>X=%{x}<br>Y=%{y}<br>Z=%{z}<extra></extra>",
         "legendgroup": "",
         "line": {
          "color": "black",
          "dash": "solid",
          "width": 4
         },
         "marker": {
          "size": 3,
          "symbol": "circle"
         },
         "mode": "lines",
         "name": "",
         "scene": "scene",
         "showlegend": false,
         "type": "scatter3d",
         "x": [
          0,
          795
         ],
         "y": [
          899,
          899
         ],
         "z": [
          0,
          0
         ]
        },
        {
         "hovertemplate": "line_group=10<br>X=%{x}<br>Y=%{y}<br>Z=%{z}<extra></extra>",
         "legendgroup": "",
         "line": {
          "color": "black",
          "dash": "solid",
          "width": 4
         },
         "marker": {
          "size": 3,
          "symbol": "circle"
         },
         "mode": "lines",
         "name": "",
         "scene": "scene",
         "showlegend": false,
         "type": "scatter3d",
         "x": [
          0,
          795
         ],
         "y": [
          0,
          0
         ],
         "z": [
          65,
          65
         ]
        },
        {
         "hovertemplate": "line_group=11<br>X=%{x}<br>Y=%{y}<br>Z=%{z}<extra></extra>",
         "legendgroup": "",
         "line": {
          "color": "black",
          "dash": "solid",
          "width": 4
         },
         "marker": {
          "size": 3,
          "symbol": "circle"
         },
         "mode": "lines",
         "name": "",
         "scene": "scene",
         "showlegend": false,
         "type": "scatter3d",
         "x": [
          0,
          795
         ],
         "y": [
          899,
          899
         ],
         "z": [
          65,
          65
         ]
        },
        {
         "marker": {
          "size": 3
         },
         "type": "scatter3d",
         "x": [
          258.03508771929825
         ],
         "y": [
          350.35087719298247
         ],
         "z": [
          2.9298245614035086
         ]
        },
        {
         "marker": {
          "size": 3
         },
         "type": "scatter3d",
         "x": [
          54.81372549019608
         ],
         "y": [
          461.578431372549
         ],
         "z": [
          2.5980392156862746
         ]
        },
        {
         "marker": {
          "size": 3
         },
         "type": "scatter3d",
         "x": [
          333.3888888888889
         ],
         "y": [
          767.2777777777778
         ],
         "z": [
          5.37037037037037
         ]
        },
        {
         "marker": {
          "size": 3
         },
         "type": "scatter3d",
         "x": [
          34.94871794871795
         ],
         "y": [
          410.35042735042737
         ],
         "z": [
          5.888888888888889
         ]
        },
        {
         "marker": {
          "size": 3
         },
         "type": "scatter3d",
         "x": [
          351.7096774193548
         ],
         "y": [
          638.483870967742
         ],
         "z": [
          2.5483870967741935
         ]
        },
        {
         "marker": {
          "size": 3
         },
         "type": "scatter3d",
         "x": [
          388.2328767123288
         ],
         "y": [
          723.3767123287671
         ],
         "z": [
          6.030821917808219
         ]
        },
        {
         "marker": {
          "size": 3
         },
         "type": "scatter3d",
         "x": [
          229.78985507246378
         ],
         "y": [
          168.9927536231884
         ],
         "z": [
          3.6666666666666665
         ]
        },
        {
         "marker": {
          "size": 3
         },
         "type": "scatter3d",
         "x": [
          560.8257261410788
         ],
         "y": [
          580.402489626556
         ],
         "z": [
          7.804979253112033
         ]
        },
        {
         "marker": {
          "size": 3
         },
         "type": "scatter3d",
         "x": [
          195.7336448598131
         ],
         "y": [
          728.0280373831775
         ],
         "z": [
          5.588785046728972
         ]
        },
        {
         "marker": {
          "size": 3
         },
         "type": "scatter3d",
         "x": [
          542.2793522267207
         ],
         "y": [
          800.3441295546559
         ],
         "z": [
          7.376518218623482
         ]
        },
        {
         "marker": {
          "size": 3
         },
         "type": "scatter3d",
         "x": [
          97.94594594594595
         ],
         "y": [
          432.8288288288288
         ],
         "z": [
          5.864864864864865
         ]
        },
        {
         "marker": {
          "size": 3
         },
         "type": "scatter3d",
         "x": [
          644.6744186046511
         ],
         "y": [
          628.3953488372093
         ],
         "z": [
          11.878552971576227
         ]
        },
        {
         "marker": {
          "size": 3
         },
         "type": "scatter3d",
         "x": [
          366.85616438356163
         ],
         "y": [
          704.4543378995434
         ],
         "z": [
          10.127853881278538
         ]
        },
        {
         "marker": {
          "size": 3
         },
         "type": "scatter3d",
         "x": [
          363.68482490272373
         ],
         "y": [
          780.6303501945525
         ],
         "z": [
          7.214007782101167
         ]
        },
        {
         "marker": {
          "size": 3
         },
         "type": "scatter3d",
         "x": [
          518.9858585858586
         ],
         "y": [
          837.3151515151516
         ],
         "z": [
          11.385858585858585
         ]
        },
        {
         "marker": {
          "size": 3
         },
         "type": "scatter3d",
         "x": [
          262.3720930232558
         ],
         "y": [
          303.74418604651163
         ],
         "z": [
          6
         ]
        },
        {
         "marker": {
          "size": 3
         },
         "type": "scatter3d",
         "x": [
          455.55756207674943
         ],
         "y": [
          650.9571106094808
         ],
         "z": [
          11.139954853273137
         ]
        },
        {
         "marker": {
          "size": 3
         },
         "type": "scatter3d",
         "x": [
          369.3666666666667
         ],
         "y": [
          789.97
         ],
         "z": [
          10.71
         ]
        },
        {
         "marker": {
          "size": 3
         },
         "type": "scatter3d",
         "x": [
          634.1285714285714
         ],
         "y": [
          562.5285714285715
         ],
         "z": [
          7.0285714285714285
         ]
        },
        {
         "marker": {
          "size": 3
         },
         "type": "scatter3d",
         "x": [
          616.6451612903226
         ],
         "y": [
          738
         ],
         "z": [
          7.580645161290323
         ]
        },
        {
         "marker": {
          "size": 3
         },
         "type": "scatter3d",
         "x": [
          370.93548387096774
         ],
         "y": [
          856.4354838709677
         ],
         "z": [
          8.241935483870968
         ]
        },
        {
         "marker": {
          "size": 3
         },
         "type": "scatter3d",
         "x": [
          342.27777777777777
         ],
         "y": [
          607.8472222222222
         ],
         "z": [
          8.333333333333334
         ]
        },
        {
         "marker": {
          "size": 3
         },
         "type": "scatter3d",
         "x": [
          154.6904761904762
         ],
         "y": [
          678.1785714285714
         ],
         "z": [
          10.869047619047619
         ]
        },
        {
         "marker": {
          "size": 3
         },
         "type": "scatter3d",
         "x": [
          307.16379310344826
         ],
         "y": [
          742.3706896551724
         ],
         "z": [
          9.508620689655173
         ]
        },
        {
         "marker": {
          "size": 3
         },
         "type": "scatter3d",
         "x": [
          174.33898305084745
         ],
         "y": [
          835.8728813559322
         ],
         "z": [
          8.745762711864407
         ]
        },
        {
         "marker": {
          "size": 3
         },
         "type": "scatter3d",
         "x": [
          310.8634259259259
         ],
         "y": [
          666.1412037037037
         ],
         "z": [
          13.30324074074074
         ]
        },
        {
         "marker": {
          "size": 3
         },
         "type": "scatter3d",
         "x": [
          495.359649122807
         ],
         "y": [
          749.2587719298245
         ],
         "z": [
          11.557017543859649
         ]
        },
        {
         "marker": {
          "size": 3
         },
         "type": "scatter3d",
         "x": [
          346.475
         ],
         "y": [
          880.4
         ],
         "z": [
          9.5125
         ]
        },
        {
         "marker": {
          "size": 3
         },
         "type": "scatter3d",
         "x": [
          554.4207650273224
         ],
         "y": [
          595.2295081967213
         ],
         "z": [
          12.158469945355192
         ]
        },
        {
         "marker": {
          "size": 3
         },
         "type": "scatter3d",
         "x": [
          171.42222222222222
         ],
         "y": [
          694.3111111111111
         ],
         "z": [
          11.4
         ]
        },
        {
         "marker": {
          "size": 3
         },
         "type": "scatter3d",
         "x": [
          508.91898734177215
         ],
         "y": [
          768.6050632911392
         ],
         "z": [
          14.151898734177216
         ]
        },
        {
         "marker": {
          "size": 3
         },
         "type": "scatter3d",
         "x": [
          324.3359375
         ],
         "y": [
          892.7265625
         ],
         "z": [
          11.6015625
         ]
        },
        {
         "marker": {
          "size": 3
         },
         "type": "scatter3d",
         "x": [
          575.171974522293
         ],
         "y": [
          589.8630573248407
         ],
         "z": [
          14.961783439490446
         ]
        },
        {
         "marker": {
          "size": 3
         },
         "type": "scatter3d",
         "x": [
          610.9002242152467
         ],
         "y": [
          652.0112107623319
         ],
         "z": [
          21.140134529147982
         ]
        },
        {
         "marker": {
          "size": 3
         },
         "type": "scatter3d",
         "x": [
          256.3191489361702
         ],
         "y": [
          735.0070921985815
         ],
         "z": [
          11.666666666666666
         ]
        },
        {
         "marker": {
          "size": 3
         },
         "type": "scatter3d",
         "x": [
          450.8942307692308
         ],
         "y": [
          773.3173076923077
         ],
         "z": [
          13.051923076923076
         ]
        },
        {
         "marker": {
          "size": 3
         },
         "type": "scatter3d",
         "x": [
          209.73758865248226
         ],
         "y": [
          842.3475177304964
         ],
         "z": [
          13.411347517730496
         ]
        },
        {
         "marker": {
          "size": 3
         },
         "type": "scatter3d",
         "x": [
          593.8780487804878
         ],
         "y": [
          463.8048780487805
         ],
         "z": [
          12.609756097560975
         ]
        },
        {
         "marker": {
          "size": 3
         },
         "type": "scatter3d",
         "x": [
          518.3888888888889
         ],
         "y": [
          539.3703703703703
         ],
         "z": [
          11.62962962962963
         ]
        },
        {
         "marker": {
          "size": 3
         },
         "type": "scatter3d",
         "x": [
          626.3442786069652
         ],
         "y": [
          592.281592039801
         ],
         "z": [
          20.46766169154229
         ]
        },
        {
         "marker": {
          "size": 3
         },
         "type": "scatter3d",
         "x": [
          149.53386454183266
         ],
         "y": [
          624.7808764940239
         ],
         "z": [
          14.43824701195219
         ]
        },
        {
         "marker": {
          "size": 3
         },
         "type": "scatter3d",
         "x": [
          576.4597014925373
         ],
         "y": [
          638.3432835820895
         ],
         "z": [
          14.51044776119403
         ]
        },
        {
         "marker": {
          "size": 3
         },
         "type": "scatter3d",
         "x": [
          68.06111111111112
         ],
         "y": [
          654.4055555555556
         ],
         "z": [
          12.016666666666667
         ]
        },
        {
         "marker": {
          "size": 3
         },
         "type": "scatter3d",
         "x": [
          552.3220551378446
         ],
         "y": [
          666.4661654135339
         ],
         "z": [
          19.670426065162907
         ]
        },
        {
         "marker": {
          "size": 3
         },
         "type": "scatter3d",
         "x": [
          282.9281045751634
         ],
         "y": [
          687.9019607843137
         ],
         "z": [
          13.869281045751634
         ]
        },
        {
         "marker": {
          "size": 3
         },
         "type": "scatter3d",
         "x": [
          556.8571428571429
         ],
         "y": [
          715.5238095238095
         ],
         "z": [
          12.301587301587302
         ]
        },
        {
         "marker": {
          "size": 3
         },
         "type": "scatter3d",
         "x": [
          576.2083333333334
         ],
         "y": [
          744.375
         ],
         "z": [
          14.305555555555555
         ]
        },
        {
         "marker": {
          "size": 3
         },
         "type": "scatter3d",
         "x": [
          185.21513944223108
         ],
         "y": [
          775.7808764940239
         ],
         "z": [
          15.43824701195219
         ]
        },
        {
         "marker": {
          "size": 3
         },
         "type": "scatter3d",
         "x": [
          165.1891891891892
         ],
         "y": [
          812.7621621621622
         ],
         "z": [
          12.605405405405405
         ]
        },
        {
         "marker": {
          "size": 3
         },
         "type": "scatter3d",
         "x": [
          219.54896907216494
         ],
         "y": [
          839.889175257732
         ],
         "z": [
          16.574742268041238
         ]
        },
        {
         "marker": {
          "size": 3
         },
         "type": "scatter3d",
         "x": [
          232.51694915254237
         ],
         "y": [
          867.9915254237288
         ],
         "z": [
          12.872881355932204
         ]
        },
        {
         "marker": {
          "size": 3
         },
         "type": "scatter3d",
         "x": [
          613.9469424460432
         ],
         "y": [
          460.4928057553957
         ],
         "z": [
          24.429856115107913
         ]
        },
        {
         "marker": {
          "size": 3
         },
         "type": "scatter3d",
         "x": [
          530.7272727272727
         ],
         "y": [
          518.479020979021
         ],
         "z": [
          16.727272727272727
         ]
        },
        {
         "marker": {
          "size": 3
         },
         "type": "scatter3d",
         "x": [
          563.2264150943396
         ],
         "y": [
          563.2948113207547
         ],
         "z": [
          16.702830188679247
         ]
        },
        {
         "marker": {
          "size": 3
         },
         "type": "scatter3d",
         "x": [
          644.4791666666666
         ],
         "y": [
          591.5520833333334
         ],
         "z": [
          13.8125
         ]
        },
        {
         "marker": {
          "size": 3
         },
         "type": "scatter3d",
         "x": [
          464.63157894736844
         ],
         "y": [
          626.7894736842105
         ],
         "z": [
          12.642105263157895
         ]
        },
        {
         "marker": {
          "size": 3
         },
         "type": "scatter3d",
         "x": [
          77.66401590457257
         ],
         "y": [
          657.8091451292247
         ],
         "z": [
          16.24850894632207
         ]
        },
        {
         "marker": {
          "size": 3
         },
         "type": "scatter3d",
         "x": [
          430.9767441860465
         ],
         "y": [
          684.0988372093024
         ],
         "z": [
          15.662790697674419
         ]
        },
        {
         "marker": {
          "size": 3
         },
         "type": "scatter3d",
         "x": [
          433.36756756756756
         ],
         "y": [
          701.7783783783784
         ],
         "z": [
          16.205405405405404
         ]
        },
        {
         "marker": {
          "size": 3
         },
         "type": "scatter3d",
         "x": [
          588.3818181818182
         ],
         "y": [
          717.4727272727273
         ],
         "z": [
          14.145454545454545
         ]
        },
        {
         "marker": {
          "size": 3
         },
         "type": "scatter3d",
         "x": [
          420.04347826086956
         ],
         "y": [
          752.7826086956521
         ],
         "z": [
          13.91304347826087
         ]
        },
        {
         "marker": {
          "size": 3
         },
         "type": "scatter3d",
         "x": [
          542.375796178344
         ],
         "y": [
          806.2547770700637
         ],
         "z": [
          15.248407643312103
         ]
        },
        {
         "marker": {
          "size": 3
         },
         "type": "scatter3d",
         "x": [
          261.35135135135135
         ],
         "y": [
          862.009009009009
         ],
         "z": [
          14.954954954954955
         ]
        },
        {
         "marker": {
          "size": 3
         },
         "type": "scatter3d",
         "x": [
          171.3132530120482
         ],
         "y": [
          889.4698795180723
         ],
         "z": [
          12.542168674698795
         ]
        },
        {
         "marker": {
          "size": 3
         },
         "type": "scatter3d",
         "x": [
          529.4426229508197
         ],
         "y": [
          508.78922716627636
         ],
         "z": [
          19.159250585480095
         ]
        },
        {
         "marker": {
          "size": 3
         },
         "type": "scatter3d",
         "x": [
          89
         ],
         "y": [
          587.4603174603175
         ],
         "z": [
          14.11111111111111
         ]
        },
        {
         "marker": {
          "size": 3
         },
         "type": "scatter3d",
         "x": [
          320.26190476190476
         ],
         "y": [
          703.1785714285714
         ],
         "z": [
          14.511904761904763
         ]
        },
        {
         "marker": {
          "size": 3
         },
         "type": "scatter3d",
         "x": [
          334.9
         ],
         "y": [
          747.7153846153847
         ],
         "z": [
          17.215384615384615
         ]
        },
        {
         "marker": {
          "size": 3
         },
         "type": "scatter3d",
         "x": [
          171.3
         ],
         "y": [
          885.85
         ],
         "z": [
          13.6
         ]
        },
        {
         "marker": {
          "size": 3
         },
         "type": "scatter3d",
         "x": [
          636.8996865203761
         ],
         "y": [
          571.7962382445141
         ],
         "z": [
          22.601880877742946
         ]
        },
        {
         "marker": {
          "size": 3
         },
         "type": "scatter3d",
         "x": [
          496.8048780487805
         ],
         "y": [
          658.219512195122
         ],
         "z": [
          14.341463414634147
         ]
        },
        {
         "marker": {
          "size": 3
         },
         "type": "scatter3d",
         "x": [
          179.38709677419354
         ],
         "y": [
          729.3440860215054
         ],
         "z": [
          18.197132616487455
         ]
        },
        {
         "marker": {
          "size": 3
         },
         "type": "scatter3d",
         "x": [
          168.84595959595958
         ],
         "y": [
          794.2676767676768
         ],
         "z": [
          18.31313131313131
         ]
        },
        {
         "marker": {
          "size": 3
         },
         "type": "scatter3d",
         "x": [
          305.36
         ],
         "y": [
          872.2
         ],
         "z": [
          16.52
         ]
        },
        {
         "marker": {
          "size": 3
         },
         "type": "scatter3d",
         "x": [
          99.59178743961353
         ],
         "y": [
          478.68599033816423
         ],
         "z": [
          19.780193236714975
         ]
        },
        {
         "marker": {
          "size": 3
         },
         "type": "scatter3d",
         "x": [
          545.5188679245283
         ],
         "y": [
          548.0094339622641
         ],
         "z": [
          16.77358490566038
         ]
        },
        {
         "marker": {
          "size": 3
         },
         "type": "scatter3d",
         "x": [
          383.9835390946502
         ],
         "y": [
          596.7448559670781
         ],
         "z": [
          19.234567901234566
         ]
        },
        {
         "marker": {
          "size": 3
         },
         "type": "scatter3d",
         "x": [
          491.975
         ],
         "y": [
          650.19
         ],
         "z": [
          18.545
         ]
        },
        {
         "marker": {
          "size": 3
         },
         "type": "scatter3d",
         "x": [
          326.0826771653543
         ],
         "y": [
          685.8543307086615
         ],
         "z": [
          18.346456692913385
         ]
        },
        {
         "marker": {
          "size": 3
         },
         "type": "scatter3d",
         "x": [
          162.6578947368421
         ],
         "y": [
          744.1052631578947
         ],
         "z": [
          17.13157894736842
         ]
        },
        {
         "marker": {
          "size": 3
         },
         "type": "scatter3d",
         "x": [
          326.97222222222223
         ],
         "y": [
          827.8981481481482
         ],
         "z": [
          16.685185185185187
         ]
        },
        {
         "marker": {
          "size": 3
         },
         "type": "scatter3d",
         "x": [
          541.133779264214
         ],
         "y": [
          327.494983277592
         ],
         "z": [
          24.578595317725753
         ]
        },
        {
         "marker": {
          "size": 3
         },
         "type": "scatter3d",
         "x": [
          629.3333333333334
         ],
         "y": [
          407.4527027027027
         ],
         "z": [
          22.385135135135137
         ]
        },
        {
         "marker": {
          "size": 3
         },
         "type": "scatter3d",
         "x": [
          427.17255717255716
         ],
         "y": [
          519.991683991684
         ],
         "z": [
          20.30977130977131
         ]
        },
        {
         "marker": {
          "size": 3
         },
         "type": "scatter3d",
         "x": [
          439.74311926605503
         ],
         "y": [
          559.8623853211009
         ],
         "z": [
          19.422018348623855
         ]
        },
        {
         "marker": {
          "size": 3
         },
         "type": "scatter3d",
         "x": [
          338.39906103286387
         ],
         "y": [
          575.9327073552425
         ],
         "z": [
          20.816901408450704
         ]
        },
        {
         "marker": {
          "size": 3
         },
         "type": "scatter3d",
         "x": [
          424.79003558718864
         ],
         "y": [
          595.459074733096
         ],
         "z": [
          20.398576512455517
         ]
        },
        {
         "marker": {
          "size": 3
         },
         "type": "scatter3d",
         "x": [
          428.1449275362319
         ],
         "y": [
          625.1594202898551
         ],
         "z": [
          18.202898550724637
         ]
        },
        {
         "marker": {
          "size": 3
         },
         "type": "scatter3d",
         "x": [
          247.60223048327137
         ],
         "y": [
          647.4721189591078
         ],
         "z": [
          18.858736059479554
         ]
        },
        {
         "marker": {
          "size": 3
         },
         "type": "scatter3d",
         "x": [
          356.04895104895104
         ],
         "y": [
          676.995337995338
         ],
         "z": [
          19.946386946386948
         ]
        },
        {
         "marker": {
          "size": 3
         },
         "type": "scatter3d",
         "x": [
          598.2850877192982
         ],
         "y": [
          708.7587719298245
         ],
         "z": [
          19.31140350877193
         ]
        },
        {
         "marker": {
          "size": 3
         },
         "type": "scatter3d",
         "x": [
          195.6392523364486
         ],
         "y": [
          730.4598130841122
         ],
         "z": [
          21.38317757009346
         ]
        },
        {
         "marker": {
          "size": 3
         },
         "type": "scatter3d",
         "x": [
          430.9074074074074
         ],
         "y": [
          754.3024691358024
         ],
         "z": [
          19.858024691358025
         ]
        },
        {
         "marker": {
          "size": 3
         },
         "type": "scatter3d",
         "x": [
          537.4412698412698
         ],
         "y": [
          807.3396825396825
         ],
         "z": [
          20.025396825396825
         ]
        },
        {
         "marker": {
          "size": 3
         },
         "type": "scatter3d",
         "x": [
          241.82982171799028
         ],
         "y": [
          866.9529983792545
         ],
         "z": [
          21.179902755267424
         ]
        },
        {
         "marker": {
          "size": 3
         },
         "type": "scatter3d",
         "x": [
          212.3913043478261
         ],
         "y": [
          185.69565217391303
         ],
         "z": [
          18.206521739130434
         ]
        },
        {
         "marker": {
          "size": 3
         },
         "type": "scatter3d",
         "x": [
          493.8225806451613
         ],
         "y": [
          290.1290322580645
         ],
         "z": [
          18.508064516129032
         ]
        },
        {
         "marker": {
          "size": 3
         },
         "type": "scatter3d",
         "x": [
          465.06976744186045
         ],
         "y": [
          372.5581395348837
         ],
         "z": [
          18.86046511627907
         ]
        },
        {
         "marker": {
          "size": 3
         },
         "type": "scatter3d",
         "x": [
          338.55263157894734
         ],
         "y": [
          429.42105263157896
         ],
         "z": [
          19.289473684210527
         ]
        },
        {
         "marker": {
          "size": 3
         },
         "type": "scatter3d",
         "x": [
          606.2470588235294
         ],
         "y": [
          495.3176470588235
         ],
         "z": [
          18.894117647058824
         ]
        },
        {
         "marker": {
          "size": 3
         },
         "type": "scatter3d",
         "x": [
          103.43386243386243
         ],
         "y": [
          540.4444444444445
         ],
         "z": [
          21.38095238095238
         ]
        },
        {
         "marker": {
          "size": 3
         },
         "type": "scatter3d",
         "x": [
          184.67132867132867
         ],
         "y": [
          563.4335664335664
         ],
         "z": [
          19.18881118881119
         ]
        },
        {
         "marker": {
          "size": 3
         },
         "type": "scatter3d",
         "x": [
          351.54696132596683
         ],
         "y": [
          580.0662983425415
         ],
         "z": [
          21.472375690607734
         ]
        },
        {
         "marker": {
          "size": 3
         },
         "type": "scatter3d",
         "x": [
          86.30128205128206
         ],
         "y": [
          605.6923076923077
         ],
         "z": [
          20.365384615384617
         ]
        },
        {
         "marker": {
          "size": 3
         },
         "type": "scatter3d",
         "x": [
          596.7882037533512
         ],
         "y": [
          629.3136729222521
         ],
         "z": [
          26.55764075067024
         ]
        },
        {
         "marker": {
          "size": 3
         },
         "type": "scatter3d",
         "x": [
          427.1741293532338
         ],
         "y": [
          661.0431177446103
         ],
         "z": [
          22.623548922056386
         ]
        },
        {
         "marker": {
          "size": 3
         },
         "type": "scatter3d",
         "x": [
          398.02508960573476
         ],
         "y": [
          675.0215053763441
         ],
         "z": [
          23.136200716845877
         ]
        },
        {
         "marker": {
          "size": 3
         },
         "type": "scatter3d",
         "x": [
          594.6256684491979
         ],
         "y": [
          697.8449197860963
         ],
         "z": [
          19.754010695187166
         ]
        },
        {
         "marker": {
          "size": 3
         },
         "type": "scatter3d",
         "x": [
          408.5
         ],
         "y": [
          718.8623188405797
         ],
         "z": [
          22.108695652173914
         ]
        },
        {
         "marker": {
          "size": 3
         },
         "type": "scatter3d",
         "x": [
          344.99696048632217
         ],
         "y": [
          744.5744680851063
         ],
         "z": [
          21.282674772036476
         ]
        },
        {
         "marker": {
          "size": 3
         },
         "type": "scatter3d",
         "x": [
          332.6532258064516
         ],
         "y": [
          790.6229838709677
         ],
         "z": [
          22.669354838709676
         ]
        },
        {
         "marker": {
          "size": 3
         },
         "type": "scatter3d",
         "x": [
          404.93333333333334
         ],
         "y": [
          847.1333333333333
         ],
         "z": [
          17.9
         ]
        },
        {
         "marker": {
          "size": 3
         },
         "type": "scatter3d",
         "x": [
          365.11764705882354
         ],
         "y": [
          897.6235294117647
         ],
         "z": [
          18.988235294117647
         ]
        },
        {
         "marker": {
          "size": 3
         },
         "type": "scatter3d",
         "x": [
          494.5701849836779
         ],
         "y": [
          292.8770402611534
         ],
         "z": [
          26.910772578890096
         ]
        },
        {
         "marker": {
          "size": 3
         },
         "type": "scatter3d",
         "x": [
          305.2962962962963
         ],
         "y": [
          346.5473251028807
         ],
         "z": [
          20.296296296296298
         ]
        },
        {
         "marker": {
          "size": 3
         },
         "type": "scatter3d",
         "x": [
          168.08530805687204
         ],
         "y": [
          430.26066350710903
         ],
         "z": [
          21.03791469194313
         ]
        },
        {
         "marker": {
          "size": 3
         },
         "type": "scatter3d",
         "x": [
          380.54455445544556
         ],
         "y": [
          534.8435643564356
         ],
         "z": [
          24.54059405940594
         ]
        },
        {
         "marker": {
          "size": 3
         },
         "type": "scatter3d",
         "x": [
          675.921875
         ],
         "y": [
          594.46875
         ],
         "z": [
          21
         ]
        },
        {
         "marker": {
          "size": 3
         },
         "type": "scatter3d",
         "x": [
          656.1882183908046
         ],
         "y": [
          639.9899425287356
         ],
         "z": [
          26.60919540229885
         ]
        },
        {
         "marker": {
          "size": 3
         },
         "type": "scatter3d",
         "x": [
          465.26421404682276
         ],
         "y": [
          697.0668896321071
         ],
         "z": [
          23.48829431438127
         ]
        },
        {
         "marker": {
          "size": 3
         },
         "type": "scatter3d",
         "x": [
          276.82608695652175
         ],
         "y": [
          754.4782608695652
         ],
         "z": [
          19.608695652173914
         ]
        },
        {
         "marker": {
          "size": 3
         },
         "type": "scatter3d",
         "x": [
          197.20454545454547
         ],
         "y": [
          812.2954545454545
         ],
         "z": [
          19.84090909090909
         ]
        },
        {
         "marker": {
          "size": 3
         },
         "type": "scatter3d",
         "x": [
          532.4733969986357
         ],
         "y": [
          225.85538881309685
         ],
         "z": [
          26.15825375170532
         ]
        },
        {
         "marker": {
          "size": 3
         },
         "type": "scatter3d",
         "x": [
          531.6830601092896
         ],
         "y": [
          374.0054644808743
         ],
         "z": [
          25.469945355191257
         ]
        },
        {
         "marker": {
          "size": 3
         },
         "type": "scatter3d",
         "x": [
          667.5490196078431
         ],
         "y": [
          432.37254901960785
         ],
         "z": [
          20.294117647058822
         ]
        },
        {
         "marker": {
          "size": 3
         },
         "type": "scatter3d",
         "x": [
          373.14285714285717
         ],
         "y": [
          495.04
         ],
         "z": [
          22.125714285714285
         ]
        },
        {
         "marker": {
          "size": 3
         },
         "type": "scatter3d",
         "x": [
          105.94871794871794
         ],
         "y": [
          551.3589743589744
         ],
         "z": [
          22.811965811965813
         ]
        },
        {
         "marker": {
          "size": 3
         },
         "type": "scatter3d",
         "x": [
          637.1941747572815
         ],
         "y": [
          586.0097087378641
         ],
         "z": [
          23.233009708737864
         ]
        },
        {
         "marker": {
          "size": 3
         },
         "type": "scatter3d",
         "x": [
          570.183066361556
         ],
         "y": [
          652.695652173913
         ],
         "z": [
          25.130434782608695
         ]
        },
        {
         "marker": {
          "size": 3
         },
         "type": "scatter3d",
         "x": [
          339.6345029239766
         ],
         "y": [
          695.578947368421
         ],
         "z": [
          25.099415204678362
         ]
        },
        {
         "marker": {
          "size": 3
         },
         "type": "scatter3d",
         "x": [
          220.321083172147
         ],
         "y": [
          733.9245647969052
         ],
         "z": [
          23.429400386847195
         ]
        },
        {
         "marker": {
          "size": 3
         },
         "type": "scatter3d",
         "x": [
          526.7744680851064
         ],
         "y": [
          789.4978723404255
         ],
         "z": [
          22.45531914893617
         ]
        },
        {
         "marker": {
          "size": 3
         },
         "type": "scatter3d",
         "x": [
          253.59585492227978
         ],
         "y": [
          880.6269430051814
         ],
         "z": [
          21.55440414507772
         ]
        },
        {
         "marker": {
          "size": 3
         },
         "type": "scatter3d",
         "x": [
          575.7058823529412
         ],
         "y": [
          302.27450980392155
         ],
         "z": [
          25.45098039215686
         ]
        },
        {
         "marker": {
          "size": 3
         },
         "type": "scatter3d",
         "x": [
          76.82424242424243
         ],
         "y": [
          347.8636363636364
         ],
         "z": [
          28.21060606060606
         ]
        },
        {
         "marker": {
          "size": 3
         },
         "type": "scatter3d",
         "x": [
          90.14583333333333
         ],
         "y": [
          412.125
         ],
         "z": [
          20.645833333333332
         ]
        },
        {
         "marker": {
          "size": 3
         },
         "type": "scatter3d",
         "x": [
          344.64044943820227
         ],
         "y": [
          517.314606741573
         ],
         "z": [
          20.95505617977528
         ]
        },
        {
         "marker": {
          "size": 3
         },
         "type": "scatter3d",
         "x": [
          69.25980392156863
         ],
         "y": [
          557.5049019607843
         ],
         "z": [
          23.46078431372549
         ]
        },
        {
         "marker": {
          "size": 3
         },
         "type": "scatter3d",
         "x": [
          221.22388059701493
         ],
         "y": [
          596.6417910447761
         ],
         "z": [
          21.80597014925373
         ]
        },
        {
         "marker": {
          "size": 3
         },
         "type": "scatter3d",
         "x": [
          265.15606936416185
         ],
         "y": [
          652.7630057803468
         ],
         "z": [
          22.878612716763005
         ]
        },
        {
         "marker": {
          "size": 3
         },
         "type": "scatter3d",
         "x": [
          276.54976303317534
         ],
         "y": [
          711.8578199052133
         ],
         "z": [
          25.497630331753555
         ]
        },
        {
         "marker": {
          "size": 3
         },
         "type": "scatter3d",
         "x": [
          388.8288590604027
         ],
         "y": [
          742.3959731543624
         ],
         "z": [
          25.66778523489933
         ]
        },
        {
         "marker": {
          "size": 3
         },
         "type": "scatter3d",
         "x": [
          342.1458333333333
         ],
         "y": [
          796.625
         ],
         "z": [
          20.9375
         ]
        },
        {
         "marker": {
          "size": 3
         },
         "type": "scatter3d",
         "x": [
          423.7
         ],
         "y": [
          875.50625
         ],
         "z": [
          22.08125
         ]
        },
        {
         "marker": {
          "size": 3
         },
         "type": "scatter3d",
         "x": [
          266.15714285714284
         ],
         "y": [
          308.9157142857143
         ],
         "z": [
          26.912857142857142
         ]
        },
        {
         "marker": {
          "size": 3
         },
         "type": "scatter3d",
         "x": [
          132.02564102564102
         ],
         "y": [
          369.11965811965814
         ],
         "z": [
          23.367521367521366
         ]
        },
        {
         "marker": {
          "size": 3
         },
         "type": "scatter3d",
         "x": [
          503.21367521367523
         ],
         "y": [
          525.5213675213676
         ],
         "z": [
          22.837606837606838
         ]
        },
        {
         "marker": {
          "size": 3
         },
         "type": "scatter3d",
         "x": [
          195.53793103448277
         ],
         "y": [
          573.9724137931034
         ],
         "z": [
          23.586206896551722
         ]
        },
        {
         "marker": {
          "size": 3
         },
         "type": "scatter3d",
         "x": [
          93.27065527065527
         ],
         "y": [
          629.2022792022792
         ],
         "z": [
          26.797720797720796
         ]
        },
        {
         "marker": {
          "size": 3
         },
         "type": "scatter3d",
         "x": [
          115.03171641791045
         ],
         "y": [
          666.0764925373135
         ],
         "z": [
          27.708955223880597
         ]
        },
        {
         "marker": {
          "size": 3
         },
         "type": "scatter3d",
         "x": [
          542.4166666666666
         ],
         "y": [
          737.7685185185185
         ],
         "z": [
          22.944444444444443
         ]
        },
        {
         "marker": {
          "size": 3
         },
         "type": "scatter3d",
         "x": [
          462.5924369747899
         ],
         "y": [
          825.281512605042
         ],
         "z": [
          24.15126050420168
         ]
        },
        {
         "marker": {
          "size": 3
         },
         "type": "scatter3d",
         "x": [
          393.3355263157895
         ],
         "y": [
          198.56140350877192
         ],
         "z": [
          25.109649122807017
         ]
        },
        {
         "marker": {
          "size": 3
         },
         "type": "scatter3d",
         "x": [
          591.1503105590062
         ],
         "y": [
          287.30186335403727
         ],
         "z": [
          27.891925465838508
         ]
        },
        {
         "marker": {
          "size": 3
         },
         "type": "scatter3d",
         "x": [
          268.45081967213116
         ],
         "y": [
          390.9549180327869
         ],
         "z": [
          24.991803278688526
         ]
        },
        {
         "marker": {
          "size": 3
         },
         "type": "scatter3d",
         "x": [
          550.1912751677852
         ],
         "y": [
          484.73825503355704
         ],
         "z": [
          26.963087248322147
         ]
        },
        {
         "marker": {
          "size": 3
         },
         "type": "scatter3d",
         "x": [
          300.87692307692305
         ],
         "y": [
          588.4153846153846
         ],
         "z": [
          23.06153846153846
         ]
        },
        {
         "marker": {
          "size": 3
         },
         "type": "scatter3d",
         "x": [
          259.5272727272727
         ],
         "y": [
          644.6363636363636
         ],
         "z": [
          24.854545454545455
         ]
        },
        {
         "marker": {
          "size": 3
         },
         "type": "scatter3d",
         "x": [
          629.4673123486683
         ],
         "y": [
          700.6150121065375
         ],
         "z": [
          27.605326876513317
         ]
        },
        {
         "marker": {
          "size": 3
         },
         "type": "scatter3d",
         "x": [
          376.53333333333336
         ],
         "y": [
          810.4333333333333
         ],
         "z": [
          24.857142857142858
         ]
        },
        {
         "marker": {
          "size": 3
         },
         "type": "scatter3d",
         "x": [
          190.24242424242425
         ],
         "y": [
          891.5909090909091
         ],
         "z": [
          22.818181818181817
         ]
        },
        {
         "marker": {
          "size": 3
         },
         "type": "scatter3d",
         "x": [
          359.47115384615387
         ],
         "y": [
          253.53205128205127
         ],
         "z": [
          26.55448717948718
         ]
        },
        {
         "marker": {
          "size": 3
         },
         "type": "scatter3d",
         "x": [
          212.94551282051282
         ],
         "y": [
          311.75320512820514
         ],
         "z": [
          25.923076923076923
         ]
        },
        {
         "marker": {
          "size": 3
         },
         "type": "scatter3d",
         "x": [
          500.6823529411765
         ],
         "y": [
          364.55882352941177
         ],
         "z": [
          26.28235294117647
         ]
        },
        {
         "marker": {
          "size": 3
         },
         "type": "scatter3d",
         "x": [
          681.047619047619
         ],
         "y": [
          426.76190476190476
         ],
         "z": [
          24.095238095238095
         ]
        },
        {
         "marker": {
          "size": 3
         },
         "type": "scatter3d",
         "x": [
          401.82022471910113
         ],
         "y": [
          482.89325842696627
         ],
         "z": [
          26.685393258426966
         ]
        },
        {
         "marker": {
          "size": 3
         },
         "type": "scatter3d",
         "x": [
          326.4018018018018
         ],
         "y": [
          562.3891891891892
         ],
         "z": [
          28.036036036036037
         ]
        },
        {
         "marker": {
          "size": 3
         },
         "type": "scatter3d",
         "x": [
          221.30841121495328
         ],
         "y": [
          604.8831775700935
         ],
         "z": [
          27.2196261682243
         ]
        },
        {
         "marker": {
          "size": 3
         },
         "type": "scatter3d",
         "x": [
          654.4270270270271
         ],
         "y": [
          651.6378378378379
         ],
         "z": [
          25.7027027027027
         ]
        },
        {
         "marker": {
          "size": 3
         },
         "type": "scatter3d",
         "x": [
          376.3316582914573
         ],
         "y": [
          673.1256281407035
         ],
         "z": [
          26.844221105527637
         ]
        },
        {
         "marker": {
          "size": 3
         },
         "type": "scatter3d",
         "x": [
          176.3416149068323
         ],
         "y": [
          741.4844720496894
         ],
         "z": [
          25.167701863354036
         ]
        },
        {
         "marker": {
          "size": 3
         },
         "type": "scatter3d",
         "x": [
          432.9142857142857
         ],
         "y": [
          801.1714285714286
         ],
         "z": [
          25.02857142857143
         ]
        },
        {
         "marker": {
          "size": 3
         },
         "type": "scatter3d",
         "x": [
          328.63731656184484
         ],
         "y": [
          890.6163522012579
         ],
         "z": [
          27.742138364779873
         ]
        },
        {
         "marker": {
          "size": 3
         },
         "type": "scatter3d",
         "x": [
          357.35942028985505
         ],
         "y": [
          211.4
         ],
         "z": [
          27.57391304347826
         ]
        },
        {
         "marker": {
          "size": 3
         },
         "type": "scatter3d",
         "x": [
          291.3769123783032
         ],
         "y": [
          274.4770514603616
         ],
         "z": [
          28.385257301808068
         ]
        },
        {
         "marker": {
          "size": 3
         },
         "type": "scatter3d",
         "x": [
          365.31853785900785
         ],
         "y": [
          307.3028720626632
         ],
         "z": [
          26.655352480417754
         ]
        },
        {
         "marker": {
          "size": 3
         },
         "type": "scatter3d",
         "x": [
          329.7326968973747
         ],
         "y": [
          330.1312649164678
         ],
         "z": [
          27.73508353221957
         ]
        },
        {
         "marker": {
          "size": 3
         },
         "type": "scatter3d",
         "x": [
          249.2764705882353
         ],
         "y": [
          347.70588235294116
         ],
         "z": [
          28.041176470588237
         ]
        },
        {
         "marker": {
          "size": 3
         },
         "type": "scatter3d",
         "x": [
          208.7396694214876
         ],
         "y": [
          370.74380165289256
         ],
         "z": [
          28.83884297520661
         ]
        },
        {
         "marker": {
          "size": 3
         },
         "type": "scatter3d",
         "x": [
          128.23880597014926
         ],
         "y": [
          397.1223880597015
         ],
         "z": [
          28.913432835820895
         ]
        },
        {
         "marker": {
          "size": 3
         },
         "type": "scatter3d",
         "x": [
          35.273109243697476
         ],
         "y": [
          415.5546218487395
         ],
         "z": [
          28.852941176470587
         ]
        },
        {
         "marker": {
          "size": 3
         },
         "type": "scatter3d",
         "x": [
          165.69345238095238
         ],
         "y": [
          446.0595238095238
         ],
         "z": [
          27.196428571428573
         ]
        },
        {
         "marker": {
          "size": 3
         },
         "type": "scatter3d",
         "x": [
          188.97
         ],
         "y": [
          470.335
         ],
         "z": [
          27.555
         ]
        },
        {
         "marker": {
          "size": 3
         },
         "type": "scatter3d",
         "x": [
          514.4704049844237
         ],
         "y": [
          491.9595015576324
         ],
         "z": [
          27.68847352024922
         ]
        },
        {
         "marker": {
          "size": 3
         },
         "type": "scatter3d",
         "x": [
          366.3213166144201
         ],
         "y": [
          527.3354231974922
         ],
         "z": [
          30.100313479623825
         ]
        },
        {
         "marker": {
          "size": 3
         },
         "type": "scatter3d",
         "x": [
          81.32222222222222
         ],
         "y": [
          556.1
         ],
         "z": [
          25.333333333333332
         ]
        },
        {
         "marker": {
          "size": 3
         },
         "type": "scatter3d",
         "x": [
          316.7384259259259
         ],
         "y": [
          585.175925925926
         ],
         "z": [
          27.775462962962962
         ]
        },
        {
         "marker": {
          "size": 3
         },
         "type": "scatter3d",
         "x": [
          279.20249221183803
         ],
         "y": [
          603.4579439252336
         ],
         "z": [
          28.327102803738317
         ]
        },
        {
         "marker": {
          "size": 3
         },
         "type": "scatter3d",
         "x": [
          246.2290076335878
         ],
         "y": [
          630.4732824427481
         ],
         "z": [
          27.801526717557252
         ]
        },
        {
         "marker": {
          "size": 3
         },
         "type": "scatter3d",
         "x": [
          628.0606936416185
         ],
         "y": [
          661.5086705202312
         ],
         "z": [
          29.245664739884393
         ]
        },
        {
         "marker": {
          "size": 3
         },
         "type": "scatter3d",
         "x": [
          371.65432098765433
         ],
         "y": [
          682.716049382716
         ],
         "z": [
          25.48148148148148
         ]
        },
        {
         "marker": {
          "size": 3
         },
         "type": "scatter3d",
         "x": [
          479.0220588235294
         ],
         "y": [
          723.4926470588235
         ],
         "z": [
          26.345588235294116
         ]
        },
        {
         "marker": {
          "size": 3
         },
         "type": "scatter3d",
         "x": [
          305.4712643678161
         ],
         "y": [
          754.919540229885
         ],
         "z": [
          27
         ]
        },
        {
         "marker": {
          "size": 3
         },
         "type": "scatter3d",
         "x": [
          181.1818181818182
         ],
         "y": [
          794.0104895104895
         ],
         "z": [
          27.216783216783217
         ]
        },
        {
         "marker": {
          "size": 3
         },
         "type": "scatter3d",
         "x": [
          363.5345911949685
         ],
         "y": [
          826.2830188679245
         ],
         "z": [
          26.371069182389938
         ]
        },
        {
         "marker": {
          "size": 3
         },
         "type": "scatter3d",
         "x": [
          288.16149068322983
         ],
         "y": [
          887.223602484472
         ],
         "z": [
          25.981366459627328
         ]
        },
        {
         "marker": {
          "size": 3
         },
         "type": "scatter3d",
         "x": [
          375.1454545454545
         ],
         "y": [
          183.8181818181818
         ],
         "z": [
          26.12727272727273
         ]
        },
        {
         "marker": {
          "size": 3
         },
         "type": "scatter3d",
         "x": [
          461.57437070938215
         ],
         "y": [
          241.22425629290618
         ],
         "z": [
          30.553775743707092
         ]
        },
        {
         "marker": {
          "size": 3
         },
         "type": "scatter3d",
         "x": [
          381.8305785123967
         ],
         "y": [
          290.41735537190084
         ],
         "z": [
          30.268595041322314
         ]
        },
        {
         "marker": {
          "size": 3
         },
         "type": "scatter3d",
         "x": [
          308.59842519685037
         ],
         "y": [
          318.70472440944883
         ],
         "z": [
          28.10236220472441
         ]
        },
        {
         "marker": {
          "size": 3
         },
         "type": "scatter3d",
         "x": [
          484.5732009925558
         ],
         "y": [
          342.545905707196
         ],
         "z": [
          29.53846153846154
         ]
        },
        {
         "marker": {
          "size": 3
         },
         "type": "scatter3d",
         "x": [
          299.55128205128204
         ],
         "y": [
          360.5769230769231
         ],
         "z": [
          27.03846153846154
         ]
        },
        {
         "marker": {
          "size": 3
         },
         "type": "scatter3d",
         "x": [
          622.2289156626506
         ],
         "y": [
          395.12048192771084
         ],
         "z": [
          26.72289156626506
         ]
        },
        {
         "marker": {
          "size": 3
         },
         "type": "scatter3d",
         "x": [
          336.84375
         ],
         "y": [
          424.01785714285717
         ],
         "z": [
          28.522321428571427
         ]
        },
        {
         "marker": {
          "size": 3
         },
         "type": "scatter3d",
         "x": [
          258.55299539170505
         ],
         "y": [
          458.06451612903226
         ],
         "z": [
          28.225806451612904
         ]
        },
        {
         "marker": {
          "size": 3
         },
         "type": "scatter3d",
         "x": [
          53.17894736842105
         ],
         "y": [
          499.18947368421055
         ],
         "z": [
          27.05263157894737
         ]
        },
        {
         "marker": {
          "size": 3
         },
         "type": "scatter3d",
         "x": [
          459.80392156862746
         ],
         "y": [
          512.2156862745098
         ],
         "z": [
          27.895424836601308
         ]
        },
        {
         "marker": {
          "size": 3
         },
         "type": "scatter3d",
         "x": [
          322.17241379310343
         ],
         "y": [
          548.7586206896551
         ],
         "z": [
          27.310344827586206
         ]
        },
        {
         "marker": {
          "size": 3
         },
         "type": "scatter3d",
         "x": [
          646
         ],
         "y": [
          565.969696969697
         ],
         "z": [
          28.484848484848484
         ]
        },
        {
         "marker": {
          "size": 3
         },
         "type": "scatter3d",
         "x": [
          531.3421052631579
         ],
         "y": [
          595.1052631578947
         ],
         "z": [
          25.68421052631579
         ]
        },
        {
         "marker": {
          "size": 3
         },
         "type": "scatter3d",
         "x": [
          180.73214285714286
         ],
         "y": [
          628.6607142857143
         ],
         "z": [
          26.696428571428573
         ]
        },
        {
         "marker": {
          "size": 3
         },
         "type": "scatter3d",
         "x": [
          532.1871165644171
         ],
         "y": [
          649.6349693251534
         ],
         "z": [
          31.334355828220858
         ]
        },
        {
         "marker": {
          "size": 3
         },
         "type": "scatter3d",
         "x": [
          348.8272727272727
         ],
         "y": [
          676.9818181818182
         ],
         "z": [
          26.7
         ]
        },
        {
         "marker": {
          "size": 3
         },
         "type": "scatter3d",
         "x": [
          538.688596491228
         ],
         "y": [
          700.1228070175439
         ],
         "z": [
          27.973684210526315
         ]
        },
        {
         "marker": {
          "size": 3
         },
         "type": "scatter3d",
         "x": [
          332.0563909774436
         ],
         "y": [
          740.5037593984962
         ],
         "z": [
          29.714285714285715
         ]
        },
        {
         "marker": {
          "size": 3
         },
         "type": "scatter3d",
         "x": [
          200.0909090909091
         ],
         "y": [
          786.1818181818181
         ],
         "z": [
          25.363636363636363
         ]
        },
        {
         "marker": {
          "size": 3
         },
         "type": "scatter3d",
         "x": [
          269.1925925925926
         ],
         "y": [
          812.237037037037
         ],
         "z": [
          27.511111111111113
         ]
        },
        {
         "marker": {
          "size": 3
         },
         "type": "scatter3d",
         "x": [
          219.47413793103448
         ],
         "y": [
          855.2586206896551
         ],
         "z": [
          28.43103448275862
         ]
        },
        {
         "marker": {
          "size": 3
         },
         "type": "scatter3d",
         "x": [
          344.7567567567568
         ],
         "y": [
          211.9189189189189
         ],
         "z": [
          27.08108108108108
         ]
        },
        {
         "marker": {
          "size": 3
         },
         "type": "scatter3d",
         "x": [
          474
         ],
         "y": [
          288.77777777777777
         ],
         "z": [
          26.555555555555557
         ]
        },
        {
         "marker": {
          "size": 3
         },
         "type": "scatter3d",
         "x": [
          160.55172413793105
         ],
         "y": [
          324.048275862069
         ],
         "z": [
          29.8
         ]
        },
        {
         "marker": {
          "size": 3
         },
         "type": "scatter3d",
         "x": [
          470.55
         ],
         "y": [
          370.06363636363636
         ],
         "z": [
          29.454545454545453
         ]
        },
        {
         "marker": {
          "size": 3
         },
         "type": "scatter3d",
         "x": [
          251.78985507246378
         ],
         "y": [
          421.8623188405797
         ],
         "z": [
          28.028985507246375
         ]
        },
        {
         "marker": {
          "size": 3
         },
         "type": "scatter3d",
         "x": [
          537.351606805293
         ],
         "y": [
          499.7202268431002
         ],
         "z": [
          32.20037807183365
         ]
        },
        {
         "marker": {
          "size": 3
         },
         "type": "scatter3d",
         "x": [
          128.35078534031413
         ],
         "y": [
          560.3089005235602
         ],
         "z": [
          29.172774869109947
         ]
        },
        {
         "marker": {
          "size": 3
         },
         "type": "scatter3d",
         "x": [
          546.1984126984127
         ],
         "y": [
          624.4396825396825
         ],
         "z": [
          33.65238095238095
         ]
        },
        {
         "marker": {
          "size": 3
         },
         "type": "scatter3d",
         "x": [
          356.969696969697
         ],
         "y": [
          687.030303030303
         ],
         "z": [
          26.272727272727273
         ]
        },
        {
         "marker": {
          "size": 3
         },
         "type": "scatter3d",
         "x": [
          289.6
         ],
         "y": [
          731.8888888888889
         ],
         "z": [
          27.68888888888889
         ]
        },
        {
         "marker": {
          "size": 3
         },
         "type": "scatter3d",
         "x": [
          413.6186440677966
         ],
         "y": [
          810.8135593220339
         ],
         "z": [
          29.449152542372882
         ]
        },
        {
         "marker": {
          "size": 3
         },
         "type": "scatter3d",
         "x": [
          370.2880434782609
         ],
         "y": [
          145.77717391304347
         ],
         "z": [
          30.847826086956523
         ]
        },
        {
         "marker": {
          "size": 3
         },
         "type": "scatter3d",
         "x": [
          527.5089285714286
         ],
         "y": [
          264.11011904761904
         ],
         "z": [
          32.42857142857143
         ]
        },
        {
         "marker": {
          "size": 3
         },
         "type": "scatter3d",
         "x": [
          413.27570093457945
         ],
         "y": [
          369.64953271028037
         ],
         "z": [
          31.3411214953271
         ]
        },
        {
         "marker": {
          "size": 3
         },
         "type": "scatter3d",
         "x": [
          708.3461538461538
         ],
         "y": [
          490
         ],
         "z": [
          27.346153846153847
         ]
        },
        {
         "marker": {
          "size": 3
         },
         "type": "scatter3d",
         "x": [
          371.6354166666667
         ],
         "y": [
          563.125
         ],
         "z": [
          30.475694444444443
         ]
        },
        {
         "marker": {
          "size": 3
         },
         "type": "scatter3d",
         "x": [
          230.5529411764706
         ],
         "y": [
          603.7647058823529
         ],
         "z": [
          29.63529411764706
         ]
        },
        {
         "marker": {
          "size": 3
         },
         "type": "scatter3d",
         "x": [
          670.7208121827412
         ],
         "y": [
          679.5786802030457
         ],
         "z": [
          31.15736040609137
         ]
        },
        {
         "marker": {
          "size": 3
         },
         "type": "scatter3d",
         "x": [
          520.1398601398602
         ],
         "y": [
          751.6083916083916
         ],
         "z": [
          29.874125874125873
         ]
        },
        {
         "marker": {
          "size": 3
         },
         "type": "scatter3d",
         "x": [
          213.33333333333334
         ],
         "y": [
          862.8333333333334
         ],
         "z": [
          28.071428571428573
         ]
        },
        {
         "marker": {
          "size": 3
         },
         "type": "scatter3d",
         "x": [
          490.578125
         ],
         "y": [
          206.71875
         ],
         "z": [
          28.828125
         ]
        },
        {
         "marker": {
          "size": 3
         },
         "type": "scatter3d",
         "x": [
          115.74
         ],
         "y": [
          294.38
         ],
         "z": [
          28.9
         ]
        },
        {
         "marker": {
          "size": 3
         },
         "type": "scatter3d",
         "x": [
          426.07020872865274
         ],
         "y": [
          349.21252371916506
         ],
         "z": [
          33.326375711574954
         ]
        },
        {
         "marker": {
          "size": 3
         },
         "type": "scatter3d",
         "x": [
          418.8193018480493
         ],
         "y": [
          509.21560574948666
         ],
         "z": [
          33.07597535934291
         ]
        },
        {
         "marker": {
          "size": 3
         },
         "type": "scatter3d",
         "x": [
          553.3269230769231
         ],
         "y": [
          572.2115384615385
         ],
         "z": [
          31.541666666666668
         ]
        },
        {
         "marker": {
          "size": 3
         },
         "type": "scatter3d",
         "x": [
          145.35714285714286
         ],
         "y": [
          621.3571428571429
         ],
         "z": [
          29.37142857142857
         ]
        },
        {
         "marker": {
          "size": 3
         },
         "type": "scatter3d",
         "x": [
          394.7083333333333
         ],
         "y": [
          705.7135416666666
         ],
         "z": [
          31.145833333333332
         ]
        },
        {
         "marker": {
          "size": 3
         },
         "type": "scatter3d",
         "x": [
          562.4833333333333
         ],
         "y": [
          826.5166666666667
         ],
         "z": [
          29.016666666666666
         ]
        },
        {
         "marker": {
          "size": 3
         },
         "type": "scatter3d",
         "x": [
          446.455205811138
         ],
         "y": [
          136.91767554479418
         ],
         "z": [
          32.753026634382564
         ]
        },
        {
         "marker": {
          "size": 3
         },
         "type": "scatter3d",
         "x": [
          438.83892617449663
         ],
         "y": [
          264.241610738255
         ],
         "z": [
          31.44295302013423
         ]
        },
        {
         "marker": {
          "size": 3
         },
         "type": "scatter3d",
         "x": [
          534.8844537815127
         ],
         "y": [
          298.3046218487395
         ],
         "z": [
          34.359243697478995
         ]
        },
        {
         "marker": {
          "size": 3
         },
         "type": "scatter3d",
         "x": [
          38.53521126760563
         ],
         "y": [
          360.61971830985914
         ],
         "z": [
          31.43661971830986
         ]
        },
        {
         "marker": {
          "size": 3
         },
         "type": "scatter3d",
         "x": [
          492.8837209302326
         ],
         "y": [
          379.5813953488372
         ],
         "z": [
          32.92054263565891
         ]
        },
        {
         "marker": {
          "size": 3
         },
         "type": "scatter3d",
         "x": [
          355.74747474747477
         ],
         "y": [
          489.34343434343435
         ],
         "z": [
          31.353535353535353
         ]
        },
        {
         "marker": {
          "size": 3
         },
         "type": "scatter3d",
         "x": [
          502.12581699346407
         ],
         "y": [
          535.7124183006536
         ],
         "z": [
          34.77450980392157
         ]
        },
        {
         "marker": {
          "size": 3
         },
         "type": "scatter3d",
         "x": [
          691.3243243243244
         ],
         "y": [
          582.1081081081081
         ],
         "z": [
          31.864864864864863
         ]
        },
        {
         "marker": {
          "size": 3
         },
         "type": "scatter3d",
         "x": [
          563.3825757575758
         ],
         "y": [
          646.1363636363636
         ],
         "z": [
          35.041666666666664
         ]
        },
        {
         "marker": {
          "size": 3
         },
         "type": "scatter3d",
         "x": [
          442.1212121212121
         ],
         "y": [
          702.5227272727273
         ],
         "z": [
          31.477272727272727
         ]
        },
        {
         "marker": {
          "size": 3
         },
         "type": "scatter3d",
         "x": [
          340
         ],
         "y": [
          755.2535211267606
         ],
         "z": [
          31.676056338028168
         ]
        },
        {
         "marker": {
          "size": 3
         },
         "type": "scatter3d",
         "x": [
          324.3652173913043
         ],
         "y": [
          887.5739130434782
         ],
         "z": [
          30.443478260869565
         ]
        },
        {
         "marker": {
          "size": 3
         },
         "type": "scatter3d",
         "x": [
          395.3333333333333
         ],
         "y": [
          210
         ],
         "z": [
          31.333333333333332
         ]
        },
        {
         "marker": {
          "size": 3
         },
         "type": "scatter3d",
         "x": [
          211.26530612244898
         ],
         "y": [
          293.55102040816325
         ],
         "z": [
          29.79591836734694
         ]
        },
        {
         "marker": {
          "size": 3
         },
         "type": "scatter3d",
         "x": [
          381.88757396449705
         ],
         "y": [
          359.9260355029586
         ],
         "z": [
          33.875739644970416
         ]
        },
        {
         "marker": {
          "size": 3
         },
         "type": "scatter3d",
         "x": [
          155.8991825613079
         ],
         "y": [
          438.01089918256133
         ],
         "z": [
          33.62942779291553
         ]
        },
        {
         "marker": {
          "size": 3
         },
         "type": "scatter3d",
         "x": [
          403.9306930693069
         ],
         "y": [
          549.019801980198
         ],
         "z": [
          33.01485148514851
         ]
        },
        {
         "marker": {
          "size": 3
         },
         "type": "scatter3d",
         "x": [
          403.1869918699187
         ],
         "y": [
          592.4878048780488
         ],
         "z": [
          31.804878048780488
         ]
        },
        {
         "marker": {
          "size": 3
         },
         "type": "scatter3d",
         "x": [
          386.37813211845105
         ],
         "y": [
          631.2437357630979
         ],
         "z": [
          35.51708428246014
         ]
        },
        {
         "marker": {
          "size": 3
         },
         "type": "scatter3d",
         "x": [
          312.7402597402597
         ],
         "y": [
          691.237012987013
         ],
         "z": [
          34.077922077922075
         ]
        },
        {
         "marker": {
          "size": 3
         },
         "type": "scatter3d",
         "x": [
          272.47169811320754
         ],
         "y": [
          749.1320754716982
         ],
         "z": [
          30.58490566037736
         ]
        },
        {
         "marker": {
          "size": 3
         },
         "type": "scatter3d",
         "x": [
          516.1089108910891
         ],
         "y": [
          846.1782178217821
         ],
         "z": [
          33.722772277227726
         ]
        },
        {
         "marker": {
          "size": 3
         },
         "type": "scatter3d",
         "x": [
          225.98979591836735
         ],
         "y": [
          158.6904761904762
         ],
         "z": [
          35.33673469387755
         ]
        },
        {
         "marker": {
          "size": 3
         },
         "type": "scatter3d",
         "x": [
          492.13592233009706
         ],
         "y": [
          239.4368932038835
         ],
         "z": [
          34.74757281553398
         ]
        },
        {
         "marker": {
          "size": 3
         },
         "type": "scatter3d",
         "x": [
          424.9759036144578
         ],
         "y": [
          368.8433734939759
         ],
         "z": [
          33.44578313253012
         ]
        },
        {
         "marker": {
          "size": 3
         },
         "type": "scatter3d",
         "x": [
          653.7844827586207
         ],
         "y": [
          528.0086206896551
         ],
         "z": [
          33.51724137931034
         ]
        },
        {
         "marker": {
          "size": 3
         },
         "type": "scatter3d",
         "x": [
          561.5385802469136
         ],
         "y": [
          579.7484567901234
         ],
         "z": [
          38.06635802469136
         ]
        },
        {
         "marker": {
          "size": 3
         },
         "type": "scatter3d",
         "x": [
          386.0984848484849
         ],
         "y": [
          653.9621212121212
         ],
         "z": [
          32.90151515151515
         ]
        },
        {
         "marker": {
          "size": 3
         },
         "type": "scatter3d",
         "x": [
          371.89230769230767
         ],
         "y": [
          819.5076923076923
         ],
         "z": [
          31.784615384615385
         ]
        },
        {
         "marker": {
          "size": 3
         },
         "type": "scatter3d",
         "x": [
          330.41818181818184
         ],
         "y": [
          143.0909090909091
         ],
         "z": [
          33.654545454545456
         ]
        },
        {
         "marker": {
          "size": 3
         },
         "type": "scatter3d",
         "x": [
          148.45991561181435
         ],
         "y": [
          239.62447257383965
         ],
         "z": [
          33.92827004219409
         ]
        },
        {
         "marker": {
          "size": 3
         },
         "type": "scatter3d",
         "x": [
          302.1923076923077
         ],
         "y": [
          293
         ],
         "z": [
          33.61538461538461
         ]
        },
        {
         "marker": {
          "size": 3
         },
         "type": "scatter3d",
         "x": [
          94.06818181818181
         ],
         "y": [
          342.8238636363636
         ],
         "z": [
          35.40909090909091
         ]
        },
        {
         "marker": {
          "size": 3
         },
         "type": "scatter3d",
         "x": [
          53.43478260869565
         ],
         "y": [
          404.4
         ],
         "z": [
          35.130434782608695
         ]
        },
        {
         "marker": {
          "size": 3
         },
         "type": "scatter3d",
         "x": [
          348.2530120481928
         ],
         "y": [
          502.7409638554217
         ],
         "z": [
          36.09036144578313
         ]
        },
        {
         "marker": {
          "size": 3
         },
         "type": "scatter3d",
         "x": [
          560.4950298210736
         ],
         "y": [
          553.7395626242545
         ],
         "z": [
          39.82703777335984
         ]
        },
        {
         "marker": {
          "size": 3
         },
         "type": "scatter3d",
         "x": [
          463.87254901960785
         ],
         "y": [
          604.9019607843137
         ],
         "z": [
          34.411764705882355
         ]
        },
        {
         "marker": {
          "size": 3
         },
         "type": "scatter3d",
         "x": [
          312.57954545454544
         ],
         "y": [
          661.6477272727273
         ],
         "z": [
          32.93181818181818
         ]
        },
        {
         "marker": {
          "size": 3
         },
         "type": "scatter3d",
         "x": [
          332.72222222222223
         ],
         "y": [
          778.716049382716
         ],
         "z": [
          34.5
         ]
        },
        {
         "marker": {
          "size": 3
         },
         "type": "scatter3d",
         "x": [
          382.6379928315412
         ],
         "y": [
          94.79928315412187
         ],
         "z": [
          36.71326164874552
         ]
        },
        {
         "marker": {
          "size": 3
         },
         "type": "scatter3d",
         "x": [
          173.72
         ],
         "y": [
          196.4
         ],
         "z": [
          34.22
         ]
        },
        {
         "marker": {
          "size": 3
         },
         "type": "scatter3d",
         "x": [
          426.05
         ],
         "y": [
          313.82
         ],
         "z": [
          34.84
         ]
        },
        {
         "marker": {
          "size": 3
         },
         "type": "scatter3d",
         "x": [
          336.6764705882353
         ],
         "y": [
          360.2647058823529
         ],
         "z": [
          33.9264705882353
         ]
        },
        {
         "marker": {
          "size": 3
         },
         "type": "scatter3d",
         "x": [
          418.3125
         ],
         "y": [
          398.5625
         ],
         "z": [
          37.00480769230769
         ]
        },
        {
         "marker": {
          "size": 3
         },
         "type": "scatter3d",
         "x": [
          499.4918032786885
         ],
         "y": [
          494.61475409836066
         ],
         "z": [
          35.885245901639344
         ]
        },
        {
         "marker": {
          "size": 3
         },
         "type": "scatter3d",
         "x": [
          95.03703703703704
         ],
         "y": [
          578.1666666666666
         ],
         "z": [
          34.388888888888886
         ]
        },
        {
         "marker": {
          "size": 3
         },
         "type": "scatter3d",
         "x": [
          333.7247191011236
         ],
         "y": [
          635.0786516853933
         ],
         "z": [
          35.70786516853933
         ]
        },
        {
         "marker": {
          "size": 3
         },
         "type": "scatter3d",
         "x": [
          442.10198300283287
         ],
         "y": [
          697.1586402266289
         ],
         "z": [
          38.35127478753541
         ]
        },
        {
         "marker": {
          "size": 3
         },
         "type": "scatter3d",
         "x": [
          216.87719298245614
         ],
         "y": [
          55.64912280701754
         ],
         "z": [
          36.280701754385966
         ]
        },
        {
         "marker": {
          "size": 3
         },
         "type": "scatter3d",
         "x": [
          544.8469387755102
         ],
         "y": [
          142.35204081632654
         ],
         "z": [
          38.60204081632653
         ]
        },
        {
         "marker": {
          "size": 3
         },
         "type": "scatter3d",
         "x": [
          184.42608695652174
         ],
         "y": [
          205.65217391304347
         ],
         "z": [
          36.47826086956522
         ]
        },
        {
         "marker": {
          "size": 3
         },
         "type": "scatter3d",
         "x": [
          268.956862745098
         ],
         "y": [
          248.69019607843137
         ],
         "z": [
          36.77647058823529
         ]
        },
        {
         "marker": {
          "size": 3
         },
         "type": "scatter3d",
         "x": [
          599.9067524115756
         ],
         "y": [
          303.09324758842445
         ],
         "z": [
          38.842443729903536
         ]
        },
        {
         "marker": {
          "size": 3
         },
         "type": "scatter3d",
         "x": [
          217.55769230769232
         ],
         "y": [
          342.09615384615387
         ],
         "z": [
          35.38461538461539
         ]
        },
        {
         "marker": {
          "size": 3
         },
         "type": "scatter3d",
         "x": [
          282.43333333333334
         ],
         "y": [
          427.1
         ],
         "z": [
          35.22222222222222
         ]
        },
        {
         "marker": {
          "size": 3
         },
         "type": "scatter3d",
         "x": [
          508.5401234567901
         ],
         "y": [
          500.429012345679
         ],
         "z": [
          39.367283950617285
         ]
        },
        {
         "marker": {
          "size": 3
         },
         "type": "scatter3d",
         "x": [
          424.28727272727275
         ],
         "y": [
          531.3454545454546
         ],
         "z": [
          37.60363636363636
         ]
        },
        {
         "marker": {
          "size": 3
         },
         "type": "scatter3d",
         "x": [
          320.2972972972973
         ],
         "y": [
          596.4774774774775
         ],
         "z": [
          36.04504504504504
         ]
        },
        {
         "marker": {
          "size": 3
         },
         "type": "scatter3d",
         "x": [
          340.2540192926045
         ],
         "y": [
          627.7170418006431
         ],
         "z": [
          36.82958199356913
         ]
        },
        {
         "marker": {
          "size": 3
         },
         "type": "scatter3d",
         "x": [
          550.8722466960353
         ],
         "y": [
          691.114537444934
         ],
         "z": [
          37.77092511013216
         ]
        },
        {
         "marker": {
          "size": 3
         },
         "type": "scatter3d",
         "x": [
          404.12048192771084
         ],
         "y": [
          758.7710843373494
         ],
         "z": [
          35.86746987951807
         ]
        },
        {
         "marker": {
          "size": 3
         },
         "type": "scatter3d",
         "x": [
          421.90579710144925
         ],
         "y": [
          94.34782608695652
         ],
         "z": [
          38.35507246376812
         ]
        },
        {
         "marker": {
          "size": 3
         },
         "type": "scatter3d",
         "x": [
          575.1481481481482
         ],
         "y": [
          179.59259259259258
         ],
         "z": [
          36
         ]
        },
        {
         "marker": {
          "size": 3
         },
         "type": "scatter3d",
         "x": [
          287.5886699507389
         ],
         "y": [
          237.04679802955664
         ],
         "z": [
          39.25615763546798
         ]
        },
        {
         "marker": {
          "size": 3
         },
         "type": "scatter3d",
         "x": [
          592.8662790697674
         ],
         "y": [
          302.1337209302326
         ],
         "z": [
          37.5406976744186
         ]
        },
        {
         "marker": {
          "size": 3
         },
         "type": "scatter3d",
         "x": [
          361.95283018867923
         ],
         "y": [
          385.8867924528302
         ],
         "z": [
          37.339622641509436
         ]
        },
        {
         "marker": {
          "size": 3
         },
         "type": "scatter3d",
         "x": [
          401.13214285714287
         ],
         "y": [
          509.3642857142857
         ],
         "z": [
          39.90357142857143
         ]
        },
        {
         "marker": {
          "size": 3
         },
         "type": "scatter3d",
         "x": [
          374.58730158730157
         ],
         "y": [
          558.7857142857143
         ],
         "z": [
          37.96825396825397
         ]
        },
        {
         "marker": {
          "size": 3
         },
         "type": "scatter3d",
         "x": [
          350.448
         ],
         "y": [
          642.736
         ],
         "z": [
          38.18
         ]
        },
        {
         "marker": {
          "size": 3
         },
         "type": "scatter3d",
         "x": [
          344.468085106383
         ],
         "y": [
          738.531914893617
         ],
         "z": [
          35.59574468085106
         ]
        },
        {
         "marker": {
          "size": 3
         },
         "type": "scatter3d",
         "x": [
          257.16129032258067
         ],
         "y": [
          59.403225806451616
         ],
         "z": [
          37.32258064516129
         ]
        },
        {
         "marker": {
          "size": 3
         },
         "type": "scatter3d",
         "x": [
          144.58498023715416
         ],
         "y": [
          152.34782608695653
         ],
         "z": [
          41.18577075098814
         ]
        },
        {
         "marker": {
          "size": 3
         },
         "type": "scatter3d",
         "x": [
          189.13765182186233
         ],
         "y": [
          198.38056680161944
         ],
         "z": [
          38.65587044534413
         ]
        },
        {
         "marker": {
          "size": 3
         },
         "type": "scatter3d",
         "x": [
          626.3533190578158
         ],
         "y": [
          249.46680942184153
         ],
         "z": [
          41.04282655246253
         ]
        },
        {
         "marker": {
          "size": 3
         },
         "type": "scatter3d",
         "x": [
          312.3061224489796
         ],
         "y": [
          316.7551020408163
         ],
         "z": [
          38.46938775510204
         ]
        },
        {
         "marker": {
          "size": 3
         },
         "type": "scatter3d",
         "x": [
          260.34935897435895
         ],
         "y": [
          376.48397435897436
         ],
         "z": [
          39.29807692307692
         ]
        },
        {
         "marker": {
          "size": 3
         },
         "type": "scatter3d",
         "x": [
          629.2644628099174
         ],
         "y": [
          495.1818181818182
         ],
         "z": [
          37.71900826446281
         ]
        },
        {
         "marker": {
          "size": 3
         },
         "type": "scatter3d",
         "x": [
          545.3478260869565
         ],
         "y": [
          562.072463768116
         ],
         "z": [
          38.3768115942029
         ]
        },
        {
         "marker": {
          "size": 3
         },
         "type": "scatter3d",
         "x": [
          277.5929203539823
         ],
         "y": [
          608.2389380530974
         ],
         "z": [
          37.61946902654867
         ]
        },
        {
         "marker": {
          "size": 3
         },
         "type": "scatter3d",
         "x": [
          542.448275862069
         ],
         "y": [
          657.9655172413793
         ],
         "z": [
          36.96551724137931
         ]
        },
        {
         "marker": {
          "size": 3
         },
         "type": "scatter3d",
         "x": [
          373.60869565217394
         ],
         "y": [
          734.1086956521739
         ],
         "z": [
          37.82608695652174
         ]
        },
        {
         "marker": {
          "size": 3
         },
         "type": "scatter3d",
         "x": [
          452.4701986754967
         ],
         "y": [
          820.8874172185431
         ],
         "z": [
          37.78145695364238
         ]
        },
        {
         "marker": {
          "size": 3
         },
         "type": "scatter3d",
         "x": [
          263.23236514522824
         ],
         "y": [
          170.35269709543567
         ],
         "z": [
          40.72199170124481
         ]
        },
        {
         "marker": {
          "size": 3
         },
         "type": "scatter3d",
         "x": [
          612.75
         ],
         "y": [
          244.17857142857142
         ],
         "z": [
          37.57142857142857
         ]
        },
        {
         "marker": {
          "size": 3
         },
         "type": "scatter3d",
         "x": [
          185.05882352941177
         ],
         "y": [
          313.2352941176471
         ],
         "z": [
          38.8235294117647
         ]
        },
        {
         "marker": {
          "size": 3
         },
         "type": "scatter3d",
         "x": [
          300.12355212355214
         ],
         "y": [
          400.26254826254825
         ],
         "z": [
          40.061776061776065
         ]
        },
        {
         "marker": {
          "size": 3
         },
         "type": "scatter3d",
         "x": [
          403.7096774193548
         ],
         "y": [
          524.4516129032259
         ],
         "z": [
          38.16129032258065
         ]
        },
        {
         "marker": {
          "size": 3
         },
         "type": "scatter3d",
         "x": [
          570.2067307692307
         ],
         "y": [
          588.9783653846154
         ],
         "z": [
          40.88942307692308
         ]
        },
        {
         "marker": {
          "size": 3
         },
         "type": "scatter3d",
         "x": [
          466.5871886120996
         ],
         "y": [
          640.5800711743773
         ],
         "z": [
          39.76512455516014
         ]
        },
        {
         "marker": {
          "size": 3
         },
         "type": "scatter3d",
         "x": [
          338.11340206185565
         ],
         "y": [
          725.4329896907217
         ],
         "z": [
          37.50515463917526
         ]
        },
        {
         "marker": {
          "size": 3
         },
         "type": "scatter3d",
         "x": [
          513.8235294117648
         ],
         "y": [
          823.3529411764706
         ],
         "z": [
          39.279411764705884
         ]
        },
        {
         "marker": {
          "size": 3
         },
         "type": "scatter3d",
         "x": [
          376.1864406779661
         ],
         "y": [
          174.66101694915255
         ],
         "z": [
          41.056497175141246
         ]
        },
        {
         "marker": {
          "size": 3
         },
         "type": "scatter3d",
         "x": [
          524.9795321637426
         ],
         "y": [
          258.7602339181287
         ],
         "z": [
          42.292397660818715
         ]
        },
        {
         "marker": {
          "size": 3
         },
         "type": "scatter3d",
         "x": [
          402.39864864864865
         ],
         "y": [
          377.81081081081084
         ],
         "z": [
          41.601351351351354
         ]
        },
        {
         "marker": {
          "size": 3
         },
         "type": "scatter3d",
         "x": [
          573.604938271605
         ],
         "y": [
          482.74691358024694
         ],
         "z": [
          42.53086419753087
         ]
        },
        {
         "marker": {
          "size": 3
         },
         "type": "scatter3d",
         "x": [
          374.8262295081967
         ],
         "y": [
          597.760655737705
         ],
         "z": [
          41.61311475409836
         ]
        },
        {
         "marker": {
          "size": 3
         },
         "type": "scatter3d",
         "x": [
          525.8606811145511
         ],
         "y": [
          733.2662538699691
         ],
         "z": [
          41.910216718266255
         ]
        },
        {
         "marker": {
          "size": 3
         },
         "type": "scatter3d",
         "x": [
          436.21198156682027
         ],
         "y": [
          55.74193548387097
         ],
         "z": [
          42.24884792626728
         ]
        },
        {
         "marker": {
          "size": 3
         },
         "type": "scatter3d",
         "x": [
          416.0967741935484
         ],
         "y": [
          152.8483870967742
         ],
         "z": [
          43.10967741935484
         ]
        },
        {
         "marker": {
          "size": 3
         },
         "type": "scatter3d",
         "x": [
          227.7379518072289
         ],
         "y": [
          286.0722891566265
         ],
         "z": [
          43.56325301204819
         ]
        },
        {
         "marker": {
          "size": 3
         },
         "type": "scatter3d",
         "x": [
          355.2795698924731
         ],
         "y": [
          331.9462365591398
         ],
         "z": [
          41.473118279569896
         ]
        },
        {
         "marker": {
          "size": 3
         },
         "type": "scatter3d",
         "x": [
          331.5078125
         ],
         "y": [
          402.3125
         ],
         "z": [
          41.8671875
         ]
        },
        {
         "marker": {
          "size": 3
         },
         "type": "scatter3d",
         "x": [
          427.3448275862069
         ],
         "y": [
          521.6034482758621
         ],
         "z": [
          41.91954022988506
         ]
        },
        {
         "marker": {
          "size": 3
         },
         "type": "scatter3d",
         "x": [
          433.2078431372549
         ],
         "y": [
          658.9411764705883
         ],
         "z": [
          42.98823529411764
         ]
        },
        {
         "marker": {
          "size": 3
         },
         "type": "scatter3d",
         "x": [
          319.9108280254777
         ],
         "y": [
          749.1210191082803
         ],
         "z": [
          41.496815286624205
         ]
        },
        {
         "marker": {
          "size": 3
         },
         "type": "scatter3d",
         "x": [
          365.53968253968253
         ],
         "y": [
          101.98412698412699
         ],
         "z": [
          42.76190476190476
         ]
        },
        {
         "marker": {
          "size": 3
         },
         "type": "scatter3d",
         "x": [
          544.336
         ],
         "y": [
          253.26
         ],
         "z": [
          43.284
         ]
        },
        {
         "marker": {
          "size": 3
         },
         "type": "scatter3d",
         "x": [
          426.735
         ],
         "y": [
          304.85
         ],
         "z": [
          42.845
         ]
        },
        {
         "marker": {
          "size": 3
         },
         "type": "scatter3d",
         "x": [
          384.36551724137934
         ],
         "y": [
          515.8551724137931
         ],
         "z": [
          41.89655172413793
         ]
        },
        {
         "marker": {
          "size": 3
         },
         "type": "scatter3d",
         "x": [
          436.3191489361702
         ],
         "y": [
          608.7872340425532
         ],
         "z": [
          42.148936170212764
         ]
        },
        {
         "marker": {
          "size": 3
         },
         "type": "scatter3d",
         "x": [
          572.77
         ],
         "y": [
          669.715
         ],
         "z": [
          42.795
         ]
        },
        {
         "marker": {
          "size": 3
         },
         "type": "scatter3d",
         "x": [
          525.1933701657458
         ],
         "y": [
          760.1049723756906
         ],
         "z": [
          44.425414364640886
         ]
        },
        {
         "marker": {
          "size": 3
         },
         "type": "scatter3d",
         "x": [
          354.7989417989418
         ],
         "y": [
          101.23280423280423
         ],
         "z": [
          43.34391534391534
         ]
        },
        {
         "marker": {
          "size": 3
         },
         "type": "scatter3d",
         "x": [
          591.3898305084746
         ],
         "y": [
          154.13075060532688
         ],
         "z": [
          44.869249394673126
         ]
        },
        {
         "marker": {
          "size": 3
         },
         "type": "scatter3d",
         "x": [
          607.3474576271186
         ],
         "y": [
          196.40254237288136
         ],
         "z": [
          43.766949152542374
         ]
        },
        {
         "marker": {
          "size": 3
         },
         "type": "scatter3d",
         "x": [
          418.0477272727273
         ],
         "y": [
          258.33863636363634
         ],
         "z": [
          46.731818181818184
         ]
        },
        {
         "marker": {
          "size": 3
         },
         "type": "scatter3d",
         "x": [
          382.6106194690266
         ],
         "y": [
          300.8053097345133
         ],
         "z": [
          42.902654867256636
         ]
        },
        {
         "marker": {
          "size": 3
         },
         "type": "scatter3d",
         "x": [
          513.2697674418605
         ],
         "y": [
          343.8837209302326
         ],
         "z": [
          43.44186046511628
         ]
        },
        {
         "marker": {
          "size": 3
         },
         "type": "scatter3d",
         "x": [
          538.9788732394367
         ],
         "y": [
          455.17605633802816
         ],
         "z": [
          43.00704225352113
         ]
        },
        {
         "marker": {
          "size": 3
         },
         "type": "scatter3d",
         "x": [
          523.9894736842106
         ],
         "y": [
          518.1157894736842
         ],
         "z": [
          43.7
         ]
        },
        {
         "marker": {
          "size": 3
         },
         "type": "scatter3d",
         "x": [
          165.5734265734266
         ],
         "y": [
          622.8741258741259
         ],
         "z": [
          42.82517482517483
         ]
        },
        {
         "marker": {
          "size": 3
         },
         "type": "scatter3d",
         "x": [
          502.504
         ],
         "y": [
          710.248
         ],
         "z": [
          42.968
         ]
        },
        {
         "marker": {
          "size": 3
         },
         "type": "scatter3d",
         "x": [
          311.4526315789474
         ],
         "y": [
          857.3578947368421
         ],
         "z": [
          41.82105263157895
         ]
        },
        {
         "marker": {
          "size": 3
         },
         "type": "scatter3d",
         "x": [
          402.7524752475247
         ],
         "y": [
          98.58415841584159
         ],
         "z": [
          46.353135313531354
         ]
        },
        {
         "marker": {
          "size": 3
         },
         "type": "scatter3d",
         "x": [
          320.35915492957747
         ],
         "y": [
          147.25352112676057
         ],
         "z": [
          44.070422535211264
         ]
        },
        {
         "marker": {
          "size": 3
         },
         "type": "scatter3d",
         "x": [
          428.7800453514739
         ],
         "y": [
          184.8390022675737
         ],
         "z": [
          46.467120181405896
         ]
        },
        {
         "marker": {
          "size": 3
         },
         "type": "scatter3d",
         "x": [
          551.1391304347826
         ],
         "y": [
          245.05217391304348
         ],
         "z": [
          43.643478260869564
         ]
        },
        {
         "marker": {
          "size": 3
         },
         "type": "scatter3d",
         "x": [
          552.4785276073619
         ],
         "y": [
          306.6298568507157
         ],
         "z": [
          47.7280163599182
         ]
        },
        {
         "marker": {
          "size": 3
         },
         "type": "scatter3d",
         "x": [
          401.35714285714283
         ],
         "y": [
          342.8095238095238
         ],
         "z": [
          43.65079365079365
         ]
        },
        {
         "marker": {
          "size": 3
         },
         "type": "scatter3d",
         "x": [
          422.96120689655174
         ],
         "y": [
          370.125
         ],
         "z": [
          45.168103448275865
         ]
        },
        {
         "marker": {
          "size": 3
         },
         "type": "scatter3d",
         "x": [
          349.31315789473683
         ],
         "y": [
          423.45
         ],
         "z": [
          45.544736842105266
         ]
        },
        {
         "marker": {
          "size": 3
         },
         "type": "scatter3d",
         "x": [
          521.4214285714286
         ],
         "y": [
          486.32380952380953
         ],
         "z": [
          45.44285714285714
         ]
        },
        {
         "marker": {
          "size": 3
         },
         "type": "scatter3d",
         "x": [
          465.05882352941177
         ],
         "y": [
          571.1176470588235
         ],
         "z": [
          42
         ]
        },
        {
         "marker": {
          "size": 3
         },
         "type": "scatter3d",
         "x": [
          252.0032786885246
         ],
         "y": [
          645.983606557377
         ],
         "z": [
          45.35409836065574
         ]
        },
        {
         "marker": {
          "size": 3
         },
         "type": "scatter3d",
         "x": [
          271.65671641791045
         ],
         "y": [
          681.3283582089553
         ],
         "z": [
          42.95522388059702
         ]
        },
        {
         "marker": {
          "size": 3
         },
         "type": "scatter3d",
         "x": [
          446.95028680688335
         ],
         "y": [
          749.6500956022944
         ],
         "z": [
          44.49904397705545
         ]
        },
        {
         "marker": {
          "size": 3
         },
         "type": "scatter3d",
         "x": [
          233.41666666666666
         ],
         "y": [
          39.86805555555556
         ],
         "z": [
          44.34722222222222
         ]
        },
        {
         "marker": {
          "size": 3
         },
         "type": "scatter3d",
         "x": [
          181.33333333333334
         ],
         "y": [
          88.72916666666667
         ],
         "z": [
          44.229166666666664
         ]
        },
        {
         "marker": {
          "size": 3
         },
         "type": "scatter3d",
         "x": [
          460.87610619469024
         ],
         "y": [
          149.41592920353983
         ],
         "z": [
          44.75221238938053
         ]
        },
        {
         "marker": {
          "size": 3
         },
         "type": "scatter3d",
         "x": [
          532.1866666666666
         ],
         "y": [
          199.58666666666667
         ],
         "z": [
          45.53333333333333
         ]
        },
        {
         "marker": {
          "size": 3
         },
         "type": "scatter3d",
         "x": [
          647.6434108527131
         ],
         "y": [
          228.35658914728683
         ],
         "z": [
          44.24031007751938
         ]
        },
        {
         "marker": {
          "size": 3
         },
         "type": "scatter3d",
         "x": [
          456.2845188284519
         ],
         "y": [
          274.39748953974896
         ],
         "z": [
          45.16317991631799
         ]
        },
        {
         "marker": {
          "size": 3
         },
         "type": "scatter3d",
         "x": [
          573.9131147540984
         ],
         "y": [
          332.1901639344262
         ],
         "z": [
          49.247540983606555
         ]
        },
        {
         "marker": {
          "size": 3
         },
         "type": "scatter3d",
         "x": [
          577.4423076923077
         ],
         "y": [
          360.53846153846155
         ],
         "z": [
          43.53846153846154
         ]
        },
        {
         "marker": {
          "size": 3
         },
         "type": "scatter3d",
         "x": [
          372.1030303030303
         ],
         "y": [
          390.2151515151515
         ],
         "z": [
          45.406060606060606
         ]
        },
        {
         "marker": {
          "size": 3
         },
         "type": "scatter3d",
         "x": [
          585.8571428571429
         ],
         "y": [
          435.23809523809524
         ],
         "z": [
          43.404761904761905
         ]
        },
        {
         "marker": {
          "size": 3
         },
         "type": "scatter3d",
         "x": [
          349.3448275862069
         ],
         "y": [
          499.82758620689657
         ],
         "z": [
          43.13793103448276
         ]
        },
        {
         "marker": {
          "size": 3
         },
         "type": "scatter3d",
         "x": [
          333.5359116022099
         ],
         "y": [
          526.232044198895
         ],
         "z": [
          45.12154696132597
         ]
        },
        {
         "marker": {
          "size": 3
         },
         "type": "scatter3d",
         "x": [
          458.6
         ],
         "y": [
          570.55
         ],
         "z": [
          43.95
         ]
        },
        {
         "marker": {
          "size": 3
         },
         "type": "scatter3d",
         "x": [
          254.28
         ],
         "y": [
          619.56
         ],
         "z": [
          43.56
         ]
        },
        {
         "marker": {
          "size": 3
         },
         "type": "scatter3d",
         "x": [
          410.1989247311828
         ],
         "y": [
          651.7956989247311
         ],
         "z": [
          44.41935483870968
         ]
        },
        {
         "marker": {
          "size": 3
         },
         "type": "scatter3d",
         "x": [
          195.0185185185185
         ],
         "y": [
          691.2592592592592
         ],
         "z": [
          43.351851851851855
         ]
        },
        {
         "marker": {
          "size": 3
         },
         "type": "scatter3d",
         "x": [
          452.52863436123346
         ],
         "y": [
          730.8414096916299
         ],
         "z": [
          45.14977973568282
         ]
        },
        {
         "marker": {
          "size": 3
         },
         "type": "scatter3d",
         "x": [
          342
         ],
         "y": [
          799.1304347826087
         ],
         "z": [
          43.130434782608695
         ]
        },
        {
         "marker": {
          "size": 3
         },
         "type": "scatter3d",
         "x": [
          281.28691983122366
         ],
         "y": [
          78.31645569620254
         ],
         "z": [
          46.80168776371308
         ]
        },
        {
         "marker": {
          "size": 3
         },
         "type": "scatter3d",
         "x": [
          393.69620253164555
         ],
         "y": [
          215.53164556962025
         ],
         "z": [
          45.35443037974684
         ]
        },
        {
         "marker": {
          "size": 3
         },
         "type": "scatter3d",
         "x": [
          189.73170731707316
         ],
         "y": [
          298.3658536585366
         ],
         "z": [
          44.073170731707314
         ]
        },
        {
         "marker": {
          "size": 3
         },
         "type": "scatter3d",
         "x": [
          155.68396226415095
         ],
         "y": [
          409.95754716981133
         ],
         "z": [
          47.235849056603776
         ]
        },
        {
         "marker": {
          "size": 3
         },
         "type": "scatter3d",
         "x": [
          377.975
         ],
         "y": [
          510
         ],
         "z": [
          45.5625
         ]
        },
        {
         "marker": {
          "size": 3
         },
         "type": "scatter3d",
         "x": [
          346.57142857142856
         ],
         "y": [
          615.4285714285714
         ],
         "z": [
          44.42857142857143
         ]
        },
        {
         "marker": {
          "size": 3
         },
         "type": "scatter3d",
         "x": [
          337.7037037037037
         ],
         "y": [
          696.2716049382716
         ],
         "z": [
          44.2962962962963
         ]
        },
        {
         "marker": {
          "size": 3
         },
         "type": "scatter3d",
         "x": [
          477.6666666666667
         ],
         "y": [
          742.1666666666666
         ],
         "z": [
          44.666666666666664
         ]
        },
        {
         "marker": {
          "size": 3
         },
         "type": "scatter3d",
         "x": [
          267.037037037037
         ],
         "y": [
          51.092592592592595
         ],
         "z": [
          45.94444444444444
         ]
        },
        {
         "marker": {
          "size": 3
         },
         "type": "scatter3d",
         "x": [
          405.7699530516432
         ],
         "y": [
          180.68075117370893
         ],
         "z": [
          48.19718309859155
         ]
        },
        {
         "marker": {
          "size": 3
         },
         "type": "scatter3d",
         "x": [
          386.55
         ],
         "y": [
          257.75
         ],
         "z": [
          47.75666666666667
         ]
        },
        {
         "marker": {
          "size": 3
         },
         "type": "scatter3d",
         "x": [
          361.7560975609756
         ],
         "y": [
          361.7926829268293
         ],
         "z": [
          45.69512195121951
         ]
        },
        {
         "marker": {
          "size": 3
         },
         "type": "scatter3d",
         "x": [
          437.6
         ],
         "y": [
          556.4408163265306
         ],
         "z": [
          48.289795918367346
         ]
        },
        {
         "marker": {
          "size": 3
         },
         "type": "scatter3d",
         "x": [
          362.11299435028246
         ],
         "y": [
          635.2033898305085
         ],
         "z": [
          46.898305084745765
         ]
        },
        {
         "marker": {
          "size": 3
         },
         "type": "scatter3d",
         "x": [
          317.0571428571429
         ],
         "y": [
          718.7142857142857
         ],
         "z": [
          45.02857142857143
         ]
        },
        {
         "marker": {
          "size": 3
         },
         "type": "scatter3d",
         "x": [
          117.79411764705883
         ],
         "y": [
          177.78235294117647
         ],
         "z": [
          48.688235294117646
         ]
        },
        {
         "marker": {
          "size": 3
         },
         "type": "scatter3d",
         "x": [
          285.45
         ],
         "y": [
          269.05
         ],
         "z": [
          47.15
         ]
        },
        {
         "marker": {
          "size": 3
         },
         "type": "scatter3d",
         "x": [
          286
         ],
         "y": [
          353.078431372549
         ],
         "z": [
          46.72549019607843
         ]
        },
        {
         "marker": {
          "size": 3
         },
         "type": "scatter3d",
         "x": [
          367.3376623376623
         ],
         "y": [
          515.8961038961039
         ],
         "z": [
          47.97402597402598
         ]
        },
        {
         "marker": {
          "size": 3
         },
         "type": "scatter3d",
         "x": [
          429.6521739130435
         ],
         "y": [
          569.9130434782609
         ],
         "z": [
          46.78260869565217
         ]
        },
        {
         "marker": {
          "size": 3
         },
         "type": "scatter3d",
         "x": [
          301.6508875739645
         ],
         "y": [
          664.0532544378698
         ],
         "z": [
          48.875739644970416
         ]
        },
        {
         "marker": {
          "size": 3
         },
         "type": "scatter3d",
         "x": [
          267.2
         ],
         "y": [
          851.025
         ],
         "z": [
          47.6
         ]
        },
        {
         "marker": {
          "size": 3
         },
         "type": "scatter3d",
         "x": [
          444.70552147239266
         ],
         "y": [
          260.86503067484665
         ],
         "z": [
          49.49693251533742
         ]
        },
        {
         "marker": {
          "size": 3
         },
         "type": "scatter3d",
         "x": [
          485.2054794520548
         ],
         "y": [
          318.13698630136986
         ],
         "z": [
          50.79223744292238
         ]
        },
        {
         "marker": {
          "size": 3
         },
         "type": "scatter3d",
         "x": [
          502.5464480874317
         ],
         "y": [
          356.07103825136613
         ],
         "z": [
          49.3551912568306
         ]
        },
        {
         "marker": {
          "size": 3
         },
         "type": "scatter3d",
         "x": [
          449.75690607734805
         ],
         "y": [
          514.3011049723757
         ],
         "z": [
          51.751381215469614
         ]
        },
        {
         "marker": {
          "size": 3
         },
         "type": "scatter3d",
         "x": [
          340.4519230769231
         ],
         "y": [
          606.5721153846154
         ],
         "z": [
          49.36057692307692
         ]
        },
        {
         "marker": {
          "size": 3
         },
         "type": "scatter3d",
         "x": [
          486.8953488372093
         ],
         "y": [
          662.2209302325581
         ],
         "z": [
          48.30232558139535
         ]
        },
        {
         "marker": {
          "size": 3
         },
         "type": "scatter3d",
         "x": [
          296.1469194312796
         ],
         "y": [
          122.15165876777252
         ],
         "z": [
          50.796208530805686
         ]
        },
        {
         "marker": {
          "size": 3
         },
         "type": "scatter3d",
         "x": [
          210.0731707317073
         ],
         "y": [
          211.52439024390245
         ],
         "z": [
          49.6219512195122
         ]
        },
        {
         "marker": {
          "size": 3
         },
         "type": "scatter3d",
         "x": [
          497.02966101694915
         ],
         "y": [
          340.3785310734463
         ],
         "z": [
          53.71045197740113
         ]
        },
        {
         "marker": {
          "size": 3
         },
         "type": "scatter3d",
         "x": [
          352.77315689981094
         ],
         "y": [
          405.41209829867677
         ],
         "z": [
          52.22873345935728
         ]
        },
        {
         "marker": {
          "size": 3
         },
         "type": "scatter3d",
         "x": [
          472.74666666666667
         ],
         "y": [
          548.8133333333334
         ],
         "z": [
          49.54666666666667
         ]
        },
        {
         "marker": {
          "size": 3
         },
         "type": "scatter3d",
         "x": [
          257.9179104477612
         ],
         "y": [
          646.1417910447761
         ],
         "z": [
          49.04477611940298
         ]
        },
        {
         "marker": {
          "size": 3
         },
         "type": "scatter3d",
         "x": [
          309.7837837837838
         ],
         "y": [
          91.03603603603604
         ],
         "z": [
          50.693693693693696
         ]
        },
        {
         "marker": {
          "size": 3
         },
         "type": "scatter3d",
         "x": [
          173.81679389312978
         ],
         "y": [
          215.6412213740458
         ],
         "z": [
          50.62595419847328
         ]
        },
        {
         "marker": {
          "size": 3
         },
         "type": "scatter3d",
         "x": [
          454.18532818532816
         ],
         "y": [
          315.6100386100386
         ],
         "z": [
          52.1003861003861
         ]
        },
        {
         "marker": {
          "size": 3
         },
         "type": "scatter3d",
         "x": [
          332.2368421052632
         ],
         "y": [
          383
         ],
         "z": [
          50.276315789473685
         ]
        },
        {
         "marker": {
          "size": 3
         },
         "type": "scatter3d",
         "x": [
          512
         ],
         "y": [
          518.2424242424242
         ],
         "z": [
          50.63636363636363
         ]
        },
        {
         "marker": {
          "size": 3
         },
         "type": "scatter3d",
         "x": [
          580.7256637168142
         ],
         "y": [
          608.787610619469
         ],
         "z": [
          51.10619469026549
         ]
        },
        {
         "marker": {
          "size": 3
         },
         "type": "scatter3d",
         "x": [
          356.03053435114504
         ],
         "y": [
          45.12977099236641
         ],
         "z": [
          51.83969465648855
         ]
        },
        {
         "marker": {
          "size": 3
         },
         "type": "scatter3d",
         "x": [
          141.09803921568627
         ],
         "y": [
          167.68627450980392
         ],
         "z": [
          51.1764705882353
         ]
        },
        {
         "marker": {
          "size": 3
         },
         "type": "scatter3d",
         "x": [
          224.92307692307693
         ],
         "y": [
          316.8974358974359
         ],
         "z": [
          50.8974358974359
         ]
        },
        {
         "marker": {
          "size": 3
         },
         "type": "scatter3d",
         "x": [
          553.8235294117648
         ],
         "y": [
          352.5882352941176
         ],
         "z": [
          51.13725490196079
         ]
        },
        {
         "marker": {
          "size": 3
         },
         "type": "scatter3d",
         "x": [
          341.8494623655914
         ],
         "y": [
          419
         ],
         "z": [
          51.666666666666664
         ]
        },
        {
         "marker": {
          "size": 3
         },
         "type": "scatter3d",
         "x": [
          475.46666666666664
         ],
         "y": [
          635.4666666666667
         ],
         "z": [
          50.333333333333336
         ]
        },
        {
         "marker": {
          "size": 3
         },
         "type": "scatter3d",
         "x": [
          398.7411347517731
         ],
         "y": [
          148.18085106382978
         ],
         "z": [
          55.08156028368794
         ]
        },
        {
         "marker": {
          "size": 3
         },
         "type": "scatter3d",
         "x": [
          535.1666666666666
         ],
         "y": [
          209.45977011494253
         ],
         "z": [
          53.64942528735632
         ]
        },
        {
         "marker": {
          "size": 3
         },
         "type": "scatter3d",
         "x": [
          438.51006711409394
         ],
         "y": [
          241.13422818791946
         ],
         "z": [
          53.45637583892618
         ]
        },
        {
         "marker": {
          "size": 3
         },
         "type": "scatter3d",
         "x": [
          500.2146017699115
         ],
         "y": [
          309.13274336283183
         ],
         "z": [
          54.29867256637168
         ]
        },
        {
         "marker": {
          "size": 3
         },
         "type": "scatter3d",
         "x": [
          422.2089552238806
         ],
         "y": [
          354.5820895522388
         ],
         "z": [
          51.95522388059702
         ]
        },
        {
         "marker": {
          "size": 3
         },
         "type": "scatter3d",
         "x": [
          348.78743961352654
         ],
         "y": [
          415.5990338164251
         ],
         "z": [
          53.95652173913044
         ]
        },
        {
         "marker": {
          "size": 3
         },
         "type": "scatter3d",
         "x": [
          339.3474576271187
         ],
         "y": [
          588.5508474576271
         ],
         "z": [
          52.686440677966104
         ]
        },
        {
         "marker": {
          "size": 3
         },
         "type": "scatter3d",
         "x": [
          451.8
         ],
         "y": [
          670.4355555555555
         ],
         "z": [
          53.111111111111114
         ]
        },
        {
         "marker": {
          "size": 3
         },
         "type": "scatter3d",
         "x": [
          265.5
         ],
         "y": [
          178.85714285714286
         ],
         "z": [
          53.214285714285715
         ]
        },
        {
         "marker": {
          "size": 3
         },
         "type": "scatter3d",
         "x": [
          543.0512820512821
         ],
         "y": [
          292.7692307692308
         ],
         "z": [
          53.71153846153846
         ]
        },
        {
         "marker": {
          "size": 3
         },
         "type": "scatter3d",
         "x": [
          46.925925925925924
         ],
         "y": [
          418.18518518518516
         ],
         "z": [
          52.592592592592595
         ]
        },
        {
         "marker": {
          "size": 3
         },
         "type": "scatter3d",
         "x": [
          407.1904761904762
         ],
         "y": [
          656.952380952381
         ],
         "z": [
          52.095238095238095
         ]
        },
        {
         "marker": {
          "size": 3
         },
         "type": "scatter3d",
         "x": [
          609.4433962264151
         ],
         "y": [
          190.1320754716981
         ],
         "z": [
          54.64150943396226
         ]
        },
        {
         "marker": {
          "size": 3
         },
         "type": "scatter3d",
         "x": [
          413.8125
         ],
         "y": [
          316.3125
         ],
         "z": [
          54.9125
         ]
        },
        {
         "marker": {
          "size": 3
         },
         "type": "scatter3d",
         "x": [
          60.793103448275865
         ],
         "y": [
          436.09655172413795
         ],
         "z": [
          54.38620689655173
         ]
        },
        {
         "marker": {
          "size": 3
         },
         "type": "scatter3d",
         "x": [
          484.5
         ],
         "y": [
          590.1538461538462
         ],
         "z": [
          53.53846153846154
         ]
        },
        {
         "marker": {
          "size": 3
         },
         "type": "scatter3d",
         "x": [
          362.2142857142857
         ],
         "y": [
          115.10714285714286
         ],
         "z": [
          54.5
         ]
        },
        {
         "marker": {
          "size": 3
         },
         "type": "scatter3d",
         "x": [
          376.2795698924731
         ],
         "y": [
          287.5376344086022
         ],
         "z": [
          55.225806451612904
         ]
        },
        {
         "marker": {
          "size": 3
         },
         "type": "scatter3d",
         "x": [
          276.3640350877193
         ],
         "y": [
          403.780701754386
         ],
         "z": [
          56.574561403508774
         ]
        },
        {
         "marker": {
          "size": 3
         },
         "type": "scatter3d",
         "x": [
          427.7685950413223
         ],
         "y": [
          600.3719008264463
         ],
         "z": [
          55.52066115702479
         ]
        },
        {
         "marker": {
          "size": 3
         },
         "type": "scatter3d",
         "x": [
          265.5325443786982
         ],
         "y": [
          153.68047337278105
         ],
         "z": [
          56.49704142011834
         ]
        },
        {
         "marker": {
          "size": 3
         },
         "type": "scatter3d",
         "x": [
          367.5357142857143
         ],
         "y": [
          259.17857142857144
         ],
         "z": [
          55.142857142857146
         ]
        },
        {
         "marker": {
          "size": 3
         },
         "type": "scatter3d",
         "x": [
          462.15384615384613
         ],
         "y": [
          317.1384615384615
         ],
         "z": [
          55.715384615384615
         ]
        },
        {
         "marker": {
          "size": 3
         },
         "type": "scatter3d",
         "x": [
          478.0131578947368
         ],
         "y": [
          527.1315789473684
         ],
         "z": [
          56.01315789473684
         ]
        },
        {
         "marker": {
          "size": 3
         },
         "type": "scatter3d",
         "x": [
          551.5072463768116
         ],
         "y": [
          101.72463768115942
         ],
         "z": [
          56.55072463768116
         ]
        },
        {
         "marker": {
          "size": 3
         },
         "type": "scatter3d",
         "x": [
          428.54545454545456
         ],
         "y": [
          266.47727272727275
         ],
         "z": [
          57.21590909090909
         ]
        },
        {
         "marker": {
          "size": 3
         },
         "type": "scatter3d",
         "x": [
          329.5436507936508
         ],
         "y": [
          371.5833333333333
         ],
         "z": [
          58.01984126984127
         ]
        },
        {
         "marker": {
          "size": 3
         },
         "type": "scatter3d",
         "x": [
          354.9581589958159
         ],
         "y": [
          580.581589958159
         ],
         "z": [
          57.59832635983263
         ]
        },
        {
         "marker": {
          "size": 3
         },
         "type": "scatter3d",
         "x": [
          600.6046511627907
         ],
         "y": [
          178.67441860465115
         ],
         "z": [
          57.348837209302324
         ]
        },
        {
         "marker": {
          "size": 3
         },
         "type": "scatter3d",
         "x": [
          528.937984496124
         ],
         "y": [
          301.6744186046512
         ],
         "z": [
          59.77131782945737
         ]
        },
        {
         "marker": {
          "size": 3
         },
         "type": "scatter3d",
         "x": [
          439.20754716981133
         ],
         "y": [
          553.622641509434
         ],
         "z": [
          57.9622641509434
         ]
        },
        {
         "marker": {
          "size": 3
         },
         "type": "scatter3d",
         "x": [
          360.05882352941177
         ],
         "y": [
          174.87058823529412
         ],
         "z": [
          59.63529411764706
         ]
        },
        {
         "marker": {
          "size": 3
         },
         "type": "scatter3d",
         "x": [
          411.9497487437186
         ],
         "y": [
          336.286432160804
         ],
         "z": [
          60.37688442211055
         ]
        },
        {
         "marker": {
          "size": 3
         },
         "type": "scatter3d",
         "x": [
          334.3804347826087
         ],
         "y": [
          594.2282608695652
         ],
         "z": [
          58.608695652173914
         ]
        },
        {
         "marker": {
          "size": 3
         },
         "type": "scatter3d",
         "x": [
          500.96
         ],
         "y": [
          262.2
         ],
         "z": [
          59.12
         ]
        },
        {
         "marker": {
          "size": 3
         },
         "type": "scatter3d",
         "x": [
          321.07563025210084
         ],
         "y": [
          335.38655462184875
         ],
         "z": [
          60.21848739495798
         ]
        },
        {
         "marker": {
          "size": 3
         },
         "type": "scatter3d",
         "x": [
          410.2957746478873
         ],
         "y": [
          340.9577464788732
         ],
         "z": [
          61.352112676056336
         ]
        },
        {
         "marker": {
          "size": 3
         },
         "type": "scatter3d",
         "x": [
          417.72463768115944
         ],
         "y": [
          300.536231884058
         ],
         "z": [
          61.57971014492754
         ]
        },
        {
         "marker": {
          "size": 3
         },
         "type": "scatter3d",
         "x": [
          296.1363636363636
         ],
         "y": [
          159.45454545454547
         ],
         "z": [
          63.54545454545455
         ]
        },
        {
         "marker": {
          "size": 3
         },
         "type": "scatter3d",
         "x": [
          391.8157894736842
         ],
         "y": [
          293.2105263157895
         ],
         "z": [
          63.44736842105263
         ]
        }
       ],
       "layout": {
        "autosize": true,
        "legend": {
         "tracegroupgap": 0
        },
        "margin": {
         "t": 60
        },
        "scene": {
         "aspectmode": "manual",
         "aspectratio": {
          "x": 13.7,
          "y": 17,
          "z": 3.3
         },
         "camera": {
          "eye": {
           "x": 12,
           "y": 12,
           "z": 0.85
          }
         },
         "domain": {
          "x": [
           0,
           1
          ],
          "y": [
           0,
           1
          ]
         },
         "xaxis": {
          "range": [
           0,
           795
          ],
          "showgrid": false,
          "showticklabels": false,
          "ticks": "",
          "title": {
           "font": {
            "size": 20
           },
           "text": "X"
          },
          "type": "linear"
         },
         "yaxis": {
          "range": [
           0,
           899
          ],
          "showgrid": false,
          "showticklabels": false,
          "ticks": "",
          "title": {
           "font": {
            "size": 20
           },
           "text": "Y"
          },
          "type": "linear"
         },
         "zaxis": {
          "range": [
           0,
           65
          ],
          "showgrid": false,
          "showticklabels": false,
          "ticks": "",
          "title": {
           "font": {
            "size": 20
           },
           "text": "Z"
          },
          "type": "linear"
         }
        },
        "showlegend": false,
        "template": {
         "data": {
          "bar": [
           {
            "error_x": {
             "color": "rgb(36,36,36)"
            },
            "error_y": {
             "color": "rgb(36,36,36)"
            },
            "marker": {
             "line": {
              "color": "white",
              "width": 0.5
             },
             "pattern": {
              "fillmode": "overlay",
              "size": 10,
              "solidity": 0.2
             }
            },
            "type": "bar"
           }
          ],
          "barpolar": [
           {
            "marker": {
             "line": {
              "color": "white",
              "width": 0.5
             },
             "pattern": {
              "fillmode": "overlay",
              "size": 10,
              "solidity": 0.2
             }
            },
            "type": "barpolar"
           }
          ],
          "carpet": [
           {
            "aaxis": {
             "endlinecolor": "rgb(36,36,36)",
             "gridcolor": "white",
             "linecolor": "white",
             "minorgridcolor": "white",
             "startlinecolor": "rgb(36,36,36)"
            },
            "baxis": {
             "endlinecolor": "rgb(36,36,36)",
             "gridcolor": "white",
             "linecolor": "white",
             "minorgridcolor": "white",
             "startlinecolor": "rgb(36,36,36)"
            },
            "type": "carpet"
           }
          ],
          "choropleth": [
           {
            "colorbar": {
             "outlinewidth": 1,
             "tickcolor": "rgb(36,36,36)",
             "ticks": "outside"
            },
            "type": "choropleth"
           }
          ],
          "contour": [
           {
            "colorbar": {
             "outlinewidth": 1,
             "tickcolor": "rgb(36,36,36)",
             "ticks": "outside"
            },
            "colorscale": [
             [
              0,
              "#440154"
             ],
             [
              0.1111111111111111,
              "#482878"
             ],
             [
              0.2222222222222222,
              "#3e4989"
             ],
             [
              0.3333333333333333,
              "#31688e"
             ],
             [
              0.4444444444444444,
              "#26828e"
             ],
             [
              0.5555555555555556,
              "#1f9e89"
             ],
             [
              0.6666666666666666,
              "#35b779"
             ],
             [
              0.7777777777777778,
              "#6ece58"
             ],
             [
              0.8888888888888888,
              "#b5de2b"
             ],
             [
              1,
              "#fde725"
             ]
            ],
            "type": "contour"
           }
          ],
          "contourcarpet": [
           {
            "colorbar": {
             "outlinewidth": 1,
             "tickcolor": "rgb(36,36,36)",
             "ticks": "outside"
            },
            "type": "contourcarpet"
           }
          ],
          "heatmap": [
           {
            "colorbar": {
             "outlinewidth": 1,
             "tickcolor": "rgb(36,36,36)",
             "ticks": "outside"
            },
            "colorscale": [
             [
              0,
              "#440154"
             ],
             [
              0.1111111111111111,
              "#482878"
             ],
             [
              0.2222222222222222,
              "#3e4989"
             ],
             [
              0.3333333333333333,
              "#31688e"
             ],
             [
              0.4444444444444444,
              "#26828e"
             ],
             [
              0.5555555555555556,
              "#1f9e89"
             ],
             [
              0.6666666666666666,
              "#35b779"
             ],
             [
              0.7777777777777778,
              "#6ece58"
             ],
             [
              0.8888888888888888,
              "#b5de2b"
             ],
             [
              1,
              "#fde725"
             ]
            ],
            "type": "heatmap"
           }
          ],
          "heatmapgl": [
           {
            "colorbar": {
             "outlinewidth": 1,
             "tickcolor": "rgb(36,36,36)",
             "ticks": "outside"
            },
            "colorscale": [
             [
              0,
              "#440154"
             ],
             [
              0.1111111111111111,
              "#482878"
             ],
             [
              0.2222222222222222,
              "#3e4989"
             ],
             [
              0.3333333333333333,
              "#31688e"
             ],
             [
              0.4444444444444444,
              "#26828e"
             ],
             [
              0.5555555555555556,
              "#1f9e89"
             ],
             [
              0.6666666666666666,
              "#35b779"
             ],
             [
              0.7777777777777778,
              "#6ece58"
             ],
             [
              0.8888888888888888,
              "#b5de2b"
             ],
             [
              1,
              "#fde725"
             ]
            ],
            "type": "heatmapgl"
           }
          ],
          "histogram": [
           {
            "marker": {
             "line": {
              "color": "white",
              "width": 0.6
             }
            },
            "type": "histogram"
           }
          ],
          "histogram2d": [
           {
            "colorbar": {
             "outlinewidth": 1,
             "tickcolor": "rgb(36,36,36)",
             "ticks": "outside"
            },
            "colorscale": [
             [
              0,
              "#440154"
             ],
             [
              0.1111111111111111,
              "#482878"
             ],
             [
              0.2222222222222222,
              "#3e4989"
             ],
             [
              0.3333333333333333,
              "#31688e"
             ],
             [
              0.4444444444444444,
              "#26828e"
             ],
             [
              0.5555555555555556,
              "#1f9e89"
             ],
             [
              0.6666666666666666,
              "#35b779"
             ],
             [
              0.7777777777777778,
              "#6ece58"
             ],
             [
              0.8888888888888888,
              "#b5de2b"
             ],
             [
              1,
              "#fde725"
             ]
            ],
            "type": "histogram2d"
           }
          ],
          "histogram2dcontour": [
           {
            "colorbar": {
             "outlinewidth": 1,
             "tickcolor": "rgb(36,36,36)",
             "ticks": "outside"
            },
            "colorscale": [
             [
              0,
              "#440154"
             ],
             [
              0.1111111111111111,
              "#482878"
             ],
             [
              0.2222222222222222,
              "#3e4989"
             ],
             [
              0.3333333333333333,
              "#31688e"
             ],
             [
              0.4444444444444444,
              "#26828e"
             ],
             [
              0.5555555555555556,
              "#1f9e89"
             ],
             [
              0.6666666666666666,
              "#35b779"
             ],
             [
              0.7777777777777778,
              "#6ece58"
             ],
             [
              0.8888888888888888,
              "#b5de2b"
             ],
             [
              1,
              "#fde725"
             ]
            ],
            "type": "histogram2dcontour"
           }
          ],
          "mesh3d": [
           {
            "colorbar": {
             "outlinewidth": 1,
             "tickcolor": "rgb(36,36,36)",
             "ticks": "outside"
            },
            "type": "mesh3d"
           }
          ],
          "parcoords": [
           {
            "line": {
             "colorbar": {
              "outlinewidth": 1,
              "tickcolor": "rgb(36,36,36)",
              "ticks": "outside"
             }
            },
            "type": "parcoords"
           }
          ],
          "pie": [
           {
            "automargin": true,
            "type": "pie"
           }
          ],
          "scatter": [
           {
            "fillpattern": {
             "fillmode": "overlay",
             "size": 10,
             "solidity": 0.2
            },
            "type": "scatter"
           }
          ],
          "scatter3d": [
           {
            "line": {
             "colorbar": {
              "outlinewidth": 1,
              "tickcolor": "rgb(36,36,36)",
              "ticks": "outside"
             }
            },
            "marker": {
             "colorbar": {
              "outlinewidth": 1,
              "tickcolor": "rgb(36,36,36)",
              "ticks": "outside"
             }
            },
            "type": "scatter3d"
           }
          ],
          "scattercarpet": [
           {
            "marker": {
             "colorbar": {
              "outlinewidth": 1,
              "tickcolor": "rgb(36,36,36)",
              "ticks": "outside"
             }
            },
            "type": "scattercarpet"
           }
          ],
          "scattergeo": [
           {
            "marker": {
             "colorbar": {
              "outlinewidth": 1,
              "tickcolor": "rgb(36,36,36)",
              "ticks": "outside"
             }
            },
            "type": "scattergeo"
           }
          ],
          "scattergl": [
           {
            "marker": {
             "colorbar": {
              "outlinewidth": 1,
              "tickcolor": "rgb(36,36,36)",
              "ticks": "outside"
             }
            },
            "type": "scattergl"
           }
          ],
          "scattermapbox": [
           {
            "marker": {
             "colorbar": {
              "outlinewidth": 1,
              "tickcolor": "rgb(36,36,36)",
              "ticks": "outside"
             }
            },
            "type": "scattermapbox"
           }
          ],
          "scatterpolar": [
           {
            "marker": {
             "colorbar": {
              "outlinewidth": 1,
              "tickcolor": "rgb(36,36,36)",
              "ticks": "outside"
             }
            },
            "type": "scatterpolar"
           }
          ],
          "scatterpolargl": [
           {
            "marker": {
             "colorbar": {
              "outlinewidth": 1,
              "tickcolor": "rgb(36,36,36)",
              "ticks": "outside"
             }
            },
            "type": "scatterpolargl"
           }
          ],
          "scatterternary": [
           {
            "marker": {
             "colorbar": {
              "outlinewidth": 1,
              "tickcolor": "rgb(36,36,36)",
              "ticks": "outside"
             }
            },
            "type": "scatterternary"
           }
          ],
          "surface": [
           {
            "colorbar": {
             "outlinewidth": 1,
             "tickcolor": "rgb(36,36,36)",
             "ticks": "outside"
            },
            "colorscale": [
             [
              0,
              "#440154"
             ],
             [
              0.1111111111111111,
              "#482878"
             ],
             [
              0.2222222222222222,
              "#3e4989"
             ],
             [
              0.3333333333333333,
              "#31688e"
             ],
             [
              0.4444444444444444,
              "#26828e"
             ],
             [
              0.5555555555555556,
              "#1f9e89"
             ],
             [
              0.6666666666666666,
              "#35b779"
             ],
             [
              0.7777777777777778,
              "#6ece58"
             ],
             [
              0.8888888888888888,
              "#b5de2b"
             ],
             [
              1,
              "#fde725"
             ]
            ],
            "type": "surface"
           }
          ],
          "table": [
           {
            "cells": {
             "fill": {
              "color": "rgb(237,237,237)"
             },
             "line": {
              "color": "white"
             }
            },
            "header": {
             "fill": {
              "color": "rgb(217,217,217)"
             },
             "line": {
              "color": "white"
             }
            },
            "type": "table"
           }
          ]
         },
         "layout": {
          "annotationdefaults": {
           "arrowhead": 0,
           "arrowwidth": 1
          },
          "autotypenumbers": "strict",
          "coloraxis": {
           "colorbar": {
            "outlinewidth": 1,
            "tickcolor": "rgb(36,36,36)",
            "ticks": "outside"
           }
          },
          "colorscale": {
           "diverging": [
            [
             0,
             "rgb(103,0,31)"
            ],
            [
             0.1,
             "rgb(178,24,43)"
            ],
            [
             0.2,
             "rgb(214,96,77)"
            ],
            [
             0.3,
             "rgb(244,165,130)"
            ],
            [
             0.4,
             "rgb(253,219,199)"
            ],
            [
             0.5,
             "rgb(247,247,247)"
            ],
            [
             0.6,
             "rgb(209,229,240)"
            ],
            [
             0.7,
             "rgb(146,197,222)"
            ],
            [
             0.8,
             "rgb(67,147,195)"
            ],
            [
             0.9,
             "rgb(33,102,172)"
            ],
            [
             1,
             "rgb(5,48,97)"
            ]
           ],
           "sequential": [
            [
             0,
             "#440154"
            ],
            [
             0.1111111111111111,
             "#482878"
            ],
            [
             0.2222222222222222,
             "#3e4989"
            ],
            [
             0.3333333333333333,
             "#31688e"
            ],
            [
             0.4444444444444444,
             "#26828e"
            ],
            [
             0.5555555555555556,
             "#1f9e89"
            ],
            [
             0.6666666666666666,
             "#35b779"
            ],
            [
             0.7777777777777778,
             "#6ece58"
            ],
            [
             0.8888888888888888,
             "#b5de2b"
            ],
            [
             1,
             "#fde725"
            ]
           ],
           "sequentialminus": [
            [
             0,
             "#440154"
            ],
            [
             0.1111111111111111,
             "#482878"
            ],
            [
             0.2222222222222222,
             "#3e4989"
            ],
            [
             0.3333333333333333,
             "#31688e"
            ],
            [
             0.4444444444444444,
             "#26828e"
            ],
            [
             0.5555555555555556,
             "#1f9e89"
            ],
            [
             0.6666666666666666,
             "#35b779"
            ],
            [
             0.7777777777777778,
             "#6ece58"
            ],
            [
             0.8888888888888888,
             "#b5de2b"
            ],
            [
             1,
             "#fde725"
            ]
           ]
          },
          "colorway": [
           "#1F77B4",
           "#FF7F0E",
           "#2CA02C",
           "#D62728",
           "#9467BD",
           "#8C564B",
           "#E377C2",
           "#7F7F7F",
           "#BCBD22",
           "#17BECF"
          ],
          "font": {
           "color": "rgb(36,36,36)"
          },
          "geo": {
           "bgcolor": "white",
           "lakecolor": "white",
           "landcolor": "white",
           "showlakes": true,
           "showland": true,
           "subunitcolor": "white"
          },
          "hoverlabel": {
           "align": "left"
          },
          "hovermode": "closest",
          "mapbox": {
           "style": "light"
          },
          "paper_bgcolor": "white",
          "plot_bgcolor": "white",
          "polar": {
           "angularaxis": {
            "gridcolor": "rgb(232,232,232)",
            "linecolor": "rgb(36,36,36)",
            "showgrid": false,
            "showline": true,
            "ticks": "outside"
           },
           "bgcolor": "white",
           "radialaxis": {
            "gridcolor": "rgb(232,232,232)",
            "linecolor": "rgb(36,36,36)",
            "showgrid": false,
            "showline": true,
            "ticks": "outside"
           }
          },
          "scene": {
           "xaxis": {
            "backgroundcolor": "white",
            "gridcolor": "rgb(232,232,232)",
            "gridwidth": 2,
            "linecolor": "rgb(36,36,36)",
            "showbackground": true,
            "showgrid": false,
            "showline": true,
            "ticks": "outside",
            "zeroline": false,
            "zerolinecolor": "rgb(36,36,36)"
           },
           "yaxis": {
            "backgroundcolor": "white",
            "gridcolor": "rgb(232,232,232)",
            "gridwidth": 2,
            "linecolor": "rgb(36,36,36)",
            "showbackground": true,
            "showgrid": false,
            "showline": true,
            "ticks": "outside",
            "zeroline": false,
            "zerolinecolor": "rgb(36,36,36)"
           },
           "zaxis": {
            "backgroundcolor": "white",
            "gridcolor": "rgb(232,232,232)",
            "gridwidth": 2,
            "linecolor": "rgb(36,36,36)",
            "showbackground": true,
            "showgrid": false,
            "showline": true,
            "ticks": "outside",
            "zeroline": false,
            "zerolinecolor": "rgb(36,36,36)"
           }
          },
          "shapedefaults": {
           "fillcolor": "black",
           "line": {
            "width": 0
           },
           "opacity": 0.3
          },
          "ternary": {
           "aaxis": {
            "gridcolor": "rgb(232,232,232)",
            "linecolor": "rgb(36,36,36)",
            "showgrid": false,
            "showline": true,
            "ticks": "outside"
           },
           "baxis": {
            "gridcolor": "rgb(232,232,232)",
            "linecolor": "rgb(36,36,36)",
            "showgrid": false,
            "showline": true,
            "ticks": "outside"
           },
           "bgcolor": "white",
           "caxis": {
            "gridcolor": "rgb(232,232,232)",
            "linecolor": "rgb(36,36,36)",
            "showgrid": false,
            "showline": true,
            "ticks": "outside"
           }
          },
          "title": {
           "x": 0.05
          },
          "xaxis": {
           "automargin": true,
           "gridcolor": "rgb(232,232,232)",
           "linecolor": "rgb(36,36,36)",
           "showgrid": false,
           "showline": true,
           "ticks": "outside",
           "title": {
            "standoff": 15
           },
           "zeroline": false,
           "zerolinecolor": "rgb(36,36,36)"
          },
          "yaxis": {
           "automargin": true,
           "gridcolor": "rgb(232,232,232)",
           "linecolor": "rgb(36,36,36)",
           "showgrid": false,
           "showline": true,
           "ticks": "outside",
           "title": {
            "standoff": 15
           },
           "zeroline": false,
           "zerolinecolor": "rgb(36,36,36)"
          }
         }
        }
       }
      },
      "image/png": "[encoded data removed]",
      "text/html": [
       "<div>                            <div id=\"96800833-9aa1-4c84-9286-1a03eed3b981\" class=\"plotly-graph-div\" style=\"height:525px; width:900px;\"></div>            <script type=\"text/javascript\">                require([\"plotly\"], function(Plotly) {                    window.PLOTLYENV=window.PLOTLYENV || {};                                    if (document.getElementById(\"96800833-9aa1-4c84-9286-1a03eed3b981\")) {                    Plotly.newPlot(                        \"96800833-9aa1-4c84-9286-1a03eed3b981\",                        [{\"hovertemplate\":\"line_group=0<br>X=%{x}<br>Y=%{y}<br>Z=%{z}<extra></extra>\",\"legendgroup\":\"\",\"line\":{\"color\":\"black\",\"dash\":\"solid\",\"width\":4},\"marker\":{\"symbol\":\"circle\",\"size\":3},\"mode\":\"lines\",\"name\":\"\",\"scene\":\"scene\",\"showlegend\":false,\"x\":[0,0],\"y\":[0,0],\"z\":[0,65],\"type\":\"scatter3d\"},{\"hovertemplate\":\"line_group=1<br>X=%{x}<br>Y=%{y}<br>Z=%{z}<extra></extra>\",\"legendgroup\":\"\",\"line\":{\"color\":\"black\",\"dash\":\"solid\",\"width\":4},\"marker\":{\"symbol\":\"circle\",\"size\":3},\"mode\":\"lines\",\"name\":\"\",\"scene\":\"scene\",\"showlegend\":false,\"x\":[0,0],\"y\":[899,899],\"z\":[0,65],\"type\":\"scatter3d\"},{\"hovertemplate\":\"line_group=2<br>X=%{x}<br>Y=%{y}<br>Z=%{z}<extra></extra>\",\"legendgroup\":\"\",\"line\":{\"color\":\"black\",\"dash\":\"solid\",\"width\":4},\"marker\":{\"symbol\":\"circle\",\"size\":3},\"mode\":\"lines\",\"name\":\"\",\"scene\":\"scene\",\"showlegend\":false,\"x\":[795,795],\"y\":[0,0],\"z\":[0,65],\"type\":\"scatter3d\"},{\"hovertemplate\":\"line_group=3<br>X=%{x}<br>Y=%{y}<br>Z=%{z}<extra></extra>\",\"legendgroup\":\"\",\"line\":{\"color\":\"black\",\"dash\":\"solid\",\"width\":4},\"marker\":{\"symbol\":\"circle\",\"size\":3},\"mode\":\"lines\",\"name\":\"\",\"scene\":\"scene\",\"showlegend\":false,\"x\":[795,795],\"y\":[899,899],\"z\":[0,65],\"type\":\"scatter3d\"},{\"hovertemplate\":\"line_group=4<br>X=%{x}<br>Y=%{y}<br>Z=%{z}<extra></extra>\",\"legendgroup\":\"\",\"line\":{\"color\":\"black\",\"dash\":\"solid\",\"width\":4},\"marker\":{\"symbol\":\"circle\",\"size\":3},\"mode\":\"lines\",\"name\":\"\",\"scene\":\"scene\",\"showlegend\":false,\"x\":[0,0],\"y\":[0,899],\"z\":[0,0],\"type\":\"scatter3d\"},{\"hovertemplate\":\"line_group=5<br>X=%{x}<br>Y=%{y}<br>Z=%{z}<extra></extra>\",\"legendgroup\":\"\",\"line\":{\"color\":\"black\",\"dash\":\"solid\",\"width\":4},\"marker\":{\"symbol\":\"circle\",\"size\":3},\"mode\":\"lines\",\"name\":\"\",\"scene\":\"scene\",\"showlegend\":false,\"x\":[0,0],\"y\":[0,899],\"z\":[65,65],\"type\":\"scatter3d\"},{\"hovertemplate\":\"line_group=6<br>X=%{x}<br>Y=%{y}<br>Z=%{z}<extra></extra>\",\"legendgroup\":\"\",\"line\":{\"color\":\"black\",\"dash\":\"solid\",\"width\":4},\"marker\":{\"symbol\":\"circle\",\"size\":3},\"mode\":\"lines\",\"name\":\"\",\"scene\":\"scene\",\"showlegend\":false,\"x\":[795,795],\"y\":[0,899],\"z\":[0,0],\"type\":\"scatter3d\"},{\"hovertemplate\":\"line_group=7<br>X=%{x}<br>Y=%{y}<br>Z=%{z}<extra></extra>\",\"legendgroup\":\"\",\"line\":{\"color\":\"black\",\"dash\":\"solid\",\"width\":4},\"marker\":{\"symbol\":\"circle\",\"size\":3},\"mode\":\"lines\",\"name\":\"\",\"scene\":\"scene\",\"showlegend\":false,\"x\":[795,795],\"y\":[0,899],\"z\":[65,65],\"type\":\"scatter3d\"},{\"hovertemplate\":\"line_group=8<br>X=%{x}<br>Y=%{y}<br>Z=%{z}<extra></extra>\",\"legendgroup\":\"\",\"line\":{\"color\":\"black\",\"dash\":\"solid\",\"width\":4},\"marker\":{\"symbol\":\"circle\",\"size\":3},\"mode\":\"lines\",\"name\":\"\",\"scene\":\"scene\",\"showlegend\":false,\"x\":[0,795],\"y\":[0,0],\"z\":[0,0],\"type\":\"scatter3d\"},{\"hovertemplate\":\"line_group=9<br>X=%{x}<br>Y=%{y}<br>Z=%{z}<extra></extra>\",\"legendgroup\":\"\",\"line\":{\"color\":\"black\",\"dash\":\"solid\",\"width\":4},\"marker\":{\"symbol\":\"circle\",\"size\":3},\"mode\":\"lines\",\"name\":\"\",\"scene\":\"scene\",\"showlegend\":false,\"x\":[0,795],\"y\":[899,899],\"z\":[0,0],\"type\":\"scatter3d\"},{\"hovertemplate\":\"line_group=10<br>X=%{x}<br>Y=%{y}<br>Z=%{z}<extra></extra>\",\"legendgroup\":\"\",\"line\":{\"color\":\"black\",\"dash\":\"solid\",\"width\":4},\"marker\":{\"symbol\":\"circle\",\"size\":3},\"mode\":\"lines\",\"name\":\"\",\"scene\":\"scene\",\"showlegend\":false,\"x\":[0,795],\"y\":[0,0],\"z\":[65,65],\"type\":\"scatter3d\"},{\"hovertemplate\":\"line_group=11<br>X=%{x}<br>Y=%{y}<br>Z=%{z}<extra></extra>\",\"legendgroup\":\"\",\"line\":{\"color\":\"black\",\"dash\":\"solid\",\"width\":4},\"marker\":{\"symbol\":\"circle\",\"size\":3},\"mode\":\"lines\",\"name\":\"\",\"scene\":\"scene\",\"showlegend\":false,\"x\":[0,795],\"y\":[899,899],\"z\":[65,65],\"type\":\"scatter3d\"},{\"x\":[258.03508771929825],\"y\":[350.35087719298247],\"z\":[2.9298245614035086],\"type\":\"scatter3d\",\"marker\":{\"size\":3}},{\"x\":[54.81372549019608],\"y\":[461.578431372549],\"z\":[2.5980392156862746],\"type\":\"scatter3d\",\"marker\":{\"size\":3}},{\"x\":[333.3888888888889],\"y\":[767.2777777777778],\"z\":[5.37037037037037],\"type\":\"scatter3d\",\"marker\":{\"size\":3}},{\"x\":[34.94871794871795],\"y\":[410.35042735042737],\"z\":[5.888888888888889],\"type\":\"scatter3d\",\"marker\":{\"size\":3}},{\"x\":[351.7096774193548],\"y\":[638.483870967742],\"z\":[2.5483870967741935],\"type\":\"scatter3d\",\"marker\":{\"size\":3}},{\"x\":[388.2328767123288],\"y\":[723.3767123287671],\"z\":[6.030821917808219],\"type\":\"scatter3d\",\"marker\":{\"size\":3}},{\"x\":[229.78985507246378],\"y\":[168.9927536231884],\"z\":[3.6666666666666665],\"type\":\"scatter3d\",\"marker\":{\"size\":3}},{\"x\":[560.8257261410788],\"y\":[580.402489626556],\"z\":[7.804979253112033],\"type\":\"scatter3d\",\"marker\":{\"size\":3}},{\"x\":[195.7336448598131],\"y\":[728.0280373831775],\"z\":[5.588785046728972],\"type\":\"scatter3d\",\"marker\":{\"size\":3}},{\"x\":[542.2793522267207],\"y\":[800.3441295546559],\"z\":[7.376518218623482],\"type\":\"scatter3d\",\"marker\":{\"size\":3}},{\"x\":[97.94594594594595],\"y\":[432.8288288288288],\"z\":[5.864864864864865],\"type\":\"scatter3d\",\"marker\":{\"size\":3}},{\"x\":[644.6744186046511],\"y\":[628.3953488372093],\"z\":[11.878552971576227],\"type\":\"scatter3d\",\"marker\":{\"size\":3}},{\"x\":[366.85616438356163],\"y\":[704.4543378995434],\"z\":[10.127853881278538],\"type\":\"scatter3d\",\"marker\":{\"size\":3}},{\"x\":[363.68482490272373],\"y\":[780.6303501945525],\"z\":[7.214007782101167],\"type\":\"scatter3d\",\"marker\":{\"size\":3}},{\"x\":[518.9858585858586],\"y\":[837.3151515151516],\"z\":[11.385858585858585],\"type\":\"scatter3d\",\"marker\":{\"size\":3}},{\"x\":[262.3720930232558],\"y\":[303.74418604651163],\"z\":[6.0],\"type\":\"scatter3d\",\"marker\":{\"size\":3}},{\"x\":[455.55756207674943],\"y\":[650.9571106094808],\"z\":[11.139954853273137],\"type\":\"scatter3d\",\"marker\":{\"size\":3}},{\"x\":[369.3666666666667],\"y\":[789.97],\"z\":[10.71],\"type\":\"scatter3d\",\"marker\":{\"size\":3}},{\"x\":[634.1285714285714],\"y\":[562.5285714285715],\"z\":[7.0285714285714285],\"type\":\"scatter3d\",\"marker\":{\"size\":3}},{\"x\":[616.6451612903226],\"y\":[738.0],\"z\":[7.580645161290323],\"type\":\"scatter3d\",\"marker\":{\"size\":3}},{\"x\":[370.93548387096774],\"y\":[856.4354838709677],\"z\":[8.241935483870968],\"type\":\"scatter3d\",\"marker\":{\"size\":3}},{\"x\":[342.27777777777777],\"y\":[607.8472222222222],\"z\":[8.333333333333334],\"type\":\"scatter3d\",\"marker\":{\"size\":3}},{\"x\":[154.6904761904762],\"y\":[678.1785714285714],\"z\":[10.869047619047619],\"type\":\"scatter3d\",\"marker\":{\"size\":3}},{\"x\":[307.16379310344826],\"y\":[742.3706896551724],\"z\":[9.508620689655173],\"type\":\"scatter3d\",\"marker\":{\"size\":3}},{\"x\":[174.33898305084745],\"y\":[835.8728813559322],\"z\":[8.745762711864407],\"type\":\"scatter3d\",\"marker\":{\"size\":3}},{\"x\":[310.8634259259259],\"y\":[666.1412037037037],\"z\":[13.30324074074074],\"type\":\"scatter3d\",\"marker\":{\"size\":3}},{\"x\":[495.359649122807],\"y\":[749.2587719298245],\"z\":[11.557017543859649],\"type\":\"scatter3d\",\"marker\":{\"size\":3}},{\"x\":[346.475],\"y\":[880.4],\"z\":[9.5125],\"type\":\"scatter3d\",\"marker\":{\"size\":3}},{\"x\":[554.4207650273224],\"y\":[595.2295081967213],\"z\":[12.158469945355192],\"type\":\"scatter3d\",\"marker\":{\"size\":3}},{\"x\":[171.42222222222222],\"y\":[694.3111111111111],\"z\":[11.4],\"type\":\"scatter3d\",\"marker\":{\"size\":3}},{\"x\":[508.91898734177215],\"y\":[768.6050632911392],\"z\":[14.151898734177216],\"type\":\"scatter3d\",\"marker\":{\"size\":3}},{\"x\":[324.3359375],\"y\":[892.7265625],\"z\":[11.6015625],\"type\":\"scatter3d\",\"marker\":{\"size\":3}},{\"x\":[575.171974522293],\"y\":[589.8630573248407],\"z\":[14.961783439490446],\"type\":\"scatter3d\",\"marker\":{\"size\":3}},{\"x\":[610.9002242152467],\"y\":[652.0112107623319],\"z\":[21.140134529147982],\"type\":\"scatter3d\",\"marker\":{\"size\":3}},{\"x\":[256.3191489361702],\"y\":[735.0070921985815],\"z\":[11.666666666666666],\"type\":\"scatter3d\",\"marker\":{\"size\":3}},{\"x\":[450.8942307692308],\"y\":[773.3173076923077],\"z\":[13.051923076923076],\"type\":\"scatter3d\",\"marker\":{\"size\":3}},{\"x\":[209.73758865248226],\"y\":[842.3475177304964],\"z\":[13.411347517730496],\"type\":\"scatter3d\",\"marker\":{\"size\":3}},{\"x\":[593.8780487804878],\"y\":[463.8048780487805],\"z\":[12.609756097560975],\"type\":\"scatter3d\",\"marker\":{\"size\":3}},{\"x\":[518.3888888888889],\"y\":[539.3703703703703],\"z\":[11.62962962962963],\"type\":\"scatter3d\",\"marker\":{\"size\":3}},{\"x\":[626.3442786069652],\"y\":[592.281592039801],\"z\":[20.46766169154229],\"type\":\"scatter3d\",\"marker\":{\"size\":3}},{\"x\":[149.53386454183266],\"y\":[624.7808764940239],\"z\":[14.43824701195219],\"type\":\"scatter3d\",\"marker\":{\"size\":3}},{\"x\":[576.4597014925373],\"y\":[638.3432835820895],\"z\":[14.51044776119403],\"type\":\"scatter3d\",\"marker\":{\"size\":3}},{\"x\":[68.06111111111112],\"y\":[654.4055555555556],\"z\":[12.016666666666667],\"type\":\"scatter3d\",\"marker\":{\"size\":3}},{\"x\":[552.3220551378446],\"y\":[666.4661654135339],\"z\":[19.670426065162907],\"type\":\"scatter3d\",\"marker\":{\"size\":3}},{\"x\":[282.9281045751634],\"y\":[687.9019607843137],\"z\":[13.869281045751634],\"type\":\"scatter3d\",\"marker\":{\"size\":3}},{\"x\":[556.8571428571429],\"y\":[715.5238095238095],\"z\":[12.301587301587302],\"type\":\"scatter3d\",\"marker\":{\"size\":3}},{\"x\":[576.2083333333334],\"y\":[744.375],\"z\":[14.305555555555555],\"type\":\"scatter3d\",\"marker\":{\"size\":3}},{\"x\":[185.21513944223108],\"y\":[775.7808764940239],\"z\":[15.43824701195219],\"type\":\"scatter3d\",\"marker\":{\"size\":3}},{\"x\":[165.1891891891892],\"y\":[812.7621621621622],\"z\":[12.605405405405405],\"type\":\"scatter3d\",\"marker\":{\"size\":3}},{\"x\":[219.54896907216494],\"y\":[839.889175257732],\"z\":[16.574742268041238],\"type\":\"scatter3d\",\"marker\":{\"size\":3}},{\"x\":[232.51694915254237],\"y\":[867.9915254237288],\"z\":[12.872881355932204],\"type\":\"scatter3d\",\"marker\":{\"size\":3}},{\"x\":[613.9469424460432],\"y\":[460.4928057553957],\"z\":[24.429856115107913],\"type\":\"scatter3d\",\"marker\":{\"size\":3}},{\"x\":[530.7272727272727],\"y\":[518.479020979021],\"z\":[16.727272727272727],\"type\":\"scatter3d\",\"marker\":{\"size\":3}},{\"x\":[563.2264150943396],\"y\":[563.2948113207547],\"z\":[16.702830188679247],\"type\":\"scatter3d\",\"marker\":{\"size\":3}},{\"x\":[644.4791666666666],\"y\":[591.5520833333334],\"z\":[13.8125],\"type\":\"scatter3d\",\"marker\":{\"size\":3}},{\"x\":[464.63157894736844],\"y\":[626.7894736842105],\"z\":[12.642105263157895],\"type\":\"scatter3d\",\"marker\":{\"size\":3}},{\"x\":[77.66401590457257],\"y\":[657.8091451292247],\"z\":[16.24850894632207],\"type\":\"scatter3d\",\"marker\":{\"size\":3}},{\"x\":[430.9767441860465],\"y\":[684.0988372093024],\"z\":[15.662790697674419],\"type\":\"scatter3d\",\"marker\":{\"size\":3}},{\"x\":[433.36756756756756],\"y\":[701.7783783783784],\"z\":[16.205405405405404],\"type\":\"scatter3d\",\"marker\":{\"size\":3}},{\"x\":[588.3818181818182],\"y\":[717.4727272727273],\"z\":[14.145454545454545],\"type\":\"scatter3d\",\"marker\":{\"size\":3}},{\"x\":[420.04347826086956],\"y\":[752.7826086956521],\"z\":[13.91304347826087],\"type\":\"scatter3d\",\"marker\":{\"size\":3}},{\"x\":[542.375796178344],\"y\":[806.2547770700637],\"z\":[15.248407643312103],\"type\":\"scatter3d\",\"marker\":{\"size\":3}},{\"x\":[261.35135135135135],\"y\":[862.009009009009],\"z\":[14.954954954954955],\"type\":\"scatter3d\",\"marker\":{\"size\":3}},{\"x\":[171.3132530120482],\"y\":[889.4698795180723],\"z\":[12.542168674698795],\"type\":\"scatter3d\",\"marker\":{\"size\":3}},{\"x\":[529.4426229508197],\"y\":[508.78922716627636],\"z\":[19.159250585480095],\"type\":\"scatter3d\",\"marker\":{\"size\":3}},{\"x\":[89.0],\"y\":[587.4603174603175],\"z\":[14.11111111111111],\"type\":\"scatter3d\",\"marker\":{\"size\":3}},{\"x\":[320.26190476190476],\"y\":[703.1785714285714],\"z\":[14.511904761904763],\"type\":\"scatter3d\",\"marker\":{\"size\":3}},{\"x\":[334.9],\"y\":[747.7153846153847],\"z\":[17.215384615384615],\"type\":\"scatter3d\",\"marker\":{\"size\":3}},{\"x\":[171.3],\"y\":[885.85],\"z\":[13.6],\"type\":\"scatter3d\",\"marker\":{\"size\":3}},{\"x\":[636.8996865203761],\"y\":[571.7962382445141],\"z\":[22.601880877742946],\"type\":\"scatter3d\",\"marker\":{\"size\":3}},{\"x\":[496.8048780487805],\"y\":[658.219512195122],\"z\":[14.341463414634147],\"type\":\"scatter3d\",\"marker\":{\"size\":3}},{\"x\":[179.38709677419354],\"y\":[729.3440860215054],\"z\":[18.197132616487455],\"type\":\"scatter3d\",\"marker\":{\"size\":3}},{\"x\":[168.84595959595958],\"y\":[794.2676767676768],\"z\":[18.31313131313131],\"type\":\"scatter3d\",\"marker\":{\"size\":3}},{\"x\":[305.36],\"y\":[872.2],\"z\":[16.52],\"type\":\"scatter3d\",\"marker\":{\"size\":3}},{\"x\":[99.59178743961353],\"y\":[478.68599033816423],\"z\":[19.780193236714975],\"type\":\"scatter3d\",\"marker\":{\"size\":3}},{\"x\":[545.5188679245283],\"y\":[548.0094339622641],\"z\":[16.77358490566038],\"type\":\"scatter3d\",\"marker\":{\"size\":3}},{\"x\":[383.9835390946502],\"y\":[596.7448559670781],\"z\":[19.234567901234566],\"type\":\"scatter3d\",\"marker\":{\"size\":3}},{\"x\":[491.975],\"y\":[650.19],\"z\":[18.545],\"type\":\"scatter3d\",\"marker\":{\"size\":3}},{\"x\":[326.0826771653543],\"y\":[685.8543307086615],\"z\":[18.346456692913385],\"type\":\"scatter3d\",\"marker\":{\"size\":3}},{\"x\":[162.6578947368421],\"y\":[744.1052631578947],\"z\":[17.13157894736842],\"type\":\"scatter3d\",\"marker\":{\"size\":3}},{\"x\":[326.97222222222223],\"y\":[827.8981481481482],\"z\":[16.685185185185187],\"type\":\"scatter3d\",\"marker\":{\"size\":3}},{\"x\":[541.133779264214],\"y\":[327.494983277592],\"z\":[24.578595317725753],\"type\":\"scatter3d\",\"marker\":{\"size\":3}},{\"x\":[629.3333333333334],\"y\":[407.4527027027027],\"z\":[22.385135135135137],\"type\":\"scatter3d\",\"marker\":{\"size\":3}},{\"x\":[427.17255717255716],\"y\":[519.991683991684],\"z\":[20.30977130977131],\"type\":\"scatter3d\",\"marker\":{\"size\":3}},{\"x\":[439.74311926605503],\"y\":[559.8623853211009],\"z\":[19.422018348623855],\"type\":\"scatter3d\",\"marker\":{\"size\":3}},{\"x\":[338.39906103286387],\"y\":[575.9327073552425],\"z\":[20.816901408450704],\"type\":\"scatter3d\",\"marker\":{\"size\":3}},{\"x\":[424.79003558718864],\"y\":[595.459074733096],\"z\":[20.398576512455517],\"type\":\"scatter3d\",\"marker\":{\"size\":3}},{\"x\":[428.1449275362319],\"y\":[625.1594202898551],\"z\":[18.202898550724637],\"type\":\"scatter3d\",\"marker\":{\"size\":3}},{\"x\":[247.60223048327137],\"y\":[647.4721189591078],\"z\":[18.858736059479554],\"type\":\"scatter3d\",\"marker\":{\"size\":3}},{\"x\":[356.04895104895104],\"y\":[676.995337995338],\"z\":[19.946386946386948],\"type\":\"scatter3d\",\"marker\":{\"size\":3}},{\"x\":[598.2850877192982],\"y\":[708.7587719298245],\"z\":[19.31140350877193],\"type\":\"scatter3d\",\"marker\":{\"size\":3}},{\"x\":[195.6392523364486],\"y\":[730.4598130841122],\"z\":[21.38317757009346],\"type\":\"scatter3d\",\"marker\":{\"size\":3}},{\"x\":[430.9074074074074],\"y\":[754.3024691358024],\"z\":[19.858024691358025],\"type\":\"scatter3d\",\"marker\":{\"size\":3}},{\"x\":[537.4412698412698],\"y\":[807.3396825396825],\"z\":[20.025396825396825],\"type\":\"scatter3d\",\"marker\":{\"size\":3}},{\"x\":[241.82982171799028],\"y\":[866.9529983792545],\"z\":[21.179902755267424],\"type\":\"scatter3d\",\"marker\":{\"size\":3}},{\"x\":[212.3913043478261],\"y\":[185.69565217391303],\"z\":[18.206521739130434],\"type\":\"scatter3d\",\"marker\":{\"size\":3}},{\"x\":[493.8225806451613],\"y\":[290.1290322580645],\"z\":[18.508064516129032],\"type\":\"scatter3d\",\"marker\":{\"size\":3}},{\"x\":[465.06976744186045],\"y\":[372.5581395348837],\"z\":[18.86046511627907],\"type\":\"scatter3d\",\"marker\":{\"size\":3}},{\"x\":[338.55263157894734],\"y\":[429.42105263157896],\"z\":[19.289473684210527],\"type\":\"scatter3d\",\"marker\":{\"size\":3}},{\"x\":[606.2470588235294],\"y\":[495.3176470588235],\"z\":[18.894117647058824],\"type\":\"scatter3d\",\"marker\":{\"size\":3}},{\"x\":[103.43386243386243],\"y\":[540.4444444444445],\"z\":[21.38095238095238],\"type\":\"scatter3d\",\"marker\":{\"size\":3}},{\"x\":[184.67132867132867],\"y\":[563.4335664335664],\"z\":[19.18881118881119],\"type\":\"scatter3d\",\"marker\":{\"size\":3}},{\"x\":[351.54696132596683],\"y\":[580.0662983425415],\"z\":[21.472375690607734],\"type\":\"scatter3d\",\"marker\":{\"size\":3}},{\"x\":[86.30128205128206],\"y\":[605.6923076923077],\"z\":[20.365384615384617],\"type\":\"scatter3d\",\"marker\":{\"size\":3}},{\"x\":[596.7882037533512],\"y\":[629.3136729222521],\"z\":[26.55764075067024],\"type\":\"scatter3d\",\"marker\":{\"size\":3}},{\"x\":[427.1741293532338],\"y\":[661.0431177446103],\"z\":[22.623548922056386],\"type\":\"scatter3d\",\"marker\":{\"size\":3}},{\"x\":[398.02508960573476],\"y\":[675.0215053763441],\"z\":[23.136200716845877],\"type\":\"scatter3d\",\"marker\":{\"size\":3}},{\"x\":[594.6256684491979],\"y\":[697.8449197860963],\"z\":[19.754010695187166],\"type\":\"scatter3d\",\"marker\":{\"size\":3}},{\"x\":[408.5],\"y\":[718.8623188405797],\"z\":[22.108695652173914],\"type\":\"scatter3d\",\"marker\":{\"size\":3}},{\"x\":[344.99696048632217],\"y\":[744.5744680851063],\"z\":[21.282674772036476],\"type\":\"scatter3d\",\"marker\":{\"size\":3}},{\"x\":[332.6532258064516],\"y\":[790.6229838709677],\"z\":[22.669354838709676],\"type\":\"scatter3d\",\"marker\":{\"size\":3}},{\"x\":[404.93333333333334],\"y\":[847.1333333333333],\"z\":[17.9],\"type\":\"scatter3d\",\"marker\":{\"size\":3}},{\"x\":[365.11764705882354],\"y\":[897.6235294117647],\"z\":[18.988235294117647],\"type\":\"scatter3d\",\"marker\":{\"size\":3}},{\"x\":[494.5701849836779],\"y\":[292.8770402611534],\"z\":[26.910772578890096],\"type\":\"scatter3d\",\"marker\":{\"size\":3}},{\"x\":[305.2962962962963],\"y\":[346.5473251028807],\"z\":[20.296296296296298],\"type\":\"scatter3d\",\"marker\":{\"size\":3}},{\"x\":[168.08530805687204],\"y\":[430.26066350710903],\"z\":[21.03791469194313],\"type\":\"scatter3d\",\"marker\":{\"size\":3}},{\"x\":[380.54455445544556],\"y\":[534.8435643564356],\"z\":[24.54059405940594],\"type\":\"scatter3d\",\"marker\":{\"size\":3}},{\"x\":[675.921875],\"y\":[594.46875],\"z\":[21.0],\"type\":\"scatter3d\",\"marker\":{\"size\":3}},{\"x\":[656.1882183908046],\"y\":[639.9899425287356],\"z\":[26.60919540229885],\"type\":\"scatter3d\",\"marker\":{\"size\":3}},{\"x\":[465.26421404682276],\"y\":[697.0668896321071],\"z\":[23.48829431438127],\"type\":\"scatter3d\",\"marker\":{\"size\":3}},{\"x\":[276.82608695652175],\"y\":[754.4782608695652],\"z\":[19.608695652173914],\"type\":\"scatter3d\",\"marker\":{\"size\":3}},{\"x\":[197.20454545454547],\"y\":[812.2954545454545],\"z\":[19.84090909090909],\"type\":\"scatter3d\",\"marker\":{\"size\":3}},{\"x\":[532.4733969986357],\"y\":[225.85538881309685],\"z\":[26.15825375170532],\"type\":\"scatter3d\",\"marker\":{\"size\":3}},{\"x\":[531.6830601092896],\"y\":[374.0054644808743],\"z\":[25.469945355191257],\"type\":\"scatter3d\",\"marker\":{\"size\":3}},{\"x\":[667.5490196078431],\"y\":[432.37254901960785],\"z\":[20.294117647058822],\"type\":\"scatter3d\",\"marker\":{\"size\":3}},{\"x\":[373.14285714285717],\"y\":[495.04],\"z\":[22.125714285714285],\"type\":\"scatter3d\",\"marker\":{\"size\":3}},{\"x\":[105.94871794871794],\"y\":[551.3589743589744],\"z\":[22.811965811965813],\"type\":\"scatter3d\",\"marker\":{\"size\":3}},{\"x\":[637.1941747572815],\"y\":[586.0097087378641],\"z\":[23.233009708737864],\"type\":\"scatter3d\",\"marker\":{\"size\":3}},{\"x\":[570.183066361556],\"y\":[652.695652173913],\"z\":[25.130434782608695],\"type\":\"scatter3d\",\"marker\":{\"size\":3}},{\"x\":[339.6345029239766],\"y\":[695.578947368421],\"z\":[25.099415204678362],\"type\":\"scatter3d\",\"marker\":{\"size\":3}},{\"x\":[220.321083172147],\"y\":[733.9245647969052],\"z\":[23.429400386847195],\"type\":\"scatter3d\",\"marker\":{\"size\":3}},{\"x\":[526.7744680851064],\"y\":[789.4978723404255],\"z\":[22.45531914893617],\"type\":\"scatter3d\",\"marker\":{\"size\":3}},{\"x\":[253.59585492227978],\"y\":[880.6269430051814],\"z\":[21.55440414507772],\"type\":\"scatter3d\",\"marker\":{\"size\":3}},{\"x\":[575.7058823529412],\"y\":[302.27450980392155],\"z\":[25.45098039215686],\"type\":\"scatter3d\",\"marker\":{\"size\":3}},{\"x\":[76.82424242424243],\"y\":[347.8636363636364],\"z\":[28.21060606060606],\"type\":\"scatter3d\",\"marker\":{\"size\":3}},{\"x\":[90.14583333333333],\"y\":[412.125],\"z\":[20.645833333333332],\"type\":\"scatter3d\",\"marker\":{\"size\":3}},{\"x\":[344.64044943820227],\"y\":[517.314606741573],\"z\":[20.95505617977528],\"type\":\"scatter3d\",\"marker\":{\"size\":3}},{\"x\":[69.25980392156863],\"y\":[557.5049019607843],\"z\":[23.46078431372549],\"type\":\"scatter3d\",\"marker\":{\"size\":3}},{\"x\":[221.22388059701493],\"y\":[596.6417910447761],\"z\":[21.80597014925373],\"type\":\"scatter3d\",\"marker\":{\"size\":3}},{\"x\":[265.15606936416185],\"y\":[652.7630057803468],\"z\":[22.878612716763005],\"type\":\"scatter3d\",\"marker\":{\"size\":3}},{\"x\":[276.54976303317534],\"y\":[711.8578199052133],\"z\":[25.497630331753555],\"type\":\"scatter3d\",\"marker\":{\"size\":3}},{\"x\":[388.8288590604027],\"y\":[742.3959731543624],\"z\":[25.66778523489933],\"type\":\"scatter3d\",\"marker\":{\"size\":3}},{\"x\":[342.1458333333333],\"y\":[796.625],\"z\":[20.9375],\"type\":\"scatter3d\",\"marker\":{\"size\":3}},{\"x\":[423.7],\"y\":[875.50625],\"z\":[22.08125],\"type\":\"scatter3d\",\"marker\":{\"size\":3}},{\"x\":[266.15714285714284],\"y\":[308.9157142857143],\"z\":[26.912857142857142],\"type\":\"scatter3d\",\"marker\":{\"size\":3}},{\"x\":[132.02564102564102],\"y\":[369.11965811965814],\"z\":[23.367521367521366],\"type\":\"scatter3d\",\"marker\":{\"size\":3}},{\"x\":[503.21367521367523],\"y\":[525.5213675213676],\"z\":[22.837606837606838],\"type\":\"scatter3d\",\"marker\":{\"size\":3}},{\"x\":[195.53793103448277],\"y\":[573.9724137931034],\"z\":[23.586206896551722],\"type\":\"scatter3d\",\"marker\":{\"size\":3}},{\"x\":[93.27065527065527],\"y\":[629.2022792022792],\"z\":[26.797720797720796],\"type\":\"scatter3d\",\"marker\":{\"size\":3}},{\"x\":[115.03171641791045],\"y\":[666.0764925373135],\"z\":[27.708955223880597],\"type\":\"scatter3d\",\"marker\":{\"size\":3}},{\"x\":[542.4166666666666],\"y\":[737.7685185185185],\"z\":[22.944444444444443],\"type\":\"scatter3d\",\"marker\":{\"size\":3}},{\"x\":[462.5924369747899],\"y\":[825.281512605042],\"z\":[24.15126050420168],\"type\":\"scatter3d\",\"marker\":{\"size\":3}},{\"x\":[393.3355263157895],\"y\":[198.56140350877192],\"z\":[25.109649122807017],\"type\":\"scatter3d\",\"marker\":{\"size\":3}},{\"x\":[591.1503105590062],\"y\":[287.30186335403727],\"z\":[27.891925465838508],\"type\":\"scatter3d\",\"marker\":{\"size\":3}},{\"x\":[268.45081967213116],\"y\":[390.9549180327869],\"z\":[24.991803278688526],\"type\":\"scatter3d\",\"marker\":{\"size\":3}},{\"x\":[550.1912751677852],\"y\":[484.73825503355704],\"z\":[26.963087248322147],\"type\":\"scatter3d\",\"marker\":{\"size\":3}},{\"x\":[300.87692307692305],\"y\":[588.4153846153846],\"z\":[23.06153846153846],\"type\":\"scatter3d\",\"marker\":{\"size\":3}},{\"x\":[259.5272727272727],\"y\":[644.6363636363636],\"z\":[24.854545454545455],\"type\":\"scatter3d\",\"marker\":{\"size\":3}},{\"x\":[629.4673123486683],\"y\":[700.6150121065375],\"z\":[27.605326876513317],\"type\":\"scatter3d\",\"marker\":{\"size\":3}},{\"x\":[376.53333333333336],\"y\":[810.4333333333333],\"z\":[24.857142857142858],\"type\":\"scatter3d\",\"marker\":{\"size\":3}},{\"x\":[190.24242424242425],\"y\":[891.5909090909091],\"z\":[22.818181818181817],\"type\":\"scatter3d\",\"marker\":{\"size\":3}},{\"x\":[359.47115384615387],\"y\":[253.53205128205127],\"z\":[26.55448717948718],\"type\":\"scatter3d\",\"marker\":{\"size\":3}},{\"x\":[212.94551282051282],\"y\":[311.75320512820514],\"z\":[25.923076923076923],\"type\":\"scatter3d\",\"marker\":{\"size\":3}},{\"x\":[500.6823529411765],\"y\":[364.55882352941177],\"z\":[26.28235294117647],\"type\":\"scatter3d\",\"marker\":{\"size\":3}},{\"x\":[681.047619047619],\"y\":[426.76190476190476],\"z\":[24.095238095238095],\"type\":\"scatter3d\",\"marker\":{\"size\":3}},{\"x\":[401.82022471910113],\"y\":[482.89325842696627],\"z\":[26.685393258426966],\"type\":\"scatter3d\",\"marker\":{\"size\":3}},{\"x\":[326.4018018018018],\"y\":[562.3891891891892],\"z\":[28.036036036036037],\"type\":\"scatter3d\",\"marker\":{\"size\":3}},{\"x\":[221.30841121495328],\"y\":[604.8831775700935],\"z\":[27.2196261682243],\"type\":\"scatter3d\",\"marker\":{\"size\":3}},{\"x\":[654.4270270270271],\"y\":[651.6378378378379],\"z\":[25.7027027027027],\"type\":\"scatter3d\",\"marker\":{\"size\":3}},{\"x\":[376.3316582914573],\"y\":[673.1256281407035],\"z\":[26.844221105527637],\"type\":\"scatter3d\",\"marker\":{\"size\":3}},{\"x\":[176.3416149068323],\"y\":[741.4844720496894],\"z\":[25.167701863354036],\"type\":\"scatter3d\",\"marker\":{\"size\":3}},{\"x\":[432.9142857142857],\"y\":[801.1714285714286],\"z\":[25.02857142857143],\"type\":\"scatter3d\",\"marker\":{\"size\":3}},{\"x\":[328.63731656184484],\"y\":[890.6163522012579],\"z\":[27.742138364779873],\"type\":\"scatter3d\",\"marker\":{\"size\":3}},{\"x\":[357.35942028985505],\"y\":[211.4],\"z\":[27.57391304347826],\"type\":\"scatter3d\",\"marker\":{\"size\":3}},{\"x\":[291.3769123783032],\"y\":[274.4770514603616],\"z\":[28.385257301808068],\"type\":\"scatter3d\",\"marker\":{\"size\":3}},{\"x\":[365.31853785900785],\"y\":[307.3028720626632],\"z\":[26.655352480417754],\"type\":\"scatter3d\",\"marker\":{\"size\":3}},{\"x\":[329.7326968973747],\"y\":[330.1312649164678],\"z\":[27.73508353221957],\"type\":\"scatter3d\",\"marker\":{\"size\":3}},{\"x\":[249.2764705882353],\"y\":[347.70588235294116],\"z\":[28.041176470588237],\"type\":\"scatter3d\",\"marker\":{\"size\":3}},{\"x\":[208.7396694214876],\"y\":[370.74380165289256],\"z\":[28.83884297520661],\"type\":\"scatter3d\",\"marker\":{\"size\":3}},{\"x\":[128.23880597014926],\"y\":[397.1223880597015],\"z\":[28.913432835820895],\"type\":\"scatter3d\",\"marker\":{\"size\":3}},{\"x\":[35.273109243697476],\"y\":[415.5546218487395],\"z\":[28.852941176470587],\"type\":\"scatter3d\",\"marker\":{\"size\":3}},{\"x\":[165.69345238095238],\"y\":[446.0595238095238],\"z\":[27.196428571428573],\"type\":\"scatter3d\",\"marker\":{\"size\":3}},{\"x\":[188.97],\"y\":[470.335],\"z\":[27.555],\"type\":\"scatter3d\",\"marker\":{\"size\":3}},{\"x\":[514.4704049844237],\"y\":[491.9595015576324],\"z\":[27.68847352024922],\"type\":\"scatter3d\",\"marker\":{\"size\":3}},{\"x\":[366.3213166144201],\"y\":[527.3354231974922],\"z\":[30.100313479623825],\"type\":\"scatter3d\",\"marker\":{\"size\":3}},{\"x\":[81.32222222222222],\"y\":[556.1],\"z\":[25.333333333333332],\"type\":\"scatter3d\",\"marker\":{\"size\":3}},{\"x\":[316.7384259259259],\"y\":[585.175925925926],\"z\":[27.775462962962962],\"type\":\"scatter3d\",\"marker\":{\"size\":3}},{\"x\":[279.20249221183803],\"y\":[603.4579439252336],\"z\":[28.327102803738317],\"type\":\"scatter3d\",\"marker\":{\"size\":3}},{\"x\":[246.2290076335878],\"y\":[630.4732824427481],\"z\":[27.801526717557252],\"type\":\"scatter3d\",\"marker\":{\"size\":3}},{\"x\":[628.0606936416185],\"y\":[661.5086705202312],\"z\":[29.245664739884393],\"type\":\"scatter3d\",\"marker\":{\"size\":3}},{\"x\":[371.65432098765433],\"y\":[682.716049382716],\"z\":[25.48148148148148],\"type\":\"scatter3d\",\"marker\":{\"size\":3}},{\"x\":[479.0220588235294],\"y\":[723.4926470588235],\"z\":[26.345588235294116],\"type\":\"scatter3d\",\"marker\":{\"size\":3}},{\"x\":[305.4712643678161],\"y\":[754.919540229885],\"z\":[27.0],\"type\":\"scatter3d\",\"marker\":{\"size\":3}},{\"x\":[181.1818181818182],\"y\":[794.0104895104895],\"z\":[27.216783216783217],\"type\":\"scatter3d\",\"marker\":{\"size\":3}},{\"x\":[363.5345911949685],\"y\":[826.2830188679245],\"z\":[26.371069182389938],\"type\":\"scatter3d\",\"marker\":{\"size\":3}},{\"x\":[288.16149068322983],\"y\":[887.223602484472],\"z\":[25.981366459627328],\"type\":\"scatter3d\",\"marker\":{\"size\":3}},{\"x\":[375.1454545454545],\"y\":[183.8181818181818],\"z\":[26.12727272727273],\"type\":\"scatter3d\",\"marker\":{\"size\":3}},{\"x\":[461.57437070938215],\"y\":[241.22425629290618],\"z\":[30.553775743707092],\"type\":\"scatter3d\",\"marker\":{\"size\":3}},{\"x\":[381.8305785123967],\"y\":[290.41735537190084],\"z\":[30.268595041322314],\"type\":\"scatter3d\",\"marker\":{\"size\":3}},{\"x\":[308.59842519685037],\"y\":[318.70472440944883],\"z\":[28.10236220472441],\"type\":\"scatter3d\",\"marker\":{\"size\":3}},{\"x\":[484.5732009925558],\"y\":[342.545905707196],\"z\":[29.53846153846154],\"type\":\"scatter3d\",\"marker\":{\"size\":3}},{\"x\":[299.55128205128204],\"y\":[360.5769230769231],\"z\":[27.03846153846154],\"type\":\"scatter3d\",\"marker\":{\"size\":3}},{\"x\":[622.2289156626506],\"y\":[395.12048192771084],\"z\":[26.72289156626506],\"type\":\"scatter3d\",\"marker\":{\"size\":3}},{\"x\":[336.84375],\"y\":[424.01785714285717],\"z\":[28.522321428571427],\"type\":\"scatter3d\",\"marker\":{\"size\":3}},{\"x\":[258.55299539170505],\"y\":[458.06451612903226],\"z\":[28.225806451612904],\"type\":\"scatter3d\",\"marker\":{\"size\":3}},{\"x\":[53.17894736842105],\"y\":[499.18947368421055],\"z\":[27.05263157894737],\"type\":\"scatter3d\",\"marker\":{\"size\":3}},{\"x\":[459.80392156862746],\"y\":[512.2156862745098],\"z\":[27.895424836601308],\"type\":\"scatter3d\",\"marker\":{\"size\":3}},{\"x\":[322.17241379310343],\"y\":[548.7586206896551],\"z\":[27.310344827586206],\"type\":\"scatter3d\",\"marker\":{\"size\":3}},{\"x\":[646.0],\"y\":[565.969696969697],\"z\":[28.484848484848484],\"type\":\"scatter3d\",\"marker\":{\"size\":3}},{\"x\":[531.3421052631579],\"y\":[595.1052631578947],\"z\":[25.68421052631579],\"type\":\"scatter3d\",\"marker\":{\"size\":3}},{\"x\":[180.73214285714286],\"y\":[628.6607142857143],\"z\":[26.696428571428573],\"type\":\"scatter3d\",\"marker\":{\"size\":3}},{\"x\":[532.1871165644171],\"y\":[649.6349693251534],\"z\":[31.334355828220858],\"type\":\"scatter3d\",\"marker\":{\"size\":3}},{\"x\":[348.8272727272727],\"y\":[676.9818181818182],\"z\":[26.7],\"type\":\"scatter3d\",\"marker\":{\"size\":3}},{\"x\":[538.688596491228],\"y\":[700.1228070175439],\"z\":[27.973684210526315],\"type\":\"scatter3d\",\"marker\":{\"size\":3}},{\"x\":[332.0563909774436],\"y\":[740.5037593984962],\"z\":[29.714285714285715],\"type\":\"scatter3d\",\"marker\":{\"size\":3}},{\"x\":[200.0909090909091],\"y\":[786.1818181818181],\"z\":[25.363636363636363],\"type\":\"scatter3d\",\"marker\":{\"size\":3}},{\"x\":[269.1925925925926],\"y\":[812.237037037037],\"z\":[27.511111111111113],\"type\":\"scatter3d\",\"marker\":{\"size\":3}},{\"x\":[219.47413793103448],\"y\":[855.2586206896551],\"z\":[28.43103448275862],\"type\":\"scatter3d\",\"marker\":{\"size\":3}},{\"x\":[344.7567567567568],\"y\":[211.9189189189189],\"z\":[27.08108108108108],\"type\":\"scatter3d\",\"marker\":{\"size\":3}},{\"x\":[474.0],\"y\":[288.77777777777777],\"z\":[26.555555555555557],\"type\":\"scatter3d\",\"marker\":{\"size\":3}},{\"x\":[160.55172413793105],\"y\":[324.048275862069],\"z\":[29.8],\"type\":\"scatter3d\",\"marker\":{\"size\":3}},{\"x\":[470.55],\"y\":[370.06363636363636],\"z\":[29.454545454545453],\"type\":\"scatter3d\",\"marker\":{\"size\":3}},{\"x\":[251.78985507246378],\"y\":[421.8623188405797],\"z\":[28.028985507246375],\"type\":\"scatter3d\",\"marker\":{\"size\":3}},{\"x\":[537.351606805293],\"y\":[499.7202268431002],\"z\":[32.20037807183365],\"type\":\"scatter3d\",\"marker\":{\"size\":3}},{\"x\":[128.35078534031413],\"y\":[560.3089005235602],\"z\":[29.172774869109947],\"type\":\"scatter3d\",\"marker\":{\"size\":3}},{\"x\":[546.1984126984127],\"y\":[624.4396825396825],\"z\":[33.65238095238095],\"type\":\"scatter3d\",\"marker\":{\"size\":3}},{\"x\":[356.969696969697],\"y\":[687.030303030303],\"z\":[26.272727272727273],\"type\":\"scatter3d\",\"marker\":{\"size\":3}},{\"x\":[289.6],\"y\":[731.8888888888889],\"z\":[27.68888888888889],\"type\":\"scatter3d\",\"marker\":{\"size\":3}},{\"x\":[413.6186440677966],\"y\":[810.8135593220339],\"z\":[29.449152542372882],\"type\":\"scatter3d\",\"marker\":{\"size\":3}},{\"x\":[370.2880434782609],\"y\":[145.77717391304347],\"z\":[30.847826086956523],\"type\":\"scatter3d\",\"marker\":{\"size\":3}},{\"x\":[527.5089285714286],\"y\":[264.11011904761904],\"z\":[32.42857142857143],\"type\":\"scatter3d\",\"marker\":{\"size\":3}},{\"x\":[413.27570093457945],\"y\":[369.64953271028037],\"z\":[31.3411214953271],\"type\":\"scatter3d\",\"marker\":{\"size\":3}},{\"x\":[708.3461538461538],\"y\":[490.0],\"z\":[27.346153846153847],\"type\":\"scatter3d\",\"marker\":{\"size\":3}},{\"x\":[371.6354166666667],\"y\":[563.125],\"z\":[30.475694444444443],\"type\":\"scatter3d\",\"marker\":{\"size\":3}},{\"x\":[230.5529411764706],\"y\":[603.7647058823529],\"z\":[29.63529411764706],\"type\":\"scatter3d\",\"marker\":{\"size\":3}},{\"x\":[670.7208121827412],\"y\":[679.5786802030457],\"z\":[31.15736040609137],\"type\":\"scatter3d\",\"marker\":{\"size\":3}},{\"x\":[520.1398601398602],\"y\":[751.6083916083916],\"z\":[29.874125874125873],\"type\":\"scatter3d\",\"marker\":{\"size\":3}},{\"x\":[213.33333333333334],\"y\":[862.8333333333334],\"z\":[28.071428571428573],\"type\":\"scatter3d\",\"marker\":{\"size\":3}},{\"x\":[490.578125],\"y\":[206.71875],\"z\":[28.828125],\"type\":\"scatter3d\",\"marker\":{\"size\":3}},{\"x\":[115.74],\"y\":[294.38],\"z\":[28.9],\"type\":\"scatter3d\",\"marker\":{\"size\":3}},{\"x\":[426.07020872865274],\"y\":[349.21252371916506],\"z\":[33.326375711574954],\"type\":\"scatter3d\",\"marker\":{\"size\":3}},{\"x\":[418.8193018480493],\"y\":[509.21560574948666],\"z\":[33.07597535934291],\"type\":\"scatter3d\",\"marker\":{\"size\":3}},{\"x\":[553.3269230769231],\"y\":[572.2115384615385],\"z\":[31.541666666666668],\"type\":\"scatter3d\",\"marker\":{\"size\":3}},{\"x\":[145.35714285714286],\"y\":[621.3571428571429],\"z\":[29.37142857142857],\"type\":\"scatter3d\",\"marker\":{\"size\":3}},{\"x\":[394.7083333333333],\"y\":[705.7135416666666],\"z\":[31.145833333333332],\"type\":\"scatter3d\",\"marker\":{\"size\":3}},{\"x\":[562.4833333333333],\"y\":[826.5166666666667],\"z\":[29.016666666666666],\"type\":\"scatter3d\",\"marker\":{\"size\":3}},{\"x\":[446.455205811138],\"y\":[136.91767554479418],\"z\":[32.753026634382564],\"type\":\"scatter3d\",\"marker\":{\"size\":3}},{\"x\":[438.83892617449663],\"y\":[264.241610738255],\"z\":[31.44295302013423],\"type\":\"scatter3d\",\"marker\":{\"size\":3}},{\"x\":[534.8844537815127],\"y\":[298.3046218487395],\"z\":[34.359243697478995],\"type\":\"scatter3d\",\"marker\":{\"size\":3}},{\"x\":[38.53521126760563],\"y\":[360.61971830985914],\"z\":[31.43661971830986],\"type\":\"scatter3d\",\"marker\":{\"size\":3}},{\"x\":[492.8837209302326],\"y\":[379.5813953488372],\"z\":[32.92054263565891],\"type\":\"scatter3d\",\"marker\":{\"size\":3}},{\"x\":[355.74747474747477],\"y\":[489.34343434343435],\"z\":[31.353535353535353],\"type\":\"scatter3d\",\"marker\":{\"size\":3}},{\"x\":[502.12581699346407],\"y\":[535.7124183006536],\"z\":[34.77450980392157],\"type\":\"scatter3d\",\"marker\":{\"size\":3}},{\"x\":[691.3243243243244],\"y\":[582.1081081081081],\"z\":[31.864864864864863],\"type\":\"scatter3d\",\"marker\":{\"size\":3}},{\"x\":[563.3825757575758],\"y\":[646.1363636363636],\"z\":[35.041666666666664],\"type\":\"scatter3d\",\"marker\":{\"size\":3}},{\"x\":[442.1212121212121],\"y\":[702.5227272727273],\"z\":[31.477272727272727],\"type\":\"scatter3d\",\"marker\":{\"size\":3}},{\"x\":[340.0],\"y\":[755.2535211267606],\"z\":[31.676056338028168],\"type\":\"scatter3d\",\"marker\":{\"size\":3}},{\"x\":[324.3652173913043],\"y\":[887.5739130434782],\"z\":[30.443478260869565],\"type\":\"scatter3d\",\"marker\":{\"size\":3}},{\"x\":[395.3333333333333],\"y\":[210.0],\"z\":[31.333333333333332],\"type\":\"scatter3d\",\"marker\":{\"size\":3}},{\"x\":[211.26530612244898],\"y\":[293.55102040816325],\"z\":[29.79591836734694],\"type\":\"scatter3d\",\"marker\":{\"size\":3}},{\"x\":[381.88757396449705],\"y\":[359.9260355029586],\"z\":[33.875739644970416],\"type\":\"scatter3d\",\"marker\":{\"size\":3}},{\"x\":[155.8991825613079],\"y\":[438.01089918256133],\"z\":[33.62942779291553],\"type\":\"scatter3d\",\"marker\":{\"size\":3}},{\"x\":[403.9306930693069],\"y\":[549.019801980198],\"z\":[33.01485148514851],\"type\":\"scatter3d\",\"marker\":{\"size\":3}},{\"x\":[403.1869918699187],\"y\":[592.4878048780488],\"z\":[31.804878048780488],\"type\":\"scatter3d\",\"marker\":{\"size\":3}},{\"x\":[386.37813211845105],\"y\":[631.2437357630979],\"z\":[35.51708428246014],\"type\":\"scatter3d\",\"marker\":{\"size\":3}},{\"x\":[312.7402597402597],\"y\":[691.237012987013],\"z\":[34.077922077922075],\"type\":\"scatter3d\",\"marker\":{\"size\":3}},{\"x\":[272.47169811320754],\"y\":[749.1320754716982],\"z\":[30.58490566037736],\"type\":\"scatter3d\",\"marker\":{\"size\":3}},{\"x\":[516.1089108910891],\"y\":[846.1782178217821],\"z\":[33.722772277227726],\"type\":\"scatter3d\",\"marker\":{\"size\":3}},{\"x\":[225.98979591836735],\"y\":[158.6904761904762],\"z\":[35.33673469387755],\"type\":\"scatter3d\",\"marker\":{\"size\":3}},{\"x\":[492.13592233009706],\"y\":[239.4368932038835],\"z\":[34.74757281553398],\"type\":\"scatter3d\",\"marker\":{\"size\":3}},{\"x\":[424.9759036144578],\"y\":[368.8433734939759],\"z\":[33.44578313253012],\"type\":\"scatter3d\",\"marker\":{\"size\":3}},{\"x\":[653.7844827586207],\"y\":[528.0086206896551],\"z\":[33.51724137931034],\"type\":\"scatter3d\",\"marker\":{\"size\":3}},{\"x\":[561.5385802469136],\"y\":[579.7484567901234],\"z\":[38.06635802469136],\"type\":\"scatter3d\",\"marker\":{\"size\":3}},{\"x\":[386.0984848484849],\"y\":[653.9621212121212],\"z\":[32.90151515151515],\"type\":\"scatter3d\",\"marker\":{\"size\":3}},{\"x\":[371.89230769230767],\"y\":[819.5076923076923],\"z\":[31.784615384615385],\"type\":\"scatter3d\",\"marker\":{\"size\":3}},{\"x\":[330.41818181818184],\"y\":[143.0909090909091],\"z\":[33.654545454545456],\"type\":\"scatter3d\",\"marker\":{\"size\":3}},{\"x\":[148.45991561181435],\"y\":[239.62447257383965],\"z\":[33.92827004219409],\"type\":\"scatter3d\",\"marker\":{\"size\":3}},{\"x\":[302.1923076923077],\"y\":[293.0],\"z\":[33.61538461538461],\"type\":\"scatter3d\",\"marker\":{\"size\":3}},{\"x\":[94.06818181818181],\"y\":[342.8238636363636],\"z\":[35.40909090909091],\"type\":\"scatter3d\",\"marker\":{\"size\":3}},{\"x\":[53.43478260869565],\"y\":[404.4],\"z\":[35.130434782608695],\"type\":\"scatter3d\",\"marker\":{\"size\":3}},{\"x\":[348.2530120481928],\"y\":[502.7409638554217],\"z\":[36.09036144578313],\"type\":\"scatter3d\",\"marker\":{\"size\":3}},{\"x\":[560.4950298210736],\"y\":[553.7395626242545],\"z\":[39.82703777335984],\"type\":\"scatter3d\",\"marker\":{\"size\":3}},{\"x\":[463.87254901960785],\"y\":[604.9019607843137],\"z\":[34.411764705882355],\"type\":\"scatter3d\",\"marker\":{\"size\":3}},{\"x\":[312.57954545454544],\"y\":[661.6477272727273],\"z\":[32.93181818181818],\"type\":\"scatter3d\",\"marker\":{\"size\":3}},{\"x\":[332.72222222222223],\"y\":[778.716049382716],\"z\":[34.5],\"type\":\"scatter3d\",\"marker\":{\"size\":3}},{\"x\":[382.6379928315412],\"y\":[94.79928315412187],\"z\":[36.71326164874552],\"type\":\"scatter3d\",\"marker\":{\"size\":3}},{\"x\":[173.72],\"y\":[196.4],\"z\":[34.22],\"type\":\"scatter3d\",\"marker\":{\"size\":3}},{\"x\":[426.05],\"y\":[313.82],\"z\":[34.84],\"type\":\"scatter3d\",\"marker\":{\"size\":3}},{\"x\":[336.6764705882353],\"y\":[360.2647058823529],\"z\":[33.9264705882353],\"type\":\"scatter3d\",\"marker\":{\"size\":3}},{\"x\":[418.3125],\"y\":[398.5625],\"z\":[37.00480769230769],\"type\":\"scatter3d\",\"marker\":{\"size\":3}},{\"x\":[499.4918032786885],\"y\":[494.61475409836066],\"z\":[35.885245901639344],\"type\":\"scatter3d\",\"marker\":{\"size\":3}},{\"x\":[95.03703703703704],\"y\":[578.1666666666666],\"z\":[34.388888888888886],\"type\":\"scatter3d\",\"marker\":{\"size\":3}},{\"x\":[333.7247191011236],\"y\":[635.0786516853933],\"z\":[35.70786516853933],\"type\":\"scatter3d\",\"marker\":{\"size\":3}},{\"x\":[442.10198300283287],\"y\":[697.1586402266289],\"z\":[38.35127478753541],\"type\":\"scatter3d\",\"marker\":{\"size\":3}},{\"x\":[216.87719298245614],\"y\":[55.64912280701754],\"z\":[36.280701754385966],\"type\":\"scatter3d\",\"marker\":{\"size\":3}},{\"x\":[544.8469387755102],\"y\":[142.35204081632654],\"z\":[38.60204081632653],\"type\":\"scatter3d\",\"marker\":{\"size\":3}},{\"x\":[184.42608695652174],\"y\":[205.65217391304347],\"z\":[36.47826086956522],\"type\":\"scatter3d\",\"marker\":{\"size\":3}},{\"x\":[268.956862745098],\"y\":[248.69019607843137],\"z\":[36.77647058823529],\"type\":\"scatter3d\",\"marker\":{\"size\":3}},{\"x\":[599.9067524115756],\"y\":[303.09324758842445],\"z\":[38.842443729903536],\"type\":\"scatter3d\",\"marker\":{\"size\":3}},{\"x\":[217.55769230769232],\"y\":[342.09615384615387],\"z\":[35.38461538461539],\"type\":\"scatter3d\",\"marker\":{\"size\":3}},{\"x\":[282.43333333333334],\"y\":[427.1],\"z\":[35.22222222222222],\"type\":\"scatter3d\",\"marker\":{\"size\":3}},{\"x\":[508.5401234567901],\"y\":[500.429012345679],\"z\":[39.367283950617285],\"type\":\"scatter3d\",\"marker\":{\"size\":3}},{\"x\":[424.28727272727275],\"y\":[531.3454545454546],\"z\":[37.60363636363636],\"type\":\"scatter3d\",\"marker\":{\"size\":3}},{\"x\":[320.2972972972973],\"y\":[596.4774774774775],\"z\":[36.04504504504504],\"type\":\"scatter3d\",\"marker\":{\"size\":3}},{\"x\":[340.2540192926045],\"y\":[627.7170418006431],\"z\":[36.82958199356913],\"type\":\"scatter3d\",\"marker\":{\"size\":3}},{\"x\":[550.8722466960353],\"y\":[691.114537444934],\"z\":[37.77092511013216],\"type\":\"scatter3d\",\"marker\":{\"size\":3}},{\"x\":[404.12048192771084],\"y\":[758.7710843373494],\"z\":[35.86746987951807],\"type\":\"scatter3d\",\"marker\":{\"size\":3}},{\"x\":[421.90579710144925],\"y\":[94.34782608695652],\"z\":[38.35507246376812],\"type\":\"scatter3d\",\"marker\":{\"size\":3}},{\"x\":[575.1481481481482],\"y\":[179.59259259259258],\"z\":[36.0],\"type\":\"scatter3d\",\"marker\":{\"size\":3}},{\"x\":[287.5886699507389],\"y\":[237.04679802955664],\"z\":[39.25615763546798],\"type\":\"scatter3d\",\"marker\":{\"size\":3}},{\"x\":[592.8662790697674],\"y\":[302.1337209302326],\"z\":[37.5406976744186],\"type\":\"scatter3d\",\"marker\":{\"size\":3}},{\"x\":[361.95283018867923],\"y\":[385.8867924528302],\"z\":[37.339622641509436],\"type\":\"scatter3d\",\"marker\":{\"size\":3}},{\"x\":[401.13214285714287],\"y\":[509.3642857142857],\"z\":[39.90357142857143],\"type\":\"scatter3d\",\"marker\":{\"size\":3}},{\"x\":[374.58730158730157],\"y\":[558.7857142857143],\"z\":[37.96825396825397],\"type\":\"scatter3d\",\"marker\":{\"size\":3}},{\"x\":[350.448],\"y\":[642.736],\"z\":[38.18],\"type\":\"scatter3d\",\"marker\":{\"size\":3}},{\"x\":[344.468085106383],\"y\":[738.531914893617],\"z\":[35.59574468085106],\"type\":\"scatter3d\",\"marker\":{\"size\":3}},{\"x\":[257.16129032258067],\"y\":[59.403225806451616],\"z\":[37.32258064516129],\"type\":\"scatter3d\",\"marker\":{\"size\":3}},{\"x\":[144.58498023715416],\"y\":[152.34782608695653],\"z\":[41.18577075098814],\"type\":\"scatter3d\",\"marker\":{\"size\":3}},{\"x\":[189.13765182186233],\"y\":[198.38056680161944],\"z\":[38.65587044534413],\"type\":\"scatter3d\",\"marker\":{\"size\":3}},{\"x\":[626.3533190578158],\"y\":[249.46680942184153],\"z\":[41.04282655246253],\"type\":\"scatter3d\",\"marker\":{\"size\":3}},{\"x\":[312.3061224489796],\"y\":[316.7551020408163],\"z\":[38.46938775510204],\"type\":\"scatter3d\",\"marker\":{\"size\":3}},{\"x\":[260.34935897435895],\"y\":[376.48397435897436],\"z\":[39.29807692307692],\"type\":\"scatter3d\",\"marker\":{\"size\":3}},{\"x\":[629.2644628099174],\"y\":[495.1818181818182],\"z\":[37.71900826446281],\"type\":\"scatter3d\",\"marker\":{\"size\":3}},{\"x\":[545.3478260869565],\"y\":[562.072463768116],\"z\":[38.3768115942029],\"type\":\"scatter3d\",\"marker\":{\"size\":3}},{\"x\":[277.5929203539823],\"y\":[608.2389380530974],\"z\":[37.61946902654867],\"type\":\"scatter3d\",\"marker\":{\"size\":3}},{\"x\":[542.448275862069],\"y\":[657.9655172413793],\"z\":[36.96551724137931],\"type\":\"scatter3d\",\"marker\":{\"size\":3}},{\"x\":[373.60869565217394],\"y\":[734.1086956521739],\"z\":[37.82608695652174],\"type\":\"scatter3d\",\"marker\":{\"size\":3}},{\"x\":[452.4701986754967],\"y\":[820.8874172185431],\"z\":[37.78145695364238],\"type\":\"scatter3d\",\"marker\":{\"size\":3}},{\"x\":[263.23236514522824],\"y\":[170.35269709543567],\"z\":[40.72199170124481],\"type\":\"scatter3d\",\"marker\":{\"size\":3}},{\"x\":[612.75],\"y\":[244.17857142857142],\"z\":[37.57142857142857],\"type\":\"scatter3d\",\"marker\":{\"size\":3}},{\"x\":[185.05882352941177],\"y\":[313.2352941176471],\"z\":[38.8235294117647],\"type\":\"scatter3d\",\"marker\":{\"size\":3}},{\"x\":[300.12355212355214],\"y\":[400.26254826254825],\"z\":[40.061776061776065],\"type\":\"scatter3d\",\"marker\":{\"size\":3}},{\"x\":[403.7096774193548],\"y\":[524.4516129032259],\"z\":[38.16129032258065],\"type\":\"scatter3d\",\"marker\":{\"size\":3}},{\"x\":[570.2067307692307],\"y\":[588.9783653846154],\"z\":[40.88942307692308],\"type\":\"scatter3d\",\"marker\":{\"size\":3}},{\"x\":[466.5871886120996],\"y\":[640.5800711743773],\"z\":[39.76512455516014],\"type\":\"scatter3d\",\"marker\":{\"size\":3}},{\"x\":[338.11340206185565],\"y\":[725.4329896907217],\"z\":[37.50515463917526],\"type\":\"scatter3d\",\"marker\":{\"size\":3}},{\"x\":[513.8235294117648],\"y\":[823.3529411764706],\"z\":[39.279411764705884],\"type\":\"scatter3d\",\"marker\":{\"size\":3}},{\"x\":[376.1864406779661],\"y\":[174.66101694915255],\"z\":[41.056497175141246],\"type\":\"scatter3d\",\"marker\":{\"size\":3}},{\"x\":[524.9795321637426],\"y\":[258.7602339181287],\"z\":[42.292397660818715],\"type\":\"scatter3d\",\"marker\":{\"size\":3}},{\"x\":[402.39864864864865],\"y\":[377.81081081081084],\"z\":[41.601351351351354],\"type\":\"scatter3d\",\"marker\":{\"size\":3}},{\"x\":[573.604938271605],\"y\":[482.74691358024694],\"z\":[42.53086419753087],\"type\":\"scatter3d\",\"marker\":{\"size\":3}},{\"x\":[374.8262295081967],\"y\":[597.760655737705],\"z\":[41.61311475409836],\"type\":\"scatter3d\",\"marker\":{\"size\":3}},{\"x\":[525.8606811145511],\"y\":[733.2662538699691],\"z\":[41.910216718266255],\"type\":\"scatter3d\",\"marker\":{\"size\":3}},{\"x\":[436.21198156682027],\"y\":[55.74193548387097],\"z\":[42.24884792626728],\"type\":\"scatter3d\",\"marker\":{\"size\":3}},{\"x\":[416.0967741935484],\"y\":[152.8483870967742],\"z\":[43.10967741935484],\"type\":\"scatter3d\",\"marker\":{\"size\":3}},{\"x\":[227.7379518072289],\"y\":[286.0722891566265],\"z\":[43.56325301204819],\"type\":\"scatter3d\",\"marker\":{\"size\":3}},{\"x\":[355.2795698924731],\"y\":[331.9462365591398],\"z\":[41.473118279569896],\"type\":\"scatter3d\",\"marker\":{\"size\":3}},{\"x\":[331.5078125],\"y\":[402.3125],\"z\":[41.8671875],\"type\":\"scatter3d\",\"marker\":{\"size\":3}},{\"x\":[427.3448275862069],\"y\":[521.6034482758621],\"z\":[41.91954022988506],\"type\":\"scatter3d\",\"marker\":{\"size\":3}},{\"x\":[433.2078431372549],\"y\":[658.9411764705883],\"z\":[42.98823529411764],\"type\":\"scatter3d\",\"marker\":{\"size\":3}},{\"x\":[319.9108280254777],\"y\":[749.1210191082803],\"z\":[41.496815286624205],\"type\":\"scatter3d\",\"marker\":{\"size\":3}},{\"x\":[365.53968253968253],\"y\":[101.98412698412699],\"z\":[42.76190476190476],\"type\":\"scatter3d\",\"marker\":{\"size\":3}},{\"x\":[544.336],\"y\":[253.26],\"z\":[43.284],\"type\":\"scatter3d\",\"marker\":{\"size\":3}},{\"x\":[426.735],\"y\":[304.85],\"z\":[42.845],\"type\":\"scatter3d\",\"marker\":{\"size\":3}},{\"x\":[384.36551724137934],\"y\":[515.8551724137931],\"z\":[41.89655172413793],\"type\":\"scatter3d\",\"marker\":{\"size\":3}},{\"x\":[436.3191489361702],\"y\":[608.7872340425532],\"z\":[42.148936170212764],\"type\":\"scatter3d\",\"marker\":{\"size\":3}},{\"x\":[572.77],\"y\":[669.715],\"z\":[42.795],\"type\":\"scatter3d\",\"marker\":{\"size\":3}},{\"x\":[525.1933701657458],\"y\":[760.1049723756906],\"z\":[44.425414364640886],\"type\":\"scatter3d\",\"marker\":{\"size\":3}},{\"x\":[354.7989417989418],\"y\":[101.23280423280423],\"z\":[43.34391534391534],\"type\":\"scatter3d\",\"marker\":{\"size\":3}},{\"x\":[591.3898305084746],\"y\":[154.13075060532688],\"z\":[44.869249394673126],\"type\":\"scatter3d\",\"marker\":{\"size\":3}},{\"x\":[607.3474576271186],\"y\":[196.40254237288136],\"z\":[43.766949152542374],\"type\":\"scatter3d\",\"marker\":{\"size\":3}},{\"x\":[418.0477272727273],\"y\":[258.33863636363634],\"z\":[46.731818181818184],\"type\":\"scatter3d\",\"marker\":{\"size\":3}},{\"x\":[382.6106194690266],\"y\":[300.8053097345133],\"z\":[42.902654867256636],\"type\":\"scatter3d\",\"marker\":{\"size\":3}},{\"x\":[513.2697674418605],\"y\":[343.8837209302326],\"z\":[43.44186046511628],\"type\":\"scatter3d\",\"marker\":{\"size\":3}},{\"x\":[538.9788732394367],\"y\":[455.17605633802816],\"z\":[43.00704225352113],\"type\":\"scatter3d\",\"marker\":{\"size\":3}},{\"x\":[523.9894736842106],\"y\":[518.1157894736842],\"z\":[43.7],\"type\":\"scatter3d\",\"marker\":{\"size\":3}},{\"x\":[165.5734265734266],\"y\":[622.8741258741259],\"z\":[42.82517482517483],\"type\":\"scatter3d\",\"marker\":{\"size\":3}},{\"x\":[502.504],\"y\":[710.248],\"z\":[42.968],\"type\":\"scatter3d\",\"marker\":{\"size\":3}},{\"x\":[311.4526315789474],\"y\":[857.3578947368421],\"z\":[41.82105263157895],\"type\":\"scatter3d\",\"marker\":{\"size\":3}},{\"x\":[402.7524752475247],\"y\":[98.58415841584159],\"z\":[46.353135313531354],\"type\":\"scatter3d\",\"marker\":{\"size\":3}},{\"x\":[320.35915492957747],\"y\":[147.25352112676057],\"z\":[44.070422535211264],\"type\":\"scatter3d\",\"marker\":{\"size\":3}},{\"x\":[428.7800453514739],\"y\":[184.8390022675737],\"z\":[46.467120181405896],\"type\":\"scatter3d\",\"marker\":{\"size\":3}},{\"x\":[551.1391304347826],\"y\":[245.05217391304348],\"z\":[43.643478260869564],\"type\":\"scatter3d\",\"marker\":{\"size\":3}},{\"x\":[552.4785276073619],\"y\":[306.6298568507157],\"z\":[47.7280163599182],\"type\":\"scatter3d\",\"marker\":{\"size\":3}},{\"x\":[401.35714285714283],\"y\":[342.8095238095238],\"z\":[43.65079365079365],\"type\":\"scatter3d\",\"marker\":{\"size\":3}},{\"x\":[422.96120689655174],\"y\":[370.125],\"z\":[45.168103448275865],\"type\":\"scatter3d\",\"marker\":{\"size\":3}},{\"x\":[349.31315789473683],\"y\":[423.45],\"z\":[45.544736842105266],\"type\":\"scatter3d\",\"marker\":{\"size\":3}},{\"x\":[521.4214285714286],\"y\":[486.32380952380953],\"z\":[45.44285714285714],\"type\":\"scatter3d\",\"marker\":{\"size\":3}},{\"x\":[465.05882352941177],\"y\":[571.1176470588235],\"z\":[42.0],\"type\":\"scatter3d\",\"marker\":{\"size\":3}},{\"x\":[252.0032786885246],\"y\":[645.983606557377],\"z\":[45.35409836065574],\"type\":\"scatter3d\",\"marker\":{\"size\":3}},{\"x\":[271.65671641791045],\"y\":[681.3283582089553],\"z\":[42.95522388059702],\"type\":\"scatter3d\",\"marker\":{\"size\":3}},{\"x\":[446.95028680688335],\"y\":[749.6500956022944],\"z\":[44.49904397705545],\"type\":\"scatter3d\",\"marker\":{\"size\":3}},{\"x\":[233.41666666666666],\"y\":[39.86805555555556],\"z\":[44.34722222222222],\"type\":\"scatter3d\",\"marker\":{\"size\":3}},{\"x\":[181.33333333333334],\"y\":[88.72916666666667],\"z\":[44.229166666666664],\"type\":\"scatter3d\",\"marker\":{\"size\":3}},{\"x\":[460.87610619469024],\"y\":[149.41592920353983],\"z\":[44.75221238938053],\"type\":\"scatter3d\",\"marker\":{\"size\":3}},{\"x\":[532.1866666666666],\"y\":[199.58666666666667],\"z\":[45.53333333333333],\"type\":\"scatter3d\",\"marker\":{\"size\":3}},{\"x\":[647.6434108527131],\"y\":[228.35658914728683],\"z\":[44.24031007751938],\"type\":\"scatter3d\",\"marker\":{\"size\":3}},{\"x\":[456.2845188284519],\"y\":[274.39748953974896],\"z\":[45.16317991631799],\"type\":\"scatter3d\",\"marker\":{\"size\":3}},{\"x\":[573.9131147540984],\"y\":[332.1901639344262],\"z\":[49.247540983606555],\"type\":\"scatter3d\",\"marker\":{\"size\":3}},{\"x\":[577.4423076923077],\"y\":[360.53846153846155],\"z\":[43.53846153846154],\"type\":\"scatter3d\",\"marker\":{\"size\":3}},{\"x\":[372.1030303030303],\"y\":[390.2151515151515],\"z\":[45.406060606060606],\"type\":\"scatter3d\",\"marker\":{\"size\":3}},{\"x\":[585.8571428571429],\"y\":[435.23809523809524],\"z\":[43.404761904761905],\"type\":\"scatter3d\",\"marker\":{\"size\":3}},{\"x\":[349.3448275862069],\"y\":[499.82758620689657],\"z\":[43.13793103448276],\"type\":\"scatter3d\",\"marker\":{\"size\":3}},{\"x\":[333.5359116022099],\"y\":[526.232044198895],\"z\":[45.12154696132597],\"type\":\"scatter3d\",\"marker\":{\"size\":3}},{\"x\":[458.6],\"y\":[570.55],\"z\":[43.95],\"type\":\"scatter3d\",\"marker\":{\"size\":3}},{\"x\":[254.28],\"y\":[619.56],\"z\":[43.56],\"type\":\"scatter3d\",\"marker\":{\"size\":3}},{\"x\":[410.1989247311828],\"y\":[651.7956989247311],\"z\":[44.41935483870968],\"type\":\"scatter3d\",\"marker\":{\"size\":3}},{\"x\":[195.0185185185185],\"y\":[691.2592592592592],\"z\":[43.351851851851855],\"type\":\"scatter3d\",\"marker\":{\"size\":3}},{\"x\":[452.52863436123346],\"y\":[730.8414096916299],\"z\":[45.14977973568282],\"type\":\"scatter3d\",\"marker\":{\"size\":3}},{\"x\":[342.0],\"y\":[799.1304347826087],\"z\":[43.130434782608695],\"type\":\"scatter3d\",\"marker\":{\"size\":3}},{\"x\":[281.28691983122366],\"y\":[78.31645569620254],\"z\":[46.80168776371308],\"type\":\"scatter3d\",\"marker\":{\"size\":3}},{\"x\":[393.69620253164555],\"y\":[215.53164556962025],\"z\":[45.35443037974684],\"type\":\"scatter3d\",\"marker\":{\"size\":3}},{\"x\":[189.73170731707316],\"y\":[298.3658536585366],\"z\":[44.073170731707314],\"type\":\"scatter3d\",\"marker\":{\"size\":3}},{\"x\":[155.68396226415095],\"y\":[409.95754716981133],\"z\":[47.235849056603776],\"type\":\"scatter3d\",\"marker\":{\"size\":3}},{\"x\":[377.975],\"y\":[510.0],\"z\":[45.5625],\"type\":\"scatter3d\",\"marker\":{\"size\":3}},{\"x\":[346.57142857142856],\"y\":[615.4285714285714],\"z\":[44.42857142857143],\"type\":\"scatter3d\",\"marker\":{\"size\":3}},{\"x\":[337.7037037037037],\"y\":[696.2716049382716],\"z\":[44.2962962962963],\"type\":\"scatter3d\",\"marker\":{\"size\":3}},{\"x\":[477.6666666666667],\"y\":[742.1666666666666],\"z\":[44.666666666666664],\"type\":\"scatter3d\",\"marker\":{\"size\":3}},{\"x\":[267.037037037037],\"y\":[51.092592592592595],\"z\":[45.94444444444444],\"type\":\"scatter3d\",\"marker\":{\"size\":3}},{\"x\":[405.7699530516432],\"y\":[180.68075117370893],\"z\":[48.19718309859155],\"type\":\"scatter3d\",\"marker\":{\"size\":3}},{\"x\":[386.55],\"y\":[257.75],\"z\":[47.75666666666667],\"type\":\"scatter3d\",\"marker\":{\"size\":3}},{\"x\":[361.7560975609756],\"y\":[361.7926829268293],\"z\":[45.69512195121951],\"type\":\"scatter3d\",\"marker\":{\"size\":3}},{\"x\":[437.6],\"y\":[556.4408163265306],\"z\":[48.289795918367346],\"type\":\"scatter3d\",\"marker\":{\"size\":3}},{\"x\":[362.11299435028246],\"y\":[635.2033898305085],\"z\":[46.898305084745765],\"type\":\"scatter3d\",\"marker\":{\"size\":3}},{\"x\":[317.0571428571429],\"y\":[718.7142857142857],\"z\":[45.02857142857143],\"type\":\"scatter3d\",\"marker\":{\"size\":3}},{\"x\":[117.79411764705883],\"y\":[177.78235294117647],\"z\":[48.688235294117646],\"type\":\"scatter3d\",\"marker\":{\"size\":3}},{\"x\":[285.45],\"y\":[269.05],\"z\":[47.15],\"type\":\"scatter3d\",\"marker\":{\"size\":3}},{\"x\":[286.0],\"y\":[353.078431372549],\"z\":[46.72549019607843],\"type\":\"scatter3d\",\"marker\":{\"size\":3}},{\"x\":[367.3376623376623],\"y\":[515.8961038961039],\"z\":[47.97402597402598],\"type\":\"scatter3d\",\"marker\":{\"size\":3}},{\"x\":[429.6521739130435],\"y\":[569.9130434782609],\"z\":[46.78260869565217],\"type\":\"scatter3d\",\"marker\":{\"size\":3}},{\"x\":[301.6508875739645],\"y\":[664.0532544378698],\"z\":[48.875739644970416],\"type\":\"scatter3d\",\"marker\":{\"size\":3}},{\"x\":[267.2],\"y\":[851.025],\"z\":[47.6],\"type\":\"scatter3d\",\"marker\":{\"size\":3}},{\"x\":[444.70552147239266],\"y\":[260.86503067484665],\"z\":[49.49693251533742],\"type\":\"scatter3d\",\"marker\":{\"size\":3}},{\"x\":[485.2054794520548],\"y\":[318.13698630136986],\"z\":[50.79223744292238],\"type\":\"scatter3d\",\"marker\":{\"size\":3}},{\"x\":[502.5464480874317],\"y\":[356.07103825136613],\"z\":[49.3551912568306],\"type\":\"scatter3d\",\"marker\":{\"size\":3}},{\"x\":[449.75690607734805],\"y\":[514.3011049723757],\"z\":[51.751381215469614],\"type\":\"scatter3d\",\"marker\":{\"size\":3}},{\"x\":[340.4519230769231],\"y\":[606.5721153846154],\"z\":[49.36057692307692],\"type\":\"scatter3d\",\"marker\":{\"size\":3}},{\"x\":[486.8953488372093],\"y\":[662.2209302325581],\"z\":[48.30232558139535],\"type\":\"scatter3d\",\"marker\":{\"size\":3}},{\"x\":[296.1469194312796],\"y\":[122.15165876777252],\"z\":[50.796208530805686],\"type\":\"scatter3d\",\"marker\":{\"size\":3}},{\"x\":[210.0731707317073],\"y\":[211.52439024390245],\"z\":[49.6219512195122],\"type\":\"scatter3d\",\"marker\":{\"size\":3}},{\"x\":[497.02966101694915],\"y\":[340.3785310734463],\"z\":[53.71045197740113],\"type\":\"scatter3d\",\"marker\":{\"size\":3}},{\"x\":[352.77315689981094],\"y\":[405.41209829867677],\"z\":[52.22873345935728],\"type\":\"scatter3d\",\"marker\":{\"size\":3}},{\"x\":[472.74666666666667],\"y\":[548.8133333333334],\"z\":[49.54666666666667],\"type\":\"scatter3d\",\"marker\":{\"size\":3}},{\"x\":[257.9179104477612],\"y\":[646.1417910447761],\"z\":[49.04477611940298],\"type\":\"scatter3d\",\"marker\":{\"size\":3}},{\"x\":[309.7837837837838],\"y\":[91.03603603603604],\"z\":[50.693693693693696],\"type\":\"scatter3d\",\"marker\":{\"size\":3}},{\"x\":[173.81679389312978],\"y\":[215.6412213740458],\"z\":[50.62595419847328],\"type\":\"scatter3d\",\"marker\":{\"size\":3}},{\"x\":[454.18532818532816],\"y\":[315.6100386100386],\"z\":[52.1003861003861],\"type\":\"scatter3d\",\"marker\":{\"size\":3}},{\"x\":[332.2368421052632],\"y\":[383.0],\"z\":[50.276315789473685],\"type\":\"scatter3d\",\"marker\":{\"size\":3}},{\"x\":[512.0],\"y\":[518.2424242424242],\"z\":[50.63636363636363],\"type\":\"scatter3d\",\"marker\":{\"size\":3}},{\"x\":[580.7256637168142],\"y\":[608.787610619469],\"z\":[51.10619469026549],\"type\":\"scatter3d\",\"marker\":{\"size\":3}},{\"x\":[356.03053435114504],\"y\":[45.12977099236641],\"z\":[51.83969465648855],\"type\":\"scatter3d\",\"marker\":{\"size\":3}},{\"x\":[141.09803921568627],\"y\":[167.68627450980392],\"z\":[51.1764705882353],\"type\":\"scatter3d\",\"marker\":{\"size\":3}},{\"x\":[224.92307692307693],\"y\":[316.8974358974359],\"z\":[50.8974358974359],\"type\":\"scatter3d\",\"marker\":{\"size\":3}},{\"x\":[553.8235294117648],\"y\":[352.5882352941176],\"z\":[51.13725490196079],\"type\":\"scatter3d\",\"marker\":{\"size\":3}},{\"x\":[341.8494623655914],\"y\":[419.0],\"z\":[51.666666666666664],\"type\":\"scatter3d\",\"marker\":{\"size\":3}},{\"x\":[475.46666666666664],\"y\":[635.4666666666667],\"z\":[50.333333333333336],\"type\":\"scatter3d\",\"marker\":{\"size\":3}},{\"x\":[398.7411347517731],\"y\":[148.18085106382978],\"z\":[55.08156028368794],\"type\":\"scatter3d\",\"marker\":{\"size\":3}},{\"x\":[535.1666666666666],\"y\":[209.45977011494253],\"z\":[53.64942528735632],\"type\":\"scatter3d\",\"marker\":{\"size\":3}},{\"x\":[438.51006711409394],\"y\":[241.13422818791946],\"z\":[53.45637583892618],\"type\":\"scatter3d\",\"marker\":{\"size\":3}},{\"x\":[500.2146017699115],\"y\":[309.13274336283183],\"z\":[54.29867256637168],\"type\":\"scatter3d\",\"marker\":{\"size\":3}},{\"x\":[422.2089552238806],\"y\":[354.5820895522388],\"z\":[51.95522388059702],\"type\":\"scatter3d\",\"marker\":{\"size\":3}},{\"x\":[348.78743961352654],\"y\":[415.5990338164251],\"z\":[53.95652173913044],\"type\":\"scatter3d\",\"marker\":{\"size\":3}},{\"x\":[339.3474576271187],\"y\":[588.5508474576271],\"z\":[52.686440677966104],\"type\":\"scatter3d\",\"marker\":{\"size\":3}},{\"x\":[451.8],\"y\":[670.4355555555555],\"z\":[53.111111111111114],\"type\":\"scatter3d\",\"marker\":{\"size\":3}},{\"x\":[265.5],\"y\":[178.85714285714286],\"z\":[53.214285714285715],\"type\":\"scatter3d\",\"marker\":{\"size\":3}},{\"x\":[543.0512820512821],\"y\":[292.7692307692308],\"z\":[53.71153846153846],\"type\":\"scatter3d\",\"marker\":{\"size\":3}},{\"x\":[46.925925925925924],\"y\":[418.18518518518516],\"z\":[52.592592592592595],\"type\":\"scatter3d\",\"marker\":{\"size\":3}},{\"x\":[407.1904761904762],\"y\":[656.952380952381],\"z\":[52.095238095238095],\"type\":\"scatter3d\",\"marker\":{\"size\":3}},{\"x\":[609.4433962264151],\"y\":[190.1320754716981],\"z\":[54.64150943396226],\"type\":\"scatter3d\",\"marker\":{\"size\":3}},{\"x\":[413.8125],\"y\":[316.3125],\"z\":[54.9125],\"type\":\"scatter3d\",\"marker\":{\"size\":3}},{\"x\":[60.793103448275865],\"y\":[436.09655172413795],\"z\":[54.38620689655173],\"type\":\"scatter3d\",\"marker\":{\"size\":3}},{\"x\":[484.5],\"y\":[590.1538461538462],\"z\":[53.53846153846154],\"type\":\"scatter3d\",\"marker\":{\"size\":3}},{\"x\":[362.2142857142857],\"y\":[115.10714285714286],\"z\":[54.5],\"type\":\"scatter3d\",\"marker\":{\"size\":3}},{\"x\":[376.2795698924731],\"y\":[287.5376344086022],\"z\":[55.225806451612904],\"type\":\"scatter3d\",\"marker\":{\"size\":3}},{\"x\":[276.3640350877193],\"y\":[403.780701754386],\"z\":[56.574561403508774],\"type\":\"scatter3d\",\"marker\":{\"size\":3}},{\"x\":[427.7685950413223],\"y\":[600.3719008264463],\"z\":[55.52066115702479],\"type\":\"scatter3d\",\"marker\":{\"size\":3}},{\"x\":[265.5325443786982],\"y\":[153.68047337278105],\"z\":[56.49704142011834],\"type\":\"scatter3d\",\"marker\":{\"size\":3}},{\"x\":[367.5357142857143],\"y\":[259.17857142857144],\"z\":[55.142857142857146],\"type\":\"scatter3d\",\"marker\":{\"size\":3}},{\"x\":[462.15384615384613],\"y\":[317.1384615384615],\"z\":[55.715384615384615],\"type\":\"scatter3d\",\"marker\":{\"size\":3}},{\"x\":[478.0131578947368],\"y\":[527.1315789473684],\"z\":[56.01315789473684],\"type\":\"scatter3d\",\"marker\":{\"size\":3}},{\"x\":[551.5072463768116],\"y\":[101.72463768115942],\"z\":[56.55072463768116],\"type\":\"scatter3d\",\"marker\":{\"size\":3}},{\"x\":[428.54545454545456],\"y\":[266.47727272727275],\"z\":[57.21590909090909],\"type\":\"scatter3d\",\"marker\":{\"size\":3}},{\"x\":[329.5436507936508],\"y\":[371.5833333333333],\"z\":[58.01984126984127],\"type\":\"scatter3d\",\"marker\":{\"size\":3}},{\"x\":[354.9581589958159],\"y\":[580.581589958159],\"z\":[57.59832635983263],\"type\":\"scatter3d\",\"marker\":{\"size\":3}},{\"x\":[600.6046511627907],\"y\":[178.67441860465115],\"z\":[57.348837209302324],\"type\":\"scatter3d\",\"marker\":{\"size\":3}},{\"x\":[528.937984496124],\"y\":[301.6744186046512],\"z\":[59.77131782945737],\"type\":\"scatter3d\",\"marker\":{\"size\":3}},{\"x\":[439.20754716981133],\"y\":[553.622641509434],\"z\":[57.9622641509434],\"type\":\"scatter3d\",\"marker\":{\"size\":3}},{\"x\":[360.05882352941177],\"y\":[174.87058823529412],\"z\":[59.63529411764706],\"type\":\"scatter3d\",\"marker\":{\"size\":3}},{\"x\":[411.9497487437186],\"y\":[336.286432160804],\"z\":[60.37688442211055],\"type\":\"scatter3d\",\"marker\":{\"size\":3}},{\"x\":[334.3804347826087],\"y\":[594.2282608695652],\"z\":[58.608695652173914],\"type\":\"scatter3d\",\"marker\":{\"size\":3}},{\"x\":[500.96],\"y\":[262.2],\"z\":[59.12],\"type\":\"scatter3d\",\"marker\":{\"size\":3}},{\"x\":[321.07563025210084],\"y\":[335.38655462184875],\"z\":[60.21848739495798],\"type\":\"scatter3d\",\"marker\":{\"size\":3}},{\"x\":[410.2957746478873],\"y\":[340.9577464788732],\"z\":[61.352112676056336],\"type\":\"scatter3d\",\"marker\":{\"size\":3}},{\"x\":[417.72463768115944],\"y\":[300.536231884058],\"z\":[61.57971014492754],\"type\":\"scatter3d\",\"marker\":{\"size\":3}},{\"x\":[296.1363636363636],\"y\":[159.45454545454547],\"z\":[63.54545454545455],\"type\":\"scatter3d\",\"marker\":{\"size\":3}},{\"x\":[391.8157894736842],\"y\":[293.2105263157895],\"z\":[63.44736842105263],\"type\":\"scatter3d\",\"marker\":{\"size\":3}}],                        {\"template\":{\"data\":{\"barpolar\":[{\"marker\":{\"line\":{\"color\":\"white\",\"width\":0.5},\"pattern\":{\"fillmode\":\"overlay\",\"size\":10,\"solidity\":0.2}},\"type\":\"barpolar\"}],\"bar\":[{\"error_x\":{\"color\":\"rgb(36,36,36)\"},\"error_y\":{\"color\":\"rgb(36,36,36)\"},\"marker\":{\"line\":{\"color\":\"white\",\"width\":0.5},\"pattern\":{\"fillmode\":\"overlay\",\"size\":10,\"solidity\":0.2}},\"type\":\"bar\"}],\"carpet\":[{\"aaxis\":{\"endlinecolor\":\"rgb(36,36,36)\",\"gridcolor\":\"white\",\"linecolor\":\"white\",\"minorgridcolor\":\"white\",\"startlinecolor\":\"rgb(36,36,36)\"},\"baxis\":{\"endlinecolor\":\"rgb(36,36,36)\",\"gridcolor\":\"white\",\"linecolor\":\"white\",\"minorgridcolor\":\"white\",\"startlinecolor\":\"rgb(36,36,36)\"},\"type\":\"carpet\"}],\"choropleth\":[{\"colorbar\":{\"outlinewidth\":1,\"tickcolor\":\"rgb(36,36,36)\",\"ticks\":\"outside\"},\"type\":\"choropleth\"}],\"contourcarpet\":[{\"colorbar\":{\"outlinewidth\":1,\"tickcolor\":\"rgb(36,36,36)\",\"ticks\":\"outside\"},\"type\":\"contourcarpet\"}],\"contour\":[{\"colorbar\":{\"outlinewidth\":1,\"tickcolor\":\"rgb(36,36,36)\",\"ticks\":\"outside\"},\"colorscale\":[[0.0,\"#440154\"],[0.1111111111111111,\"#482878\"],[0.2222222222222222,\"#3e4989\"],[0.3333333333333333,\"#31688e\"],[0.4444444444444444,\"#26828e\"],[0.5555555555555556,\"#1f9e89\"],[0.6666666666666666,\"#35b779\"],[0.7777777777777778,\"#6ece58\"],[0.8888888888888888,\"#b5de2b\"],[1.0,\"#fde725\"]],\"type\":\"contour\"}],\"heatmapgl\":[{\"colorbar\":{\"outlinewidth\":1,\"tickcolor\":\"rgb(36,36,36)\",\"ticks\":\"outside\"},\"colorscale\":[[0.0,\"#440154\"],[0.1111111111111111,\"#482878\"],[0.2222222222222222,\"#3e4989\"],[0.3333333333333333,\"#31688e\"],[0.4444444444444444,\"#26828e\"],[0.5555555555555556,\"#1f9e89\"],[0.6666666666666666,\"#35b779\"],[0.7777777777777778,\"#6ece58\"],[0.8888888888888888,\"#b5de2b\"],[1.0,\"#fde725\"]],\"type\":\"heatmapgl\"}],\"heatmap\":[{\"colorbar\":{\"outlinewidth\":1,\"tickcolor\":\"rgb(36,36,36)\",\"ticks\":\"outside\"},\"colorscale\":[[0.0,\"#440154\"],[0.1111111111111111,\"#482878\"],[0.2222222222222222,\"#3e4989\"],[0.3333333333333333,\"#31688e\"],[0.4444444444444444,\"#26828e\"],[0.5555555555555556,\"#1f9e89\"],[0.6666666666666666,\"#35b779\"],[0.7777777777777778,\"#6ece58\"],[0.8888888888888888,\"#b5de2b\"],[1.0,\"#fde725\"]],\"type\":\"heatmap\"}],\"histogram2dcontour\":[{\"colorbar\":{\"outlinewidth\":1,\"tickcolor\":\"rgb(36,36,36)\",\"ticks\":\"outside\"},\"colorscale\":[[0.0,\"#440154\"],[0.1111111111111111,\"#482878\"],[0.2222222222222222,\"#3e4989\"],[0.3333333333333333,\"#31688e\"],[0.4444444444444444,\"#26828e\"],[0.5555555555555556,\"#1f9e89\"],[0.6666666666666666,\"#35b779\"],[0.7777777777777778,\"#6ece58\"],[0.8888888888888888,\"#b5de2b\"],[1.0,\"#fde725\"]],\"type\":\"histogram2dcontour\"}],\"histogram2d\":[{\"colorbar\":{\"outlinewidth\":1,\"tickcolor\":\"rgb(36,36,36)\",\"ticks\":\"outside\"},\"colorscale\":[[0.0,\"#440154\"],[0.1111111111111111,\"#482878\"],[0.2222222222222222,\"#3e4989\"],[0.3333333333333333,\"#31688e\"],[0.4444444444444444,\"#26828e\"],[0.5555555555555556,\"#1f9e89\"],[0.6666666666666666,\"#35b779\"],[0.7777777777777778,\"#6ece58\"],[0.8888888888888888,\"#b5de2b\"],[1.0,\"#fde725\"]],\"type\":\"histogram2d\"}],\"histogram\":[{\"marker\":{\"line\":{\"color\":\"white\",\"width\":0.6}},\"type\":\"histogram\"}],\"mesh3d\":[{\"colorbar\":{\"outlinewidth\":1,\"tickcolor\":\"rgb(36,36,36)\",\"ticks\":\"outside\"},\"type\":\"mesh3d\"}],\"parcoords\":[{\"line\":{\"colorbar\":{\"outlinewidth\":1,\"tickcolor\":\"rgb(36,36,36)\",\"ticks\":\"outside\"}},\"type\":\"parcoords\"}],\"pie\":[{\"automargin\":true,\"type\":\"pie\"}],\"scatter3d\":[{\"line\":{\"colorbar\":{\"outlinewidth\":1,\"tickcolor\":\"rgb(36,36,36)\",\"ticks\":\"outside\"}},\"marker\":{\"colorbar\":{\"outlinewidth\":1,\"tickcolor\":\"rgb(36,36,36)\",\"ticks\":\"outside\"}},\"type\":\"scatter3d\"}],\"scattercarpet\":[{\"marker\":{\"colorbar\":{\"outlinewidth\":1,\"tickcolor\":\"rgb(36,36,36)\",\"ticks\":\"outside\"}},\"type\":\"scattercarpet\"}],\"scattergeo\":[{\"marker\":{\"colorbar\":{\"outlinewidth\":1,\"tickcolor\":\"rgb(36,36,36)\",\"ticks\":\"outside\"}},\"type\":\"scattergeo\"}],\"scattergl\":[{\"marker\":{\"colorbar\":{\"outlinewidth\":1,\"tickcolor\":\"rgb(36,36,36)\",\"ticks\":\"outside\"}},\"type\":\"scattergl\"}],\"scattermapbox\":[{\"marker\":{\"colorbar\":{\"outlinewidth\":1,\"tickcolor\":\"rgb(36,36,36)\",\"ticks\":\"outside\"}},\"type\":\"scattermapbox\"}],\"scatterpolargl\":[{\"marker\":{\"colorbar\":{\"outlinewidth\":1,\"tickcolor\":\"rgb(36,36,36)\",\"ticks\":\"outside\"}},\"type\":\"scatterpolargl\"}],\"scatterpolar\":[{\"marker\":{\"colorbar\":{\"outlinewidth\":1,\"tickcolor\":\"rgb(36,36,36)\",\"ticks\":\"outside\"}},\"type\":\"scatterpolar\"}],\"scatter\":[{\"fillpattern\":{\"fillmode\":\"overlay\",\"size\":10,\"solidity\":0.2},\"type\":\"scatter\"}],\"scatterternary\":[{\"marker\":{\"colorbar\":{\"outlinewidth\":1,\"tickcolor\":\"rgb(36,36,36)\",\"ticks\":\"outside\"}},\"type\":\"scatterternary\"}],\"surface\":[{\"colorbar\":{\"outlinewidth\":1,\"tickcolor\":\"rgb(36,36,36)\",\"ticks\":\"outside\"},\"colorscale\":[[0.0,\"#440154\"],[0.1111111111111111,\"#482878\"],[0.2222222222222222,\"#3e4989\"],[0.3333333333333333,\"#31688e\"],[0.4444444444444444,\"#26828e\"],[0.5555555555555556,\"#1f9e89\"],[0.6666666666666666,\"#35b779\"],[0.7777777777777778,\"#6ece58\"],[0.8888888888888888,\"#b5de2b\"],[1.0,\"#fde725\"]],\"type\":\"surface\"}],\"table\":[{\"cells\":{\"fill\":{\"color\":\"rgb(237,237,237)\"},\"line\":{\"color\":\"white\"}},\"header\":{\"fill\":{\"color\":\"rgb(217,217,217)\"},\"line\":{\"color\":\"white\"}},\"type\":\"table\"}]},\"layout\":{\"annotationdefaults\":{\"arrowhead\":0,\"arrowwidth\":1},\"autotypenumbers\":\"strict\",\"coloraxis\":{\"colorbar\":{\"outlinewidth\":1,\"tickcolor\":\"rgb(36,36,36)\",\"ticks\":\"outside\"}},\"colorscale\":{\"diverging\":[[0.0,\"rgb(103,0,31)\"],[0.1,\"rgb(178,24,43)\"],[0.2,\"rgb(214,96,77)\"],[0.3,\"rgb(244,165,130)\"],[0.4,\"rgb(253,219,199)\"],[0.5,\"rgb(247,247,247)\"],[0.6,\"rgb(209,229,240)\"],[0.7,\"rgb(146,197,222)\"],[0.8,\"rgb(67,147,195)\"],[0.9,\"rgb(33,102,172)\"],[1.0,\"rgb(5,48,97)\"]],\"sequential\":[[0.0,\"#440154\"],[0.1111111111111111,\"#482878\"],[0.2222222222222222,\"#3e4989\"],[0.3333333333333333,\"#31688e\"],[0.4444444444444444,\"#26828e\"],[0.5555555555555556,\"#1f9e89\"],[0.6666666666666666,\"#35b779\"],[0.7777777777777778,\"#6ece58\"],[0.8888888888888888,\"#b5de2b\"],[1.0,\"#fde725\"]],\"sequentialminus\":[[0.0,\"#440154\"],[0.1111111111111111,\"#482878\"],[0.2222222222222222,\"#3e4989\"],[0.3333333333333333,\"#31688e\"],[0.4444444444444444,\"#26828e\"],[0.5555555555555556,\"#1f9e89\"],[0.6666666666666666,\"#35b779\"],[0.7777777777777778,\"#6ece58\"],[0.8888888888888888,\"#b5de2b\"],[1.0,\"#fde725\"]]},\"colorway\":[\"#1F77B4\",\"#FF7F0E\",\"#2CA02C\",\"#D62728\",\"#9467BD\",\"#8C564B\",\"#E377C2\",\"#7F7F7F\",\"#BCBD22\",\"#17BECF\"],\"font\":{\"color\":\"rgb(36,36,36)\"},\"geo\":{\"bgcolor\":\"white\",\"lakecolor\":\"white\",\"landcolor\":\"white\",\"showlakes\":true,\"showland\":true,\"subunitcolor\":\"white\"},\"hoverlabel\":{\"align\":\"left\"},\"hovermode\":\"closest\",\"mapbox\":{\"style\":\"light\"},\"paper_bgcolor\":\"white\",\"plot_bgcolor\":\"white\",\"polar\":{\"angularaxis\":{\"gridcolor\":\"rgb(232,232,232)\",\"linecolor\":\"rgb(36,36,36)\",\"showgrid\":false,\"showline\":true,\"ticks\":\"outside\"},\"bgcolor\":\"white\",\"radialaxis\":{\"gridcolor\":\"rgb(232,232,232)\",\"linecolor\":\"rgb(36,36,36)\",\"showgrid\":false,\"showline\":true,\"ticks\":\"outside\"}},\"scene\":{\"xaxis\":{\"backgroundcolor\":\"white\",\"gridcolor\":\"rgb(232,232,232)\",\"gridwidth\":2,\"linecolor\":\"rgb(36,36,36)\",\"showbackground\":true,\"showgrid\":false,\"showline\":true,\"ticks\":\"outside\",\"zeroline\":false,\"zerolinecolor\":\"rgb(36,36,36)\"},\"yaxis\":{\"backgroundcolor\":\"white\",\"gridcolor\":\"rgb(232,232,232)\",\"gridwidth\":2,\"linecolor\":\"rgb(36,36,36)\",\"showbackground\":true,\"showgrid\":false,\"showline\":true,\"ticks\":\"outside\",\"zeroline\":false,\"zerolinecolor\":\"rgb(36,36,36)\"},\"zaxis\":{\"backgroundcolor\":\"white\",\"gridcolor\":\"rgb(232,232,232)\",\"gridwidth\":2,\"linecolor\":\"rgb(36,36,36)\",\"showbackground\":true,\"showgrid\":false,\"showline\":true,\"ticks\":\"outside\",\"zeroline\":false,\"zerolinecolor\":\"rgb(36,36,36)\"}},\"shapedefaults\":{\"fillcolor\":\"black\",\"line\":{\"width\":0},\"opacity\":0.3},\"ternary\":{\"aaxis\":{\"gridcolor\":\"rgb(232,232,232)\",\"linecolor\":\"rgb(36,36,36)\",\"showgrid\":false,\"showline\":true,\"ticks\":\"outside\"},\"baxis\":{\"gridcolor\":\"rgb(232,232,232)\",\"linecolor\":\"rgb(36,36,36)\",\"showgrid\":false,\"showline\":true,\"ticks\":\"outside\"},\"bgcolor\":\"white\",\"caxis\":{\"gridcolor\":\"rgb(232,232,232)\",\"linecolor\":\"rgb(36,36,36)\",\"showgrid\":false,\"showline\":true,\"ticks\":\"outside\"}},\"title\":{\"x\":0.05},\"xaxis\":{\"automargin\":true,\"gridcolor\":\"rgb(232,232,232)\",\"linecolor\":\"rgb(36,36,36)\",\"showgrid\":false,\"showline\":true,\"ticks\":\"outside\",\"title\":{\"standoff\":15},\"zeroline\":false,\"zerolinecolor\":\"rgb(36,36,36)\"},\"yaxis\":{\"automargin\":true,\"gridcolor\":\"rgb(232,232,232)\",\"linecolor\":\"rgb(36,36,36)\",\"showgrid\":false,\"showline\":true,\"ticks\":\"outside\",\"title\":{\"standoff\":15},\"zeroline\":false,\"zerolinecolor\":\"rgb(36,36,36)\"}}},\"scene\":{\"domain\":{\"x\":[0.0,1.0],\"y\":[0.0,1.0]},\"xaxis\":{\"title\":{\"text\":\"X\",\"font\":{\"size\":20}},\"ticks\":\"\",\"range\":[0,795],\"showgrid\":false,\"showticklabels\":false},\"yaxis\":{\"title\":{\"text\":\"Y\",\"font\":{\"size\":20}},\"ticks\":\"\",\"range\":[0,899],\"showgrid\":false,\"showticklabels\":false},\"zaxis\":{\"title\":{\"text\":\"Z\",\"font\":{\"size\":20}},\"ticks\":\"\",\"range\":[0,65],\"showgrid\":false,\"showticklabels\":false},\"aspectratio\":{\"x\":13.7,\"y\":17,\"z\":3.3},\"camera\":{\"eye\":{\"x\":12,\"y\":12,\"z\":0.85}},\"aspectmode\":\"manual\"},\"legend\":{\"tracegroupgap\":0},\"margin\":{\"t\":60},\"width\":900,\"showlegend\":false},                        {\"responsive\": true}                    ).then(function(){\n",
       "                            \n",
       "var gd = document.getElementById('96800833-9aa1-4c84-9286-1a03eed3b981');\n",
       "var x = new MutationObserver(function (mutations, observer) {{\n",
       "        var display = window.getComputedStyle(gd).display;\n",
       "        if (!display || display === 'none') {{\n",
       "            console.log([gd, 'removed!']);\n",
       "            Plotly.purge(gd);\n",
       "            observer.disconnect();\n",
       "        }}\n",
       "}});\n",
       "\n",
       "// Listen for the removal of the full notebook cells\n",
       "var notebookContainer = gd.closest('#notebook-container');\n",
       "if (notebookContainer) {{\n",
       "    x.observe(notebookContainer, {childList: true});\n",
       "}}\n",
       "\n",
       "// Listen for the clearing of the current output cell\n",
       "var outputEl = gd.closest('.output');\n",
       "if (outputEl) {{\n",
       "    x.observe(outputEl, {childList: true});\n",
       "}}\n",
       "\n",
       "                        })                };                });            </script>        </div>"
      ]
     },
     "metadata": {},
     "output_type": "display_data"
    }
   ],
   "source": [
    "from skimage.measure import label, regionprops\n",
    "import plotly.express as px\n",
    "import plotly.io as pio\n",
    "import pandas as pd\n",
    "\n",
    "scale = 10\n",
    "\n",
    "def draw_bbox(xlims, ylims, zlims):\n",
    "    X = []\n",
    "    Y = []\n",
    "    Z = []\n",
    "    for x in xlims:\n",
    "        for y in ylims:\n",
    "            for z in zlims:\n",
    "                X.append(x)\n",
    "                Y.append(y)\n",
    "                Z.append(z)\n",
    "    for x in xlims:\n",
    "        for z in zlims:\n",
    "            for y in ylims:\n",
    "                X.append(x)\n",
    "                Y.append(y)\n",
    "                Z.append(z)\n",
    "    for z in zlims:\n",
    "        for y in ylims:\n",
    "            for x in xlims:\n",
    "                X.append(x)\n",
    "                Y.append(y)\n",
    "                Z.append(z)\n",
    "    return X, Y, Z\n",
    "\n",
    "regions = regionprops(data[\"masks\"])\n",
    "\n",
    "X, Y, Z = draw_bbox([0,795], [0,899], [0,65])\n",
    "df = pd.DataFrame(dict(\n",
    "    X=X, \n",
    "    Y=Y, \n",
    "    Z=Z,\n",
    "    line_group=np.repeat(range(int(len(X)/2)), 2)\n",
    "))\n",
    "fig = px.line_3d(df, x='X', y='Y', z='Z', line_group='line_group', template=\"simple_white\")\n",
    "fig.update_traces(line_color=\"black\", line_width=4)\n",
    "for region in regions[::10]:\n",
    "    z, y, x = region.centroid\n",
    "    fig.add_scatter3d(x=[x], y=[y], z=[z])\n",
    "camera = dict(eye=dict(x=12, y=12, z=0.85))\n",
    "fig.update_layout(\n",
    "    scene = dict(\n",
    "        xaxis = dict(ticks=\"\", range=[0, 795], showgrid=False, showticklabels=False, title_font_size=20),\n",
    "        yaxis = dict(ticks=\"\", range=[0, 899], showgrid=False, showticklabels=False, title_font_size=20),\n",
    "        zaxis = dict(ticks=\"\", range=[0, 65], showgrid=False, showticklabels=False, title_font_size=20),\n",
    "        aspectmode=\"manual\",\n",
    "        aspectratio=dict(x=13.7, y=17, z=3.3),),\n",
    "    width=900,\n",
    "    showlegend=False,\n",
    "    scene_camera=camera\n",
    "                )\n",
    "fig.update_traces(marker_size=3)\n",
    "fig.show()\n",
    "pio.write_image(fig, \"/Users/ryan.gorzek/Downloads/test3d.jpeg\", scale=3)"
   ]
  },
  {
   "cell_type": "code",
   "execution_count": 25,
   "id": "d3f2b1c4-4348-469c-8b21-a9920b5f55b0",
   "metadata": {},
   "outputs": [
    {
     "data": {
      "text/plain": [
       "0.8999999999999999"
      ]
     },
     "execution_count": 25,
     "metadata": {},
     "output_type": "execute_result"
    }
   ],
   "source": [
    "12/(16/1.2)"
   ]
  }
 ],
 "metadata": {
  "kernelspec": {
   "display_name": "Python 3 (ipykernel)",
   "language": "python",
   "name": "python3"
  },
  "language_info": {
   "codemirror_mode": {
    "name": "ipython",
    "version": 3
   },
   "file_extension": ".py",
   "mimetype": "text/x-python",
   "name": "python",
   "nbconvert_exporter": "python",
   "pygments_lexer": "ipython3",
   "version": "3.10.6"
  }
 },
 "nbformat": 4,
 "nbformat_minor": 5
}
