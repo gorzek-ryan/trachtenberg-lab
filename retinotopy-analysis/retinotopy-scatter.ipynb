{
 "cells": [
  {
   "cell_type": "markdown",
   "id": "bbbe6139",
   "metadata": {},
   "source": [
    "Set Animal IDs and Experiment IDs"
   ]
  },
  {
   "cell_type": "code",
   "execution_count": 8,
   "id": "127b7f01",
   "metadata": {},
   "outputs": [],
   "source": [
    "data_path = \"/Users/ryan.gorzek/Documents/Trachtenberg Lab/Data/Mapping_Through_Skull/\"\n",
    "\n",
    "exp_info = {\n",
    "            \"DR_ctb01\": {\"exp_name\": \"20220603_101509\", \"rearing\": \"DR\"},\n",
    "            \"DR_ctb02\": {\"exp_name\": \"20220610_105811\", \"rearing\": \"DR\"},\n",
    "            \"DR_ctb07\": {\"exp_name\": \"20220711_135556\", \"rearing\": \"DR\"},\n",
    "            \"DR_ctb08\": {\"exp_name\": \"20220715_121356\", \"rearing\": \"DR\"},\n",
    "            \"DR_lt168\": {\"exp_name\": \"20220330_130327\", \"rearing\": \"DR\"},\n",
    "            \"DR_lt169\": {\"exp_name\": \"20220420_125809\", \"rearing\": \"DR\"},\n",
    "            \"DR_lt170\": {\"exp_name\": \"20220421_133932\", \"rearing\": \"DR\"},\n",
    "            \"NR_ctb03\": {\"exp_name\": \"20220623_161247\", \"rearing\": \"NR\"},\n",
    "            \"NR_ctb04\": {\"exp_name\": \"20220630_130119\", \"rearing\": \"NR\"},\n",
    "            \"NR_ctb05\": {\"exp_name\": \"20220706_105937\", \"rearing\": \"NR\"},\n",
    "            \"NR_ctb09\": {\"exp_name\": \"20220720_153020\", \"rearing\": \"NR\"},\n",
    "            \"NR_lt164\": {\"exp_name\": \"20220302_131952\", \"rearing\": \"NR\"},\n",
    "            \"NR_lt171\": {\"exp_name\": \"20220427_115917\", \"rearing\": \"NR\"},\n",
    "            \"NR_lt172\": {\"exp_name\": \"20220428_130342\", \"rearing\": \"NR\"},\n",
    "            \"NR_lt175\": {\"exp_name\": \"20220512_124014\", \"rearing\": \"NR\"}\n",
    "            }"
   ]
  },
  {
   "cell_type": "markdown",
   "id": "17515899",
   "metadata": {},
   "source": [
    "Get User Input for Visual Area Boundaries on Sign Maps"
   ]
  },
  {
   "cell_type": "code",
   "execution_count": 10,
   "id": "74e9c41f",
   "metadata": {},
   "outputs": [],
   "source": [
    "import numpy as np\n",
    "import matplotlib.pyplot as plt\n",
    "from tifffile import imread\n",
    "from os.path import exists\n",
    "\n",
    "# Choose visual areas for segmentation.\n",
    "area_list = [\"V1\", \"LM\", \"AL\", \"RL\", \"AM\", \"PM\", \"M\"]\n",
    "\n",
    "%matplotlib qt5\n",
    "for ID,data in exp_info.items():\n",
    "    # Load reference frame and sign map for segmenting\n",
    "    exp_path = data_path + \"{a}//{e}//\".format(a=ID, e=data[\"exp_name\"])\n",
    "    data[\"refframe\"] = imread(exp_path + \"refframe.tif\").squeeze()\n",
    "    data[\"signmap\"] = np.loadtxt(exp_path + \"signmap.csv\").squeeze()\n",
    "    # Create dictionary for storing visual area boundary coordinates.\n",
    "    data[\"area_coords\"] = dict(zip(area_list, [None]*len(area_list)))\n",
    "    for area_num,area in enumerate(area_list):\n",
    "        fig, ax = plt.subplots()\n",
    "        ax.imshow(data[\"refframe\"], cmap=\"gray\")\n",
    "        ax.imshow(data[\"signmap\"], cmap=\"RdBu_r\", clim=[-1,1], alpha=0.3)\n",
    "        # Plot previously segmented areas to avoid selecting overlapping regions.\n",
    "        if area_num > 0:\n",
    "            for prev_area in area_list[:area_num]:\n",
    "                ax.plot(data[\"area_coords\"][prev_area][:,0], data[\"area_coords\"][prev_area][:,1], color=\"k\", linewidth=3)\n",
    "        ax.set_title(\"Select Region for {ar}:\".format(ar=area), fontsize=20)\n",
    "        ax.axis(\"off\")\n",
    "        fig.set_size_inches(12, 12)\n",
    "        # If segmentation coordinates are already saved for this area, use those.\n",
    "        # Otherwise, get user input.\n",
    "        if exists(exp_path + \"{ar}.csv\".format(ar=area)):\n",
    "            data[\"area_coords\"][area] = np.loadtxt(exp_path + \"{ar}.csv\".format(ar=area))\n",
    "        else:\n",
    "            curr_input = plt.ginput(n=-1, timeout=-1)\n",
    "            curr_input = np.array(curr_input)\n",
    "            curr_input = np.append(curr_input, [curr_input[0,:]], axis=0)\n",
    "            data[\"area_coords\"][area] = curr_input\n",
    "            np.savetxt(exp_path + \"{ar}.csv\".format(ar=area), curr_input)\n",
    "        plt.close()\n",
    "    # Also load average magnitude, azimuth, and elevation data for downstream analyses.\n",
    "    data[\"avg_mag\"] = np.loadtxt(exp_path + \"avg_mag.csv\").squeeze()\n",
    "    data[\"azimuth\"] = np.loadtxt(exp_path + \"azimuth.csv\").squeeze()\n",
    "    data[\"elevation\"] = np.loadtxt(exp_path + \"elevation.csv\").squeeze()"
   ]
  },
  {
   "cell_type": "markdown",
   "id": "6ff8619c-6039-4622-a191-6efaa171ed39",
   "metadata": {},
   "source": [
    "Calculate Average Magnitude and Scatter for each Segmented Visual Area"
   ]
  },
  {
   "cell_type": "code",
   "execution_count": null,
   "id": "08d13446-a493-450a-bc4b-b46d1230ef3f",
   "metadata": {},
   "outputs": [],
   "source": []
  }
 ],
 "metadata": {
  "kernelspec": {
   "display_name": "Python 3 (ipykernel)",
   "language": "python",
   "name": "python3"
  },
  "language_info": {
   "codemirror_mode": {
    "name": "ipython",
    "version": 3
   },
   "file_extension": ".py",
   "mimetype": "text/x-python",
   "name": "python",
   "nbconvert_exporter": "python",
   "pygments_lexer": "ipython3",
   "version": "3.10.6"
  }
 },
 "nbformat": 4,
 "nbformat_minor": 5
}
