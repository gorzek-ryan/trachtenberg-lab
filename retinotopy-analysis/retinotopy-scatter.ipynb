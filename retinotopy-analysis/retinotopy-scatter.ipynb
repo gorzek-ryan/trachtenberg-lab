{
 "cells": [
  {
   "cell_type": "markdown",
   "id": "bbbe6139",
   "metadata": {},
   "source": [
    "Set Animal IDs and Experiment IDs"
   ]
  },
  {
   "cell_type": "code",
   "execution_count": 14,
   "id": "127b7f01",
   "metadata": {},
   "outputs": [],
   "source": [
    "id_dict = {\n",
    "    # 'LT177': ['20220517_130039']} # ,\n",
    "    'LT178': ['20220517_134340']} # ,\n",
    "    # 'LT179': ['20220527_142920'],\n",
    "    # 'LT180': ['20220527_151659']\n",
    "    # }"
   ]
  },
  {
   "cell_type": "markdown",
   "id": "17515899",
   "metadata": {},
   "source": [
    "Get User Input for Visual Area Boundaries on Sign Maps"
   ]
  },
  {
   "cell_type": "code",
   "execution_count": 15,
   "id": "74e9c41f",
   "metadata": {},
   "outputs": [],
   "source": [
    "import numpy as np\n",
    "from skimage.morphology import skeletonize\n",
    "import cv2\n",
    "import matplotlib.pyplot as plt\n",
    "from tifffile import imread\n",
    "    \n",
    "\n",
    "def get_signmap_boundaries(signmap, dilation_factor):\n",
    "    '''\n",
    "    Get binary image of sign map boundaries by:\n",
    "        1) Thresholding sign map around zero to detect boundary regions.\n",
    "        2) Skeletonizing thresholded sign map to reduce thickness of certain boundary regions.\n",
    "        3) Dilating skeletonized image by dilation_factor to make boundary thickness uniform and suitable for display purposes.\n",
    "    '''\n",
    "    # Detect outer edges of sign map (floats bordering nans) and set to 0\n",
    "    signmap_threshold = signmap.copy()\n",
    "    kernel_edge = np.array([[-1, -1, -1],\n",
    "                            [-1, 1, -1],\n",
    "                            [-1, -1 , -1]])\n",
    "    for row in np.arange(1, signmap_threshold.shape[0] - 1):\n",
    "        for col in np.arange(1, signmap_threshold.shape[1] - 1):\n",
    "            curr_idx = np.ix_((row - 1, row, row + 1),(col - 1, col, col + 1))\n",
    "            if not (np.isnan(signmap[row,col]) and\n",
    "                        np.isnan(np.tensordot(kernel_edge, signmap_threshold[curr_idx], \n",
    "                                              axes=((0,1),(0,1))))):\n",
    "                signmap_threshold[curr_idx] = 0\n",
    "\n",
    "    # Threshold sign map around 0 to detect boundaries\n",
    "    np.add.at(signmap_threshold, np.logical_or(signmap < -0.35, signmap > 0.35), np.nan)\n",
    "\n",
    "    # Skeletonize, then dilate thresholded sign map\n",
    "    signmap_skeleton = skeletonize(~np.isnan(signmap_threshold))\n",
    "    kernel_dilate = np.ones((dilation_factor, dilation_factor), np.uint8)\n",
    "    signmap_boundaries = cv2.dilate(signmap_skeleton.astype('float'), kernel_dilate, iterations=1)\n",
    "    signmap_boundaries[signmap_boundaries == 0] = np.nan\n",
    "    return signmap_boundaries\n",
    "\n",
    "\n",
    "# Set visual areas to include in analysis\n",
    "visual_areas = ['V1', 'LM', 'Li', 'AL', 'RL', 'AM', 'PM']\n",
    "\n",
    "data_path = '//Users//ryan.gorzek//Documents//Trachtenberg Lab//Data//Liming//{ms}//{exp}//'\n",
    "\n",
    "for mouse in id_dict:\n",
    "    for experiment in id_dict[mouse]:\n",
    "        exp_path = data_path.format(ms=mouse, exp=experiment)\n",
    "        ref_frame = imread(exp_path + 'refframe.tif').squeeze()\n",
    "        signmap = np.loadtxt(exp_path + 'signmap.csv')\n",
    "        # Get sign map boundaries, use dilation factor of 3 (good boundary thickness)\n",
    "        signmap_boundaries = get_signmap_boundaries(signmap, 3)\n",
    "        # for vis_ar in visual_areas:\n",
    "        %matplotlib qt\n",
    "        fig, ax = plt.subplots()\n",
    "        ax.imshow(ref_frame, cmap='gray')\n",
    "        ax.imshow(signmap, cmap='RdBu_r', clim=[-1,1], alpha=0.3)\n",
    "        # ax.imshow(signmap_boundaries, cmap='Greys', clim=[0,1], alpha=1)\n",
    "        ax.axis('off')\n",
    "        fig.set_size_inches(10, 10)"
   ]
  },
  {
   "cell_type": "code",
   "execution_count": 4,
   "id": "1ea65263",
   "metadata": {},
   "outputs": [
    {
     "name": "stdout",
     "output_type": "stream",
     "text": [
      "LT177\n",
      "LT178\n",
      "LT179\n",
      "LT180\n"
     ]
    }
   ],
   "source": [
    "for key in id_dict:\n",
    "    print(key)"
   ]
  }
 ],
 "metadata": {
  "kernelspec": {
   "display_name": "Python 3 (ipykernel)",
   "language": "python",
   "name": "python3"
  },
  "language_info": {
   "codemirror_mode": {
    "name": "ipython",
    "version": 3
   },
   "file_extension": ".py",
   "mimetype": "text/x-python",
   "name": "python",
   "nbconvert_exporter": "python",
   "pygments_lexer": "ipython3",
   "version": "3.9.12"
  }
 },
 "nbformat": 4,
 "nbformat_minor": 5
}
