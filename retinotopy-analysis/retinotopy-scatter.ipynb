{
 "cells": [
  {
   "cell_type": "markdown",
   "id": "bbbe6139",
   "metadata": {},
   "source": [
    "Set Animal IDs and Experiment IDs"
   ]
  },
  {
   "cell_type": "code",
   "execution_count": 1,
   "id": "127b7f01",
   "metadata": {},
   "outputs": [],
   "source": [
    "data_path = '//Users//ryan.gorzek//Downloads//Mapping_Through_Skull//'\n",
    "\n",
    "exp_info = {\n",
    "            'DR_ctb01': {'exp_name': '20220603_101509', 'rearing': 'DR'},\n",
    "            'DR_ctb02': {'exp_name': '20220610_105811', 'rearing': 'DR'},\n",
    "            'DR_ctb07': {'exp_name': '20220711_135556', 'rearing': 'DR'},\n",
    "            'DR_ctb08': {'exp_name': '20220715_121356', 'rearing': 'DR'},\n",
    "            'DR_lt168': {'exp_name': '20220330_130327', 'rearing': 'DR'},\n",
    "            'DR_lt169': {'exp_name': '20220420_125809', 'rearing': 'DR'},\n",
    "            'DR_lt170': {'exp_name': '20220421_133932', 'rearing': 'DR'},\n",
    "            'NR_ctb03': {'exp_name': '20220623_161247', 'rearing': 'NR'},\n",
    "            'NR_ctb04': {'exp_name': '20220630_130119', 'rearing': 'NR'},\n",
    "            'NR_ctb05': {'exp_name': '20220706_105937', 'rearing': 'NR'},\n",
    "            'NR_ctb09': {'exp_name': '20220720_153020', 'rearing': 'NR'},\n",
    "            'NR_lt164': {'exp_name': '20220302_131952', 'rearing': 'NR'},\n",
    "            'NR_lt171': {'exp_name': '20220427_115917', 'rearing': 'NR'},\n",
    "            'NR_lt172': {'exp_name': '20220428_130342', 'rearing': 'NR'},\n",
    "            'NR_lt175': {'exp_name': '20220512_124014', 'rearing': 'NR'}\n",
    "            }\n",
    "\n",
    "area_list = ['V1', 'LM', 'AL', 'RL', 'AM', 'PM', 'M']"
   ]
  },
  {
   "cell_type": "markdown",
   "id": "17515899",
   "metadata": {},
   "source": [
    "Get User Input for Visual Area Boundaries on Sign Maps"
   ]
  },
  {
   "cell_type": "code",
   "execution_count": 5,
   "id": "74e9c41f",
   "metadata": {},
   "outputs": [],
   "source": [
    "import numpy as np\n",
    "import matplotlib.pyplot as plt\n",
    "from tifffile import imread\n",
    "from os.path import exists\n",
    "\n",
    "%matplotlib qt5\n",
    "for exp in exp_info:\n",
    "    curr_path = data_path + '{a}//{e}//'.format(a=exp, e=exp_info[exp]['exp_name'])\n",
    "    exp_info[exp]['area_coords'] = dict(zip(area_list, [None]*len(area_list)))\n",
    "    refframe = imread(curr_path + 'refframe.tif').squeeze()\n",
    "    signmap = np.loadtxt(curr_path + 'signmap.csv').squeeze()\n",
    "    for area_num,area in enumerate(area_list):\n",
    "        fig, ax = plt.subplots()\n",
    "        ax.imshow(refframe, cmap='gray')\n",
    "        ax.imshow(signmap, cmap='RdBu_r', clim=[-1,1], alpha=0.3)\n",
    "        if area_num > 0:\n",
    "            for prev_area in area_list[:area_num]:\n",
    "                ax.plot(exp_info[exp]['area_coords'][prev_area][:,0], exp_info[exp]['area_coords'][prev_area][:,1], color='k', linewidth=3)\n",
    "        ax.set_title('Select Region for {ar}:'.format(ar=area), fontsize=20)\n",
    "        ax.axis('off')\n",
    "        fig.set_size_inches(12, 12)\n",
    "        if exists(curr_path + '{ar}.csv'.format(ar=area)):\n",
    "            exp_info[exp]['area_coords'][area] = np.loadtxt(curr_path + '{ar}.csv'.format(ar=area))\n",
    "        else:\n",
    "            curr_input = plt.ginput(n=-1, timeout=-1)\n",
    "            curr_input = np.array(curr_input)\n",
    "            curr_input = np.append(curr_input, [curr_input[0,:]], axis=0)\n",
    "            exp_info[exp]['area_coords'][area] = curr_input\n",
    "            np.savetxt(curr_path + '{ar}.csv'.format(ar=area), curr_input)\n",
    "        plt.close()"
   ]
  }
 ],
 "metadata": {
  "kernelspec": {
   "display_name": "Python 3 (ipykernel)",
   "language": "python",
   "name": "python3"
  },
  "language_info": {
   "codemirror_mode": {
    "name": "ipython",
    "version": 3
   },
   "file_extension": ".py",
   "mimetype": "text/x-python",
   "name": "python",
   "nbconvert_exporter": "python",
   "pygments_lexer": "ipython3",
   "version": "3.10.6"
  }
 },
 "nbformat": 4,
 "nbformat_minor": 5
}
