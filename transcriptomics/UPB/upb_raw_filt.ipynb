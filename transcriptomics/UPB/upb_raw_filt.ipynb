{
 "cells": [
  {
   "cell_type": "code",
   "execution_count": 6,
   "metadata": {},
   "outputs": [
    {
     "name": "stdout",
     "output_type": "stream",
     "text": [
      "reading E:/Projection-seq/UPB_Full/Barcode-1/outs/filtered_feature_bc_matrix.h5\n",
      " (0:00:00)\n",
      "reading E:/Projection-seq/UPB_Full/Barcode-2/outs/filtered_feature_bc_matrix.h5\n"
     ]
    },
    {
     "name": "stderr",
     "output_type": "stream",
     "text": [
      "c:\\Users\\TLab\\anaconda3\\envs\\scanpy\\lib\\site-packages\\anndata\\_core\\anndata.py:1832: UserWarning: Variable names are not unique. To make them unique, call `.var_names_make_unique`.\n",
      "  utils.warn_names_duplicates(\"var\")\n"
     ]
    },
    {
     "name": "stdout",
     "output_type": "stream",
     "text": [
      " (0:00:00)\n"
     ]
    },
    {
     "name": "stderr",
     "output_type": "stream",
     "text": [
      "c:\\Users\\TLab\\anaconda3\\envs\\scanpy\\lib\\site-packages\\anndata\\_core\\anndata.py:1832: UserWarning: Variable names are not unique. To make them unique, call `.var_names_make_unique`.\n",
      "  utils.warn_names_duplicates(\"var\")\n",
      "c:\\Users\\TLab\\anaconda3\\envs\\scanpy\\lib\\site-packages\\anndata\\_core\\anndata.py:1755: FutureWarning: The AnnData.concatenate method is deprecated in favour of the anndata.concat function. Please use anndata.concat instead.\n",
      "\n",
      "See the tutorial for concat at: https://anndata.readthedocs.io/en/latest/concatenation.html\n",
      "  warnings.warn(\n"
     ]
    },
    {
     "data": {
      "text/plain": [
       "AnnData object with n_obs × n_vars = 9564 × 30648\n",
       "    obs: 'batch'\n",
       "    var: 'gene_ids', 'feature_types', 'genome'"
      ]
     },
     "execution_count": 6,
     "metadata": {},
     "output_type": "execute_result"
    }
   ],
   "source": [
    "import scanpy as sc\n",
    "import numpy as np\n",
    "import random\n",
    "import matplotlib.pyplot as plt\n",
    "sc.settings.verbosity = 3\n",
    "sc.set_figure_params(dpi=100)\n",
    "random.seed(66)\n",
    "\n",
    "data_path = \"E:/Projection-seq/UPB_Full/\"\n",
    "\n",
    "sample_IDs = [\"Barcode-1\", \"Barcode-2\"]\n",
    "\n",
    "accum_adata, cell_count = [], 0\n",
    "for sample in sample_IDs:\n",
    "    raw_path = data_path + sample\n",
    "    temp_adata = sc.read_10x_h5(\n",
    "        raw_path + \"/outs/filtered_feature_bc_matrix.h5\",\n",
    "                              )\n",
    "    temp_adata.var_names_make_unique()\n",
    "    accum_adata.append(temp_adata)\n",
    "    cell_count += temp_adata.n_obs\n",
    "\n",
    "adata = accum_adata[0].concatenate(*accum_adata[1:], batch_categories=sample_IDs)\n",
    "adata"
   ]
  },
  {
   "cell_type": "code",
   "execution_count": 7,
   "metadata": {},
   "outputs": [
    {
     "data": {
      "text/plain": [
       "matrix([[949., 827., 520.,   0., 203.,   0.]], dtype=float32)"
      ]
     },
     "execution_count": 7,
     "metadata": {},
     "output_type": "execute_result"
    }
   ],
   "source": [
    "np.sum(adata[:, [\"UPB1\", \"UPB2\", \"UPB4\", \"UPB5\", \"UPB6\", \"UPB7\"]].X, axis=0)"
   ]
  }
 ],
 "metadata": {
  "kernelspec": {
   "display_name": "scanpy",
   "language": "python",
   "name": "python3"
  },
  "language_info": {
   "codemirror_mode": {
    "name": "ipython",
    "version": 3
   },
   "file_extension": ".py",
   "mimetype": "text/x-python",
   "name": "python",
   "nbconvert_exporter": "python",
   "pygments_lexer": "ipython3",
   "version": "3.9.16"
  },
  "orig_nbformat": 4
 },
 "nbformat": 4,
 "nbformat_minor": 2
}
