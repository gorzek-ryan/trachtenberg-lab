{
 "cells": [
  {
   "cell_type": "code",
   "execution_count": 12,
   "metadata": {},
   "outputs": [],
   "source": [
    "import numpy as np\n",
    "from py_pcha import PCHA\n",
    "\n",
    "X = np.loadtxt(\"E:/Transcriptomics_V1/Integration/opossum_pcs_AB_subsample.txt\")\n",
    "\n",
    "XC, S, C, SSE, varexpl = PCHA(X.T, noc=4, delta=0.1)\n",
    "\n",
    "np.savetxt(\"E:/Transcriptomics_V1/Integration/opossum_AB_subsample_polygon.csv\", XC.T, delimiter=\",\", header=\"X,Y\")"
   ]
  },
  {
   "cell_type": "code",
   "execution_count": 4,
   "metadata": {},
   "outputs": [
    {
     "data": {
      "text/plain": [
       "matrix([[-14.98283143,  18.5326691 , -15.30278533],\n",
       "        [ 23.92811569,  -1.89387807, -16.07274299]])"
      ]
     },
     "execution_count": 4,
     "metadata": {},
     "output_type": "execute_result"
    }
   ],
   "source": [
    "XC"
   ]
  },
  {
   "cell_type": "code",
   "execution_count": 16,
   "metadata": {},
   "outputs": [],
   "source": [
    "X = np.loadtxt(\"E:/Transcriptomics_V1/Integration/mouse_pcs_P8.txt\")\n",
    "\n",
    "XC, S, C, SSE, varexpl = PCHA(X.T, noc=4, delta=0.1)\n",
    "\n",
    "np.savetxt(\"E:/Transcriptomics_V1/Integration/mouse_polygon_P8.csv\", XC.T, delimiter=\",\", header=\"X,Y\")"
   ]
  },
  {
   "cell_type": "code",
   "execution_count": 10,
   "metadata": {},
   "outputs": [
    {
     "data": {
      "text/plain": [
       "matrix([[ 12.94075196, -14.5889302 ,  18.34868999,  -5.1095269 ],\n",
       "        [ 12.49462844,   7.39777148, -15.59378013, -20.40934599]])"
      ]
     },
     "execution_count": 10,
     "metadata": {},
     "output_type": "execute_result"
    }
   ],
   "source": [
    "XC"
   ]
  }
 ],
 "metadata": {
  "kernelspec": {
   "display_name": "pcha",
   "language": "python",
   "name": "python3"
  },
  "language_info": {
   "codemirror_mode": {
    "name": "ipython",
    "version": 3
   },
   "file_extension": ".py",
   "mimetype": "text/x-python",
   "name": "python",
   "nbconvert_exporter": "python",
   "pygments_lexer": "ipython3",
   "version": "3.9.19"
  }
 },
 "nbformat": 4,
 "nbformat_minor": 2
}
