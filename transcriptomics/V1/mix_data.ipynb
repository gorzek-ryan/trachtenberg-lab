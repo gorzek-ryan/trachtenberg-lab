{
 "cells": [
  {
   "cell_type": "code",
   "execution_count": 2,
   "metadata": {},
   "outputs": [
    {
     "name": "stderr",
     "output_type": "stream",
     "text": [
      "c:\\Users\\TLab\\anaconda3\\envs\\scanpy\\lib\\site-packages\\anndata\\_core\\anndata.py:1755: FutureWarning: The AnnData.concatenate method is deprecated in favour of the anndata.concat function. Please use anndata.concat instead.\n",
      "\n",
      "See the tutorial for concat at: https://anndata.readthedocs.io/en/latest/concatenation.html\n",
      "  warnings.warn(\n"
     ]
    }
   ],
   "source": [
    "import scanpy as sc\n",
    "import numpy as np\n",
    "import random\n",
    "import matplotlib.pyplot as plt\n",
    "import scanpy.external as sce\n",
    "import nsforest as ns\n",
    "sc.settings.verbosity = 3\n",
    "sc.set_figure_params(dpi=100)\n",
    "random.seed(66)\n",
    "\n",
    "data_path = \"E:/Mouse_V1/\"\n",
    "\n",
    "adata_bar = sc.read_h5ad(data_path + \"Mouse_V1_Glut.h5ad\")\n",
    "adata_cell = sc.read_h5ad(data_path + \"Gluta_NR/P28_glut.h5ad\")\n",
    "adata = adata_cell.concatenate(adata_bar, batch_key=\"concat\")"
   ]
  },
  {
   "cell_type": "code",
   "execution_count": 5,
   "metadata": {},
   "outputs": [
    {
     "data": {
      "text/plain": [
       "AnnData object with n_obs × n_vars = 4378 × 16664\n",
       "    obs: 'batch', 'n_genes', 'percent_mito', 'n_counts', 'leiden', 'doublet', 'doublet_score', 'class'\n",
       "    var: 'gene_ids', 'feature_types', 'genome'"
      ]
     },
     "execution_count": 5,
     "metadata": {},
     "output_type": "execute_result"
    }
   ],
   "source": [
    "adata_bar = sc.read_h5ad(data_path + \"Mouse_V1_Glut.h5ad\")"
   ]
  }
 ],
 "metadata": {
  "kernelspec": {
   "display_name": "scanpy",
   "language": "python",
   "name": "python3"
  },
  "language_info": {
   "codemirror_mode": {
    "name": "ipython",
    "version": 3
   },
   "file_extension": ".py",
   "mimetype": "text/x-python",
   "name": "python",
   "nbconvert_exporter": "python",
   "pygments_lexer": "ipython3",
   "version": "3.9.16"
  },
  "orig_nbformat": 4
 },
 "nbformat": 4,
 "nbformat_minor": 2
}
