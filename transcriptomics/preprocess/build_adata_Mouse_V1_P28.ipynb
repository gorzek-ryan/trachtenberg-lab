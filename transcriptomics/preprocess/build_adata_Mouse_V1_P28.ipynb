{
 "cells": [
  {
   "cell_type": "code",
   "execution_count": 1,
   "metadata": {},
   "outputs": [
    {
     "data": {
      "text/plain": [
       "AnnData object with n_obs × n_vars = 23930 × 30869\n",
       "    obs: 'batch', 'n_genes', 'percent_mito', 'n_counts', 'leiden', 'Doublet', 'Doublet Score', 'cluster', 'Class_broad', 'sample', 'Age', 'subclass', 'sample_new', 'layer', 'Type', 'Subclass', 'class'\n",
       "    obsm: 'X_harmony', 'X_pca', 'X_umap'"
      ]
     },
     "execution_count": 1,
     "metadata": {},
     "output_type": "execute_result"
    }
   ],
   "source": [
    "import scanpy as sc\n",
    "import anndata as ad\n",
    "import numpy as np\n",
    "import random\n",
    "import matplotlib.pyplot as plt\n",
    "import scanpy.external as sce\n",
    "import nsforest as ns\n",
    "sc.settings.verbosity = 3\n",
    "sc.set_figure_params(dpi=100)\n",
    "np.random.seed(66)\n",
    "\n",
    "data_path = \"E:/Mouse_V1/P28NR/\"\n",
    "adata_counts = sc.read_csv(data_path + \"GSE190940_P28NR.csv\")\n",
    "\n",
    "sample_IDs = [\"P28_glut\", \"P28_gaba\", \"P28_non\"] # \n",
    "\n",
    "accum_adata, cell_count = [], 0\n",
    "for sample in sample_IDs:\n",
    "    pre_path = data_path + sample + \".h5ad\"\n",
    "    temp_adata = sc.read_h5ad(\n",
    "        pre_path,\n",
    "                              )\n",
    "    temp_adata.var_names_make_unique()\n",
    "    obs_names = [name[:29] for name in temp_adata.obs_names]\n",
    "    X_counts = adata_counts[obs_names, temp_adata.var_names].X\n",
    "    temp_adata.X = X_counts\n",
    "    accum_adata.append(temp_adata)\n",
    "    cell_count += temp_adata.n_obs\n",
    "\n",
    "adata = ad.concat(accum_adata, join=\"outer\", label=\"class\", keys=[\"glutamatergic\", \"GABAergic\", \"non-neuronal\"])\n",
    "adata"
   ]
  },
  {
   "cell_type": "code",
   "execution_count": 2,
   "metadata": {},
   "outputs": [],
   "source": [
    "adata.obs_names = [name[:25] for name in adata.obs_names]"
   ]
  },
  {
   "cell_type": "code",
   "execution_count": 3,
   "metadata": {},
   "outputs": [],
   "source": [
    "renames = ((\"n_counts\", \"n_UMIs\"), \n",
    "           (\"Doublet\", \"doublet\"), \n",
    "           (\"Doublet Score\", \"doublet_score\"), \n",
    "           (\"sample\", \"batch\"), \n",
    "           (\"Subclass\", \"subclass\"), \n",
    "           (\"Type\", \"type\"))\n",
    "\n",
    "for orig, new in renames:\n",
    "    adata.obs[new] = adata.obs[orig].copy()\n",
    "\n",
    "adata.obs[\"percent_mito\"] = adata.obs[\"percent_mito\"] * 100"
   ]
  },
  {
   "attachments": {},
   "cell_type": "markdown",
   "metadata": {},
   "source": [
    "Create Glutamatergic AnnData"
   ]
  },
  {
   "cell_type": "code",
   "execution_count": 4,
   "metadata": {},
   "outputs": [
    {
     "name": "stdout",
     "output_type": "stream",
     "text": [
      "normalizing counts per cell\n",
      "    finished (0:00:00)\n"
     ]
    },
    {
     "data": {
      "text/plain": [
       "AnnData object with n_obs × n_vars = 15315 × 30869\n",
       "    obs: 'batch', 'n_genes', 'n_UMIs', 'percent_mito', 'doublet_score', 'doublet', 'class', 'subclass', 'type', 'norm_factor'\n",
       "    var: 'gene_ids', 'feature_types', 'n_cells', 'highly_variable', 'means', 'dispersions', 'dispersions_norm', 'mean', 'std'\n",
       "    uns: \"dendrogram_['leiden']\", 'hvg', 'leiden', 'leiden_colors', 'neighbors', 'pca', 'umap', 'type_colors', 'batch_colors', 'log1p'\n",
       "    obsm: 'X_harmony', 'X_pca', 'X_umap'\n",
       "    varm: 'PCs'\n",
       "    layers: 'counts', 'CPT', 'logCPT', 'z-score'\n",
       "    obsp: 'connectivities', 'distances'"
      ]
     },
     "execution_count": 4,
     "metadata": {},
     "output_type": "execute_result"
    }
   ],
   "source": [
    "adata_glut = adata[adata.obs[\"class\"] == \"glutamatergic\", accum_adata[0].var_names].copy()\n",
    "adata_glut.obs = adata_glut.obs[[\"batch\", \"n_genes\", \"n_UMIs\", \"percent_mito\", \"doublet_score\", \"doublet\", \"class\", \"subclass\", \"type\", \"leiden\"]].copy()\n",
    "adata_glut.var = accum_adata[0].var.copy()\n",
    "adata_glut.varm = accum_adata[0].varm.copy()\n",
    "adata_glut.obsp = accum_adata[0].obsp.copy()\n",
    "adata_glut.uns = accum_adata[0].uns.copy()\n",
    "\n",
    "adata_glut.uns[\"type_colors\"] = adata_glut.uns[\"Type_colors\"].copy()\n",
    "adata_glut.uns[\"batch_colors\"] = adata_glut.uns[\"sample_colors\"].copy()\n",
    "del adata_glut.uns[\"Type_colors\"]\n",
    "del adata_glut.uns[\"sample_colors\"]\n",
    "del adata_glut.uns[\"cluster_colors\"]\n",
    "del adata_glut.uns[\"layer_colors\"]\n",
    "\n",
    "adata_glut.raw = None\n",
    "adata_glut.layers[\"counts\"] = adata_glut.X.copy()\n",
    "CPTs = sc.pp.normalize_total(adata_glut, layer=\"counts\", target_sum=1e4, inplace=False)\n",
    "adata_glut.obs[\"norm_factor\"] = CPTs[\"norm_factor\"].copy()\n",
    "adata_glut.layers[\"CPT\"] = CPTs[\"X\"].copy()\n",
    "adata_glut.X = CPTs[\"X\"].copy()\n",
    "sc.pp.log1p(adata_glut)\n",
    "# adata_glut.raw = adata_glut\n",
    "adata_glut.layers[\"logCPT\"] = adata_glut.X.copy()\n",
    "sc.pp.scale(adata_glut, max_value=10)\n",
    "adata_glut.layers[\"z-score\"] = adata_glut.X.copy()\n",
    "\n",
    "adata_glut.write_h5ad(data_path + \"Mouse_V1_P28NR_Glut.h5ad\")\n",
    "adata_glut"
   ]
  },
  {
   "attachments": {},
   "cell_type": "markdown",
   "metadata": {},
   "source": [
    "Create GABAergic AnnData"
   ]
  },
  {
   "cell_type": "code",
   "execution_count": 6,
   "metadata": {},
   "outputs": [
    {
     "data": {
      "text/plain": [
       "(15315, 50)"
      ]
     },
     "execution_count": 6,
     "metadata": {},
     "output_type": "execute_result"
    }
   ],
   "source": [
    "adata_glut.obsm[\"X_harmony\"].shape"
   ]
  },
  {
   "cell_type": "code",
   "execution_count": null,
   "metadata": {},
   "outputs": [],
   "source": [
    "adata.obs = adata.obs[[\"batch\", \"n_genes\", \"n_UMIs\", \"percent_mito\", \"doublet_score\", \"doublet\", \"class\", \"subclass\", \"type\"]]"
   ]
  }
 ],
 "metadata": {
  "kernelspec": {
   "display_name": "scanpy",
   "language": "python",
   "name": "python3"
  },
  "language_info": {
   "codemirror_mode": {
    "name": "ipython",
    "version": 3
   },
   "file_extension": ".py",
   "mimetype": "text/x-python",
   "name": "python",
   "nbconvert_exporter": "python",
   "pygments_lexer": "ipython3",
   "version": "3.9.16"
  },
  "orig_nbformat": 4
 },
 "nbformat": 4,
 "nbformat_minor": 2
}
