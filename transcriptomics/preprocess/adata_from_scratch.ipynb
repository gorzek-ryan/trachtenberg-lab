{
 "cells": [
  {
   "cell_type": "code",
   "execution_count": null,
   "metadata": {},
   "outputs": [],
   "source": [
    "import scipy\n",
    "import numpy as np\n",
    "import pandas as pd\n",
    "\n",
    "cells = pd.read_feather(\"C:/Users/TLab/Downloads/Mouse_M1_10xV3_Metadata.feather\")\n",
    "matrix = scipy.io.mmread(\"C:/Users/TLab/Downloads/Mouse_M1_10xV3/matrix.mtx.gz\")\n",
    "genes = np.loadtxt(\"C:/Users/TLab/Downloads/Mouse_M1_10xV3/features.tsv\", dtype=str)\n",
    "barcodes = np.loadtxt(\"C:/Users/TLab/Downloads/Mouse_M1_10xV3/barcodes.tsv\", dtype=str)\n",
    "adata = sc.AnnData(matrix.T)\n",
    "adata.obs_names = barcodes\n",
    "adata.var_names = genes\n",
    "idx = []\n",
    "for index in np.array(adata.obs.index):\n",
    "    idx.append(np.where(np.array(cells[\"sample_id\"]) == index)[0][0])\n",
    "    print(len(idx))\n",
    "idx = np.array(idx)\n",
    "for col in cells.columns[1:]:\n",
    "    adata.obs[col] = np.array(cells[col])[idx]\n",
    "adata.X = adata.X.tocsr()\n",
    "adata.obs.drop(columns=[\"integrated_clusters_color\"], inplace=True)\n",
    "sample_IDs = [barcode.split(\"_\")[0] for barcode in adata.obs.index]\n",
    "adata.obs[\"batch\"] = sample_IDs\n",
    "adata.write_h5ad(\"\")"
   ]
  }
 ],
 "metadata": {
  "language_info": {
   "name": "python"
  },
  "orig_nbformat": 4
 },
 "nbformat": 4,
 "nbformat_minor": 2
}
