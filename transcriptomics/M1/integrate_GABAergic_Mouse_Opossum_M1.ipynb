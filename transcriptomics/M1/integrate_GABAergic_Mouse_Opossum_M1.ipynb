---
title: "Integrate GABAergic Mouse Opossum M1"
output: html_notebook
---

```{r}

library(Seurat)
library(reticulate)
library(scrubletR)
library(ggplot2)
library(dplyr)
library(SeuratDisk)

obj.mouse <- LoadH5Seurat("E:/Mouse_M1/seurat/mouse_m1_gabaergic.h5seurat")
obj.mouse[["dataset"]] <- "Mouse_M1"

obj.opossum <- LoadH5Seurat("E:/Opossum_M1/seurat/opossum_m1_gabaergic.h5seurat")
obj.opossum[["dataset"]] <- "Opossum_M1"

obj.mouse <- obj.mouse[, sample(colnames(obj.mouse), size = ncol(obj.opossum), replace = FALSE)]

```


```{r}

common.features <- intersect(rownames(obj.mouse), rownames(obj.opossum))
obj.combined <- merge(obj.mouse[common.features,], y = obj.opossum[common.features,])
obj.list <- SplitObject(obj.combined, split.by = "dataset")

```


```{r}

VlnPlot(obj.combined, features = c("nCount_RNA"), split.by = "dataset")

```


```{r}

obj.list[["Mouse_M1"]] <- SCTransform(obj.list[["Mouse_M1"]], vst.flavor = "v2", verbose = FALSE) %>%
               RunPCA(npcs = 30, verbose = FALSE) %>%
               RunUMAP(reduction = "pca", dims = 1:30, verbose = FALSE) %>%
               FindNeighbors(reduction = "pca", dims = 1:30, verbose = FALSE) %>%
               FindClusters(resolution = 1, algorithm = 4, method = "igraph")

DimPlot(obj.list[["Mouse_M1"]], label = TRUE, repel = TRUE) + xlim(-12, 12) + ylim(-12, 12) + coord_equal()

obj.list[["Opossum_M1"]] <- SCTransform(obj.list[["Opossum_M1"]], vst.flavor = "v2", verbose = FALSE) %>%
               RunPCA(npcs = 30, verbose = FALSE) %>%
               RunUMAP(reduction = "pca", dims = 1:30, verbose = FALSE) %>%
               FindNeighbors(reduction = "pca", dims = 1:30, verbose = FALSE) %>%
               FindClusters(resolution = 1, algorithm = 4, method = "igraph")

DimPlot(obj.list[["Opossum_M1"]], label = TRUE, repel = TRUE) + xlim(-9, 9) + ylim(-9, 9) + coord_equal()

```


```{r}

features <- SelectIntegrationFeatures(object.list = obj.list, nfeatures = 3000)
obj.list <- PrepSCTIntegration(object.list = obj.list, anchor.features = features)
anchors <- FindIntegrationAnchors(object.list = obj.list, normalization.method = "SCT", anchor.features = features)
obj.combined.sct <- IntegrateData(anchorset = anchors, normalization.method = "SCT")

```


```{r}

obj.combined.sct <- RunPCA(obj.combined.sct, verbose = FALSE)
obj.combined.sct <- RunUMAP(obj.combined.sct, reduction = "pca", dims = 1:30, verbose = FALSE)
obj.combined.sct <- FindNeighbors(obj.combined.sct, reduction = "pca", dims = 1:30)
obj.combined.sct <- FindClusters(obj.combined.sct, resolution = 1, algorithm = 4, method = "igraph")

```

```{r}

DimPlot(obj.combined.sct, reduction = "umap", label = TRUE) + xlim(-8, 8) + ylim(-8, 8) + coord_equal()
DimPlot(obj.combined.sct, reduction = "umap", group.by = "dataset") + xlim(-8, 8) + ylim(-8, 8) + coord_equal()
DimPlot(obj.combined.sct, reduction = "umap", split.by = "dataset", group.by = "cluster_label") + xlim(-8, 8) + ylim(-8, 8) + coord_equal()
DimPlot(obj.combined.sct, reduction = "umap", split.by = "dataset", group.by = "RNA_snn_res.3", label = TRUE) + NoLegend() + xlim(-8, 8) + ylim(-8, 8) + coord_equal()

```

