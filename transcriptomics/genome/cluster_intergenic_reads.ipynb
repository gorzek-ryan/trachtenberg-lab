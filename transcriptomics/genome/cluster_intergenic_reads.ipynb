{
 "cells": [
  {
   "cell_type": "code",
   "execution_count": 1,
   "metadata": {},
   "outputs": [],
   "source": [
    "import dask.dataframe as dd\n",
    "import networkx as nx\n",
    "from community import community_louvain\n",
    "import matplotlib.pyplot as plt\n",
    "\n",
    "# Function to add edges to the graph incrementally\n",
    "def add_edges_to_graph(df_chunk, graph):\n",
    "    for _, row in df_chunk.iterrows():\n",
    "        graph.add_edge(row['read1'], row['read2'], weight=row['distance'])\n",
    "    return graph\n",
    "\n",
    "# Load the data using Dask\n",
    "df = dd.read_csv('E:/bams/extended/closest_knn.txt', delim_whitespace=True, header=None, names=['read1', 'read2', 'distance'])\n",
    "\n",
    "# Randomly sample 1/4 of the rows\n",
    "sampled_df = df.sample(frac=0.25, random_state=42)"
   ]
  },
  {
   "cell_type": "code",
   "execution_count": null,
   "metadata": {},
   "outputs": [],
   "source": [
    "import pickle\n",
    "\n",
    "# Initialize an empty graph\n",
    "G = nx.Graph()\n",
    "\n",
    "# Process data in chunks to build the graph incrementally\n",
    "td = sampled_df.to_delayed()[:250]\n",
    "num_chunks = len(td)\n",
    "for idx, chunk in enumerate(td):\n",
    "    if (idx % 10) == 0:\n",
    "        print(\"Adding chunk {0} of {1}...\".format(idx, num_chunks))\n",
    "    chunk = chunk.compute()\n",
    "    G = add_edges_to_graph(chunk, G)\n",
    "\n",
    "graph_output_path = 'E:/bams/extended/G.pkl'\n",
    "with open(graph_output_path, 'wb') as f:\n",
    "    pickle.dump(G, f)\n",
    "\n",
    "# Apply the Louvain method for community detection\n",
    "partition = community_louvain.best_partition(G, weight='distance')\n",
    "\n",
    "partition_output_path = 'E:/bams/extended/partition.pkl'\n",
    "with open(partition_output_path, 'wb') as f:\n",
    "    pickle.dump(partition, f)\n",
    "\n",
    "# Save clusters to a file\n",
    "with open('E:/bams/extended/clusters.txt', 'w') as f:\n",
    "    for node, cluster in partition.items():\n",
    "        f.write(f\"{node}\\t{cluster}\\n\")"
   ]
  },
  {
   "cell_type": "code",
   "execution_count": 12,
   "metadata": {},
   "outputs": [],
   "source": [
    "from collections import Counter\n",
    "\n",
    "cluster_counts = Counter(partition.values())\n",
    "num_clusters = len(cluster_counts)"
   ]
  },
  {
   "cell_type": "code",
   "execution_count": 22,
   "metadata": {},
   "outputs": [
    {
     "name": "stdout",
     "output_type": "stream",
     "text": [
      "Cluster histogram saved successfully.\n"
     ]
    },
    {
     "data": {
      "image/png": "[encoded data removed]",
      "text/plain": [
       "<Figure size 640x480 with 1 Axes>"
      ]
     },
     "metadata": {},
     "output_type": "display_data"
    }
   ],
   "source": [
    "import matplotlib.pyplot as plt\n",
    "\n",
    "# Plot a histogram of the cluster counts\n",
    "plt.figure()\n",
    "plt.hist(cluster_counts.values(), bins=np.arange(1, 20000, 100))\n",
    "plt.xlabel('Number of Reads in Cluster')\n",
    "plt.ylabel('Frequency')\n",
    "plt.title('Histogram of Cluster Sizes')\n",
    "plt.grid(True)\n",
    "plt.savefig('E:/bams/extended/cluster_histogram.png')\n",
    "print(\"Cluster histogram saved successfully.\")"
   ]
  },
  {
   "cell_type": "code",
   "execution_count": 37,
   "metadata": {},
   "outputs": [
    {
     "name": "stderr",
     "output_type": "stream",
     "text": [
      "C:\\Users\\TLab\\AppData\\Local\\Temp\\ipykernel_20076\\3330564701.py:4: DtypeWarning: Columns (0) have mixed types. Specify dtype option on import or set low_memory=False.\n",
      "  bed_df = pd.read_csv(bed_file, sep='\\t', header=None, names=['chrom', 'start', 'end', 'name', 'score', 'strand'])\n"
     ]
    }
   ],
   "source": [
    "import pandas as pd\n",
    "\n",
    "bed_file = 'E:/bams/extended/extended_intergenic_reads_filt.bed'  # Replace with your BED file path\n",
    "bed_df = pd.read_csv(bed_file, sep='\\t', header=None, names=['chrom', 'start', 'end', 'name', 'score', 'strand'])"
   ]
  },
  {
   "cell_type": "code",
   "execution_count": null,
   "metadata": {},
   "outputs": [],
   "source": [
    "import matplotlib.pyplot as plt\n",
    "import numpy as np\n",
    "\n",
    "# Filter clusters with more than 10,000 reads\n",
    "large_clusters = {cluster_id: count for cluster_id, count in cluster_counts.items() if count > 10000}\n",
    "\n",
    "# Calculate the genomic range for each large cluster\n",
    "loci_ranges = {}\n",
    "for cluster_id in large_clusters:\n",
    "    print(\"Cluster ID#{0}\".format(cluster_id))\n",
    "    reads_in_cluster = [node for node, cluster in partition.items() if cluster == cluster_id]\n",
    "    cluster_bed_df = bed_df[bed_df['name'].isin(reads_in_cluster)]\n",
    "    if not cluster_bed_df.empty:\n",
    "        min_start = np.round(np.percentile(cluster_bed_df['start'], 5)).astype(int)\n",
    "        max_end = np.round(np.percentile(cluster_bed_df['end'], 95)).astype(int)\n",
    "        mean_start = np.round(cluster_bed_df['start'].mean()).astype(int)\n",
    "        mean_end = np.round(cluster_bed_df['end'].mean()).astype(int)\n",
    "        chrom = cluster_bed_df['chrom'].mode()[0]\n",
    "        loci_ranges[cluster_id] = (chrom, min_start, max_end, mean_start, mean_end)\n",
    "        \n",
    "        # # Plot the distribution of read alignments for the current cluster\n",
    "        # plt.figure()\n",
    "        # plt.hist(cluster_bed_df['start'], bins=50, alpha=0.5, label='Start Positions')\n",
    "        # plt.hist(cluster_bed_df['end'], bins=50, alpha=0.5, label='End Positions')\n",
    "        \n",
    "        # # Add vertical lines for 5th percentile, 95th percentile, and mean positions\n",
    "        # plt.axvline(min_start, color='blue', linestyle='dashed', linewidth=1, label='5th Percentile Start')\n",
    "        # plt.axvline(max_end, color='red', linestyle='dashed', linewidth=1, label='95th Percentile End')\n",
    "        # plt.axvline(mean_start, color='green', linestyle='dashed', linewidth=1, label='Mean Start')\n",
    "        # plt.axvline(mean_end, color='orange', linestyle='dashed', linewidth=1, label='Mean End')\n",
    "        \n",
    "        # plt.xlabel('Genomic Position')\n",
    "        # plt.ylabel('Frequency')\n",
    "        # plt.title(f'Cluster {cluster_id} Read Alignments')\n",
    "        # plt.legend()\n",
    "        # plt.grid(True)\n",
    "        # plt.savefig(f'E:/bams/extended/clusters/cluster_{cluster_id}_read_distribution.png')\n",
    "        # plt.close()"
   ]
  },
  {
   "cell_type": "code",
   "execution_count": 1,
   "metadata": {},
   "outputs": [
    {
     "ename": "NameError",
     "evalue": "name 'loci_ranges' is not defined",
     "output_type": "error",
     "traceback": [
      "\u001b[1;31m---------------------------------------------------------------------------\u001b[0m",
      "\u001b[1;31mNameError\u001b[0m                                 Traceback (most recent call last)",
      "Cell \u001b[1;32mIn[1], line 2\u001b[0m\n\u001b[0;32m      1\u001b[0m \u001b[38;5;66;03m# Sort the loci by length, from smallest to largest\u001b[39;00m\n\u001b[1;32m----> 2\u001b[0m sorted_loci_ranges \u001b[38;5;241m=\u001b[39m \u001b[38;5;28msorted\u001b[39m(\u001b[43mloci_ranges\u001b[49m\u001b[38;5;241m.\u001b[39mitems(), key\u001b[38;5;241m=\u001b[39m\u001b[38;5;28;01mlambda\u001b[39;00m x: x[\u001b[38;5;241m1\u001b[39m][\u001b[38;5;241m2\u001b[39m] \u001b[38;5;241m-\u001b[39m x[\u001b[38;5;241m1\u001b[39m][\u001b[38;5;241m1\u001b[39m])\n\u001b[0;32m      4\u001b[0m \u001b[38;5;66;03m# Print the sorted loci ranges\u001b[39;00m\n\u001b[0;32m      5\u001b[0m \u001b[38;5;28mprint\u001b[39m(\u001b[38;5;124m\"\u001b[39m\u001b[38;5;124mSorted loci ranges for clusters with more than 10,000 reads (by length):\u001b[39m\u001b[38;5;124m\"\u001b[39m)\n",
      "\u001b[1;31mNameError\u001b[0m: name 'loci_ranges' is not defined"
     ]
    }
   ],
   "source": [
    "# Sort the loci by length, from smallest to largest\n",
    "sorted_loci_ranges = sorted(loci_ranges.items(), key=lambda x: x[1][2] - x[1][1])\n",
    "\n",
    "# Print the sorted loci ranges\n",
    "print(\"Sorted loci ranges for clusters with more than 10,000 reads (by length):\")\n",
    "for cluster_id, (chrom, min_start, max_end, mean_start, mean_end) in sorted_loci_ranges:\n",
    "    print(f\"Cluster {cluster_id}: {chrom}:{min_start}-{max_end} (Length: {max_end - min_start})\")"
   ]
  }
 ],
 "metadata": {
  "kernelspec": {
   "display_name": "joshlab",
   "language": "python",
   "name": "python3"
  },
  "language_info": {
   "codemirror_mode": {
    "name": "ipython",
    "version": 3
   },
   "file_extension": ".py",
   "mimetype": "text/x-python",
   "name": "python",
   "nbconvert_exporter": "python",
   "pygments_lexer": "ipython3",
   "version": "3.10.8"
  }
 },
 "nbformat": 4,
 "nbformat_minor": 2
}
