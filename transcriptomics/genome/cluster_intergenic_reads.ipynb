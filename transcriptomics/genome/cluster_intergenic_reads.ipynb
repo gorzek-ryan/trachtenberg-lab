{
 "cells": [
  {
   "cell_type": "code",
   "execution_count": null,
   "metadata": {},
   "outputs": [],
   "source": [
    "import dask.dataframe as dd\n",
    "import networkx as nx\n",
    "from community import community_louvain\n",
    "import matplotlib.pyplot as plt\n",
    "\n",
    "# Function to add edges to the graph incrementally\n",
    "def add_edges_to_graph(df_chunk, graph):\n",
    "    for _, row in df_chunk.iterrows():\n",
    "        graph.add_edge(row['read1'], row['read2'], weight=row['distance'])\n",
    "    return graph\n",
    "\n",
    "# Load the data using Dask\n",
    "df = dd.read_csv('E:/bams/extended/closest_knn.txt', delim_whitespace=True, header=None, names=['read1', 'read2', 'distance'])\n",
    "\n",
    "# Initialize an empty graph\n",
    "G = nx.Graph()\n",
    "\n",
    "# Process data in chunks to build the graph incrementally\n",
    "num_chunks = len(df.to_delayed())\n",
    "for idx, chunk in enumerate(df.to_delayed()):\n",
    "    if (idx % 10) == 0:\n",
    "        print(\"Adding chunk {0} of {1}...\".format(idx, num_chunks))\n",
    "    chunk = chunk.compute()\n",
    "    G = add_edges_to_graph(chunk, G)\n",
    "\n",
    "# Apply the Louvain method for community detection\n",
    "partition = community_louvain.best_partition(G, weight='distance')\n",
    "\n",
    "# Save clusters to a file\n",
    "with open('clusters.txt', 'w') as f:\n",
    "    for node, cluster in partition.items():\n",
    "        f.write(f\"{node}\\t{cluster}\\n\")\n",
    "\n",
    "# Optionally visualize a small sample of the graph\n",
    "subgraph = G.subgraph(list(G.nodes)[:1000])  # Visualize only a subset if graph is too large\n",
    "pos = nx.spring_layout(subgraph)\n",
    "nx.draw(subgraph, pos, node_size=10, with_labels=False)\n",
    "plt.savefig('graph_plot.png')"
   ]
  }
 ],
 "metadata": {
  "kernelspec": {
   "display_name": "joshlab",
   "language": "python",
   "name": "python3"
  },
  "language_info": {
   "codemirror_mode": {
    "name": "ipython",
    "version": 3
   },
   "file_extension": ".py",
   "mimetype": "text/x-python",
   "name": "python",
   "nbconvert_exporter": "python",
   "pygments_lexer": "ipython3",
   "version": "3.10.8"
  }
 },
 "nbformat": 4,
 "nbformat_minor": 2
}
