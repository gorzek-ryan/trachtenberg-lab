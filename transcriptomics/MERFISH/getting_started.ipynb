{
 "cells": [
  {
   "cell_type": "markdown",
   "metadata": {
    "tags": []
   },
   "source": [
    "# Getting started\n",
    "\n",
    "Data associated with the Allen Brain Cell Atlas is hosted on Amazon Web Services (AWS) in an S3 bucket as a AWS Public Dataset. \n",
    "No account or login is required. The S3 bucket is located here [arn:aws:s3:::allen-brain-cell-atlas](https://allen-brain-cell-atlas.s3.us-west-2.amazonaws.com/index.html). You will need to be connected to the internet to run this notebook.\n",
    "\n",
    "Each release has an associated **manifest.json** which list all the specific version of directories and files that are part of the release. We recommend using the manifest as the starting point of data download and usage.\n",
    "\n",
    "Expression matrices are stored in the [anndata h5ad format](https://anndata.readthedocs.io/en/latest/) and needs to be downloaded to a local file system for usage.\n",
    "\n",
    "The **AWS Command Line Interface ([AWS CLI](https://aws.amazon.com/cli/))** is a simple option to download specific directories and files from S3. Download and installation instructructions can be found here: https://aws.amazon.com/cli/. \n",
    "\n",
    "This notebook shows how to format AWS CLI commands to download the data required for the tutorials. You can copy those command onto a terminal shell or optionally you can run those command directly in this notebook by uncommenting the \"subprocess.run\" lines in the code.\n"
   ]
  },
  {
   "cell_type": "code",
   "execution_count": 1,
   "metadata": {},
   "outputs": [],
   "source": [
    "import requests\n",
    "import json\n",
    "import os\n",
    "import pathlib\n",
    "import subprocess\n",
    "import time"
   ]
  },
  {
   "cell_type": "markdown",
   "metadata": {},
   "source": [
    "## Using the file manifest"
   ]
  },
  {
   "cell_type": "markdown",
   "metadata": {},
   "source": [
    "Let's open the manifest.json file associated with the current release."
   ]
  },
  {
   "cell_type": "code",
   "execution_count": 2,
   "metadata": {},
   "outputs": [
    {
     "name": "stdout",
     "output_type": "stream",
     "text": [
      "version:  20230830\n"
     ]
    }
   ],
   "source": [
    "version = '20230830'\n",
    "url = 'https://allen-brain-cell-atlas.s3-us-west-2.amazonaws.com/releases/%s/manifest.json' % version\n",
    "manifest = json.loads(requests.get(url).text)\n",
    "print(\"version: \", manifest['version'])"
   ]
  },
  {
   "cell_type": "markdown",
   "metadata": {},
   "source": [
    "At the top level, the manifest consists of the release *version* tag, S3 *resource_uri*,  dictionaries *directory_listing* and *file_listing*. A simple option to download data is to use the AWS CLI to download specific directories or files. All the example notebooks in this repository assumes that data has been downloaded locally in the same file organization as specified by the \"relative_path\" field in the manifest."
   ]
  },
  {
   "cell_type": "code",
   "execution_count": 3,
   "metadata": {},
   "outputs": [
    {
     "name": "stdout",
     "output_type": "stream",
     "text": [
      "version: 20230830\n",
      "resource_uri: s3://allen-brain-cell-atlas/\n"
     ]
    }
   ],
   "source": [
    "manifest.keys()\n",
    "print(\"version:\",manifest['version'])\n",
    "print(\"resource_uri:\",manifest['resource_uri'])"
   ]
  },
  {
   "cell_type": "markdown",
   "metadata": {},
   "source": [
    "Let's look at the information associated with the spatial transcriptomics dataset **MERFISH-C57BL6J-638850**. This dataset has two related directories: *expression_matrices* containing a set of h5ad files and *metadata* containing a set of csv files. Use the *view_link* url to browse the directories on a web-browser."
   ]
  },
  {
   "cell_type": "code",
   "execution_count": 4,
   "metadata": {},
   "outputs": [
    {
     "name": "stdout",
     "output_type": "stream",
     "text": [
      "{'version': '20230830', 'relative_path': 'expression_matrices/MERFISH-C57BL6J-638850/20230830', 'url': 'https://allen-brain-cell-atlas.s3.us-west-2.amazonaws.com/expression_matrices/MERFISH-C57BL6J-638850/20230830/', 'view_link': 'https://allen-brain-cell-atlas.s3.us-west-2.amazonaws.com/index.html#expression_matrices/MERFISH-C57BL6J-638850/20230830/', 'total_size': 15255179148}\n",
      "https://allen-brain-cell-atlas.s3.us-west-2.amazonaws.com/index.html#expression_matrices/MERFISH-C57BL6J-638850/20230830/\n"
     ]
    }
   ],
   "source": [
    "expression_matrices = manifest['directory_listing']['MERFISH-C57BL6J-638850']['directories']['expression_matrices']\n",
    "print(expression_matrices)\n",
    "print(expression_matrices['view_link'])"
   ]
  },
  {
   "cell_type": "code",
   "execution_count": 5,
   "metadata": {},
   "outputs": [
    {
     "name": "stdout",
     "output_type": "stream",
     "text": [
      "{'version': '20230830', 'relative_path': 'metadata/MERFISH-C57BL6J-638850/20230830', 'url': 'https://allen-brain-cell-atlas.s3.us-west-2.amazonaws.com/metadata/MERFISH-C57BL6J-638850/20230830/', 'view_link': 'https://allen-brain-cell-atlas.s3.us-west-2.amazonaws.com/index.html#metadata/MERFISH-C57BL6J-638850/20230830/', 'total_size': 1942603772}\n",
      "https://allen-brain-cell-atlas.s3.us-west-2.amazonaws.com/index.html#metadata/MERFISH-C57BL6J-638850/20230830/\n"
     ]
    }
   ],
   "source": [
    "metadata = manifest['directory_listing']['MERFISH-C57BL6J-638850']['directories']['metadata']\n",
    "print(metadata)\n",
    "print(metadata['view_link'])"
   ]
  },
  {
   "cell_type": "markdown",
   "metadata": {},
   "source": [
    "Directory sizes are also reported as part to the manifest.json. WARNING: the expression matrices directories can get very large > 100 GB."
   ]
  },
  {
   "cell_type": "code",
   "execution_count": 6,
   "metadata": {},
   "outputs": [
    {
     "name": "stdout",
     "output_type": "stream",
     "text": [
      "expression_matrices/MERFISH-C57BL6J-638850/20230830 : 14.21 GB\n",
      "metadata/MERFISH-C57BL6J-638850/20230830 : 1.81 GB\n",
      "expression_matrices/MERFISH-C57BL6J-638850-sections/20230630 : 14.31 GB\n",
      "expression_matrices/WMB-10Xv2/20230630 : 104.16 GB\n",
      "expression_matrices/WMB-10Xv3/20230630 : 176.41 GB\n",
      "expression_matrices/WMB-10XMulti/20230830 : 0.21 GB\n",
      "metadata/WMB-10X/20230830 : 2.39 GB\n",
      "metadata/WMB-taxonomy/20230830 : 0.01 GB\n",
      "metadata/WMB-neighborhoods/20230830 : 3.00 GB\n",
      "image_volumes/Allen-CCF-2020/20230630 : 0.37 GB\n",
      "metadata/Allen-CCF-2020/20230630 : 0.00 GB\n",
      "image_volumes/MERFISH-C57BL6J-638850-CCF/20230630 : 0.11 GB\n",
      "metadata/MERFISH-C57BL6J-638850-CCF/20230830 : 2.01 GB\n",
      "expression_matrices/Zhuang-ABCA-1/20230830 : 3.09 GB\n",
      "metadata/Zhuang-ABCA-1/20230830 : 1.33 GB\n",
      "metadata/Zhuang-ABCA-1-CCF/20230830 : 0.21 GB\n",
      "expression_matrices/Zhuang-ABCA-2/20230830 : 1.30 GB\n",
      "metadata/Zhuang-ABCA-2/20230830 : 0.57 GB\n",
      "metadata/Zhuang-ABCA-2-CCF/20230830 : 0.08 GB\n",
      "expression_matrices/Zhuang-ABCA-3/20230830 : 1.69 GB\n",
      "metadata/Zhuang-ABCA-3/20230830 : 0.74 GB\n",
      "metadata/Zhuang-ABCA-3-CCF/20230830 : 0.12 GB\n",
      "expression_matrices/Zhuang-ABCA-4/20230830 : 0.16 GB\n",
      "metadata/Zhuang-ABCA-4/20230830 : 0.08 GB\n",
      "metadata/Zhuang-ABCA-4-CCF/20230830 : 0.01 GB\n"
     ]
    }
   ],
   "source": [
    "GB = float(float(1024) ** 3)\n",
    "\n",
    "for r in manifest['directory_listing'] :    \n",
    "    r_dict =  manifest['directory_listing'][r]\n",
    "    for d in r_dict['directories'] :\n",
    "        d_dict = r_dict['directories'][d]        \n",
    "        print(d_dict['relative_path'],\":\",'%0.2f GB' % (d_dict['total_size']/GB))\n",
    "        "
   ]
  },
  {
   "cell_type": "markdown",
   "metadata": {},
   "source": [
    "## Downloading files for the tutorial notebooks"
   ]
  },
  {
   "cell_type": "markdown",
   "metadata": {},
   "source": [
    "Suppose you would like to download data to your local path *../abc_download_root*."
   ]
  },
  {
   "cell_type": "code",
   "execution_count": 7,
   "metadata": {},
   "outputs": [],
   "source": [
    "download_base = 'E:/MERFISH/abc_download_root/'"
   ]
  },
  {
   "cell_type": "markdown",
   "metadata": {},
   "source": [
    "### Downloading all metadata directories\n",
    "\n",
    "Since the metadata directories are relatively small we will download all the metadata directories. We loop through the manifest and download each metadata directory using  **[AWS CLI](https://aws.amazon.com/cli/)** sync command. This should take < 5 minutes."
   ]
  },
  {
   "cell_type": "code",
   "execution_count": 8,
   "metadata": {},
   "outputs": [
    {
     "name": "stdout",
     "output_type": "stream",
     "text": [
      "aws s3 sync --no-sign-request s3://allen-brain-cell-atlas/metadata/MERFISH-C57BL6J-638850/20230830 E:\\MERFISH\\abc_download_root\\metadata\\MERFISH-C57BL6J-638850\\20230830\n",
      "aws s3 sync --no-sign-request s3://allen-brain-cell-atlas/metadata/WMB-10X/20230830 E:\\MERFISH\\abc_download_root\\metadata\\WMB-10X\\20230830\n",
      "aws s3 sync --no-sign-request s3://allen-brain-cell-atlas/metadata/WMB-taxonomy/20230830 E:\\MERFISH\\abc_download_root\\metadata\\WMB-taxonomy\\20230830\n",
      "aws s3 sync --no-sign-request s3://allen-brain-cell-atlas/metadata/WMB-neighborhoods/20230830 E:\\MERFISH\\abc_download_root\\metadata\\WMB-neighborhoods\\20230830\n",
      "aws s3 sync --no-sign-request s3://allen-brain-cell-atlas/metadata/Allen-CCF-2020/20230630 E:\\MERFISH\\abc_download_root\\metadata\\Allen-CCF-2020\\20230630\n",
      "aws s3 sync --no-sign-request s3://allen-brain-cell-atlas/metadata/MERFISH-C57BL6J-638850-CCF/20230830 E:\\MERFISH\\abc_download_root\\metadata\\MERFISH-C57BL6J-638850-CCF\\20230830\n",
      "aws s3 sync --no-sign-request s3://allen-brain-cell-atlas/metadata/Zhuang-ABCA-1/20230830 E:\\MERFISH\\abc_download_root\\metadata\\Zhuang-ABCA-1\\20230830\n",
      "aws s3 sync --no-sign-request s3://allen-brain-cell-atlas/metadata/Zhuang-ABCA-1-CCF/20230830 E:\\MERFISH\\abc_download_root\\metadata\\Zhuang-ABCA-1-CCF\\20230830\n",
      "aws s3 sync --no-sign-request s3://allen-brain-cell-atlas/metadata/Zhuang-ABCA-2/20230830 E:\\MERFISH\\abc_download_root\\metadata\\Zhuang-ABCA-2\\20230830\n",
      "aws s3 sync --no-sign-request s3://allen-brain-cell-atlas/metadata/Zhuang-ABCA-2-CCF/20230830 E:\\MERFISH\\abc_download_root\\metadata\\Zhuang-ABCA-2-CCF\\20230830\n",
      "aws s3 sync --no-sign-request s3://allen-brain-cell-atlas/metadata/Zhuang-ABCA-3/20230830 E:\\MERFISH\\abc_download_root\\metadata\\Zhuang-ABCA-3\\20230830\n",
      "aws s3 sync --no-sign-request s3://allen-brain-cell-atlas/metadata/Zhuang-ABCA-3-CCF/20230830 E:\\MERFISH\\abc_download_root\\metadata\\Zhuang-ABCA-3-CCF\\20230830\n",
      "aws s3 sync --no-sign-request s3://allen-brain-cell-atlas/metadata/Zhuang-ABCA-4/20230830 E:\\MERFISH\\abc_download_root\\metadata\\Zhuang-ABCA-4\\20230830\n",
      "aws s3 sync --no-sign-request s3://allen-brain-cell-atlas/metadata/Zhuang-ABCA-4-CCF/20230830 E:\\MERFISH\\abc_download_root\\metadata\\Zhuang-ABCA-4-CCF\\20230830\n"
     ]
    }
   ],
   "source": [
    "for r in manifest['directory_listing'] :\n",
    "    \n",
    "    r_dict =  manifest['directory_listing'][r]\n",
    "    \n",
    "    for d in r_dict['directories'] :\n",
    "        \n",
    "        if d != 'metadata' :\n",
    "            continue\n",
    "        d_dict = r_dict['directories'][d]\n",
    "        local_path = os.path.join( download_base, d_dict['relative_path'])\n",
    "        local_path = pathlib.Path( local_path )\n",
    "        remote_path = manifest['resource_uri'] + d_dict['relative_path']\n",
    "        \n",
    "        command = \"aws s3 sync --no-sign-request %s %s\" % (remote_path, local_path)\n",
    "        print(command)\n",
    "        \n",
    "        start = time.process_time()\n",
    "        # Uncomment to download directories\n",
    "        #result = subprocess.run(command.split(),stdout=subprocess.PIPE)\n",
    "        #print(\"time taken: \", time.process_time() - start)\n",
    "  "
   ]
  },
  {
   "cell_type": "markdown",
   "metadata": {},
   "source": [
    "### Downloading one 10x expression matrix\n",
    "The prerequisite to run the 10x part 1 notebook is to have downloaded the log2 version of the \"'WMB-10Xv2-TH'\" matrix (4GB). Download takes ~ 1 min depending on your network speed. \n",
    "\n",
    "We define a simple helper function to create the require AWS command. You can copy the command into a terminal shell to run or optionally run it inside this notebook if you uncomment the \"subprocess.run\" line of code."
   ]
  },
  {
   "cell_type": "code",
   "execution_count": 13,
   "metadata": {},
   "outputs": [],
   "source": [
    "def download_file( file_dict ) :\n",
    "    \n",
    "    print(file_dict['relative_path'],file_dict['size'])\n",
    "    local_path = os.path.join( download_base, file_dict['relative_path'] )\n",
    "    local_path = pathlib.Path( local_path )\n",
    "    remote_path = manifest['resource_uri'] + file_dict['relative_path']\n",
    "\n",
    "    command = \"aws s3 cp --no-sign-request %s %s\" % (remote_path, local_path)\n",
    "    print(command)\n",
    "\n",
    "    start = time.process_time()\n",
    "    # Uncomment to download file\n",
    "    #result = subprocess.run(command.split(' '),stdout=subprocess.PIPE)\n",
    "    #print(\"time taken: \", time.process_time() - start)"
   ]
  },
  {
   "cell_type": "code",
   "execution_count": 9,
   "metadata": {},
   "outputs": [],
   "source": [
    "expression_matrices = manifest['file_listing']['WMB-10Xv3']['expression_matrices']"
   ]
  },
  {
   "cell_type": "code",
   "execution_count": 10,
   "metadata": {},
   "outputs": [
    {
     "data": {
      "text/plain": [
       "{'WMB-10Xv3-Isocortex-2': {'raw': {'files': {'h5ad': {'version': '20230630',\n",
       "     'relative_path': 'expression_matrices/WMB-10Xv3/20230630/WMB-10Xv3-Isocortex-2-raw.h5ad',\n",
       "     'url': 'https://allen-brain-cell-atlas.s3.us-west-2.amazonaws.com/expression_matrices/WMB-10Xv3/20230630/WMB-10Xv3-Isocortex-2-raw.h5ad',\n",
       "     'size': 8356210362.0,\n",
       "     'file_hash': 'be24e3d0e61167a3dc07aa931de1c1d7'}}},\n",
       "  'log2': {'files': {'h5ad': {'version': '20230630',\n",
       "     'relative_path': 'expression_matrices/WMB-10Xv3/20230630/WMB-10Xv3-Isocortex-2-log2.h5ad',\n",
       "     'url': 'https://allen-brain-cell-atlas.s3.us-west-2.amazonaws.com/expression_matrices/WMB-10Xv3/20230630/WMB-10Xv3-Isocortex-2-log2.h5ad',\n",
       "     'size': 8356210362.0,\n",
       "     'file_hash': 'a9e71b29021eb77c665619bcd5b7c78a'}}}},\n",
       " 'WMB-10Xv3-PAL': {'log2': {'files': {'h5ad': {'version': '20230630',\n",
       "     'relative_path': 'expression_matrices/WMB-10Xv3/20230630/WMB-10Xv3-PAL-log2.h5ad',\n",
       "     'url': 'https://allen-brain-cell-atlas.s3.us-west-2.amazonaws.com/expression_matrices/WMB-10Xv3/20230630/WMB-10Xv3-PAL-log2.h5ad',\n",
       "     'size': 4067049816.0,\n",
       "     'file_hash': 'cd72cfda54013e7d7fa2bbf46688a437'}}},\n",
       "  'raw': {'files': {'h5ad': {'version': '20230630',\n",
       "     'relative_path': 'expression_matrices/WMB-10Xv3/20230630/WMB-10Xv3-PAL-raw.h5ad',\n",
       "     'url': 'https://allen-brain-cell-atlas.s3.us-west-2.amazonaws.com/expression_matrices/WMB-10Xv3/20230630/WMB-10Xv3-PAL-raw.h5ad',\n",
       "     'size': 4067049816.0,\n",
       "     'file_hash': '3ab247405fe211a32c37d0d6d7162c8d'}}}},\n",
       " 'WMB-10Xv3-CTXsp': {'log2': {'files': {'h5ad': {'version': '20230630',\n",
       "     'relative_path': 'expression_matrices/WMB-10Xv3/20230630/WMB-10Xv3-CTXsp-log2.h5ad',\n",
       "     'url': 'https://allen-brain-cell-atlas.s3.us-west-2.amazonaws.com/expression_matrices/WMB-10Xv3/20230630/WMB-10Xv3-CTXsp-log2.h5ad',\n",
       "     'size': 3277343842.0,\n",
       "     'file_hash': 'a9d544cb963366d0c41ffe5934234d56'}}},\n",
       "  'raw': {'files': {'h5ad': {'version': '20230630',\n",
       "     'relative_path': 'expression_matrices/WMB-10Xv3/20230630/WMB-10Xv3-CTXsp-raw.h5ad',\n",
       "     'url': 'https://allen-brain-cell-atlas.s3.us-west-2.amazonaws.com/expression_matrices/WMB-10Xv3/20230630/WMB-10Xv3-CTXsp-raw.h5ad',\n",
       "     'size': 3277343842.0,\n",
       "     'file_hash': '6595c10d8fd3c4f57edb7008829ca296'}}}},\n",
       " 'WMB-10Xv3-MB': {'raw': {'files': {'h5ad': {'version': '20230630',\n",
       "     'relative_path': 'expression_matrices/WMB-10Xv3/20230630/WMB-10Xv3-MB-raw.h5ad',\n",
       "     'url': 'https://allen-brain-cell-atlas.s3.us-west-2.amazonaws.com/expression_matrices/WMB-10Xv3/20230630/WMB-10Xv3-MB-raw.h5ad',\n",
       "     'size': 13726487690.0,\n",
       "     'file_hash': '8e49e254b121c2347fc0de45844676df'}}},\n",
       "  'log2': {'files': {'h5ad': {'version': '20230630',\n",
       "     'relative_path': 'expression_matrices/WMB-10Xv3/20230630/WMB-10Xv3-MB-log2.h5ad',\n",
       "     'url': 'https://allen-brain-cell-atlas.s3.us-west-2.amazonaws.com/expression_matrices/WMB-10Xv3/20230630/WMB-10Xv3-MB-log2.h5ad',\n",
       "     'size': 13726487690.0,\n",
       "     'file_hash': '46d177ce332621b7f5e7fff7c9daea39'}}}},\n",
       " 'WMB-10Xv3-CB': {'log2': {'files': {'h5ad': {'version': '20230630',\n",
       "     'relative_path': 'expression_matrices/WMB-10Xv3/20230630/WMB-10Xv3-CB-log2.h5ad',\n",
       "     'url': 'https://allen-brain-cell-atlas.s3.us-west-2.amazonaws.com/expression_matrices/WMB-10Xv3/20230630/WMB-10Xv3-CB-log2.h5ad',\n",
       "     'size': 5610691342.0,\n",
       "     'file_hash': 'df311b0b05213cc79ffabef99d95c2fc'}}},\n",
       "  'raw': {'files': {'h5ad': {'version': '20230630',\n",
       "     'relative_path': 'expression_matrices/WMB-10Xv3/20230630/WMB-10Xv3-CB-raw.h5ad',\n",
       "     'url': 'https://allen-brain-cell-atlas.s3.us-west-2.amazonaws.com/expression_matrices/WMB-10Xv3/20230630/WMB-10Xv3-CB-raw.h5ad',\n",
       "     'size': 5610691342.0,\n",
       "     'file_hash': '31b4a19267e1a8133f714e3bf4231cff'}}}},\n",
       " 'WMB-10Xv3-Isocortex-1': {'log2': {'files': {'h5ad': {'version': '20230630',\n",
       "     'relative_path': 'expression_matrices/WMB-10Xv3/20230630/WMB-10Xv3-Isocortex-1-log2.h5ad',\n",
       "     'url': 'https://allen-brain-cell-atlas.s3.us-west-2.amazonaws.com/expression_matrices/WMB-10Xv3/20230630/WMB-10Xv3-Isocortex-1-log2.h5ad',\n",
       "     'size': 11768194128.0,\n",
       "     'file_hash': '1c5c2b6564d0ed506b0aa2cd3300d2d4'}}},\n",
       "  'raw': {'files': {'h5ad': {'version': '20230630',\n",
       "     'relative_path': 'expression_matrices/WMB-10Xv3/20230630/WMB-10Xv3-Isocortex-1-raw.h5ad',\n",
       "     'url': 'https://allen-brain-cell-atlas.s3.us-west-2.amazonaws.com/expression_matrices/WMB-10Xv3/20230630/WMB-10Xv3-Isocortex-1-raw.h5ad',\n",
       "     'size': 11768194128.0,\n",
       "     'file_hash': 'db1d6c7a6c49d8c55a5fc20e1bd70f7a'}}}},\n",
       " 'WMB-10Xv3-OLF': {'log2': {'files': {'h5ad': {'version': '20230630',\n",
       "     'relative_path': 'expression_matrices/WMB-10Xv3/20230630/WMB-10Xv3-OLF-log2.h5ad',\n",
       "     'url': 'https://allen-brain-cell-atlas.s3.us-west-2.amazonaws.com/expression_matrices/WMB-10Xv3/20230630/WMB-10Xv3-OLF-log2.h5ad',\n",
       "     'size': 3114998442.0,\n",
       "     'file_hash': 'ec24c33b8787b6e3683cfff47059033d'}}},\n",
       "  'raw': {'files': {'h5ad': {'version': '20230630',\n",
       "     'relative_path': 'expression_matrices/WMB-10Xv3/20230630/WMB-10Xv3-OLF-raw.h5ad',\n",
       "     'url': 'https://allen-brain-cell-atlas.s3.us-west-2.amazonaws.com/expression_matrices/WMB-10Xv3/20230630/WMB-10Xv3-OLF-raw.h5ad',\n",
       "     'size': 3114998442.0,\n",
       "     'file_hash': 'aab8a07075d9686f7e469b13fe7ddaeb'}}}},\n",
       " 'WMB-10Xv3-MY': {'log2': {'files': {'h5ad': {'version': '20230630',\n",
       "     'relative_path': 'expression_matrices/WMB-10Xv3/20230630/WMB-10Xv3-MY-log2.h5ad',\n",
       "     'url': 'https://allen-brain-cell-atlas.s3.us-west-2.amazonaws.com/expression_matrices/WMB-10Xv3/20230630/WMB-10Xv3-MY-log2.h5ad',\n",
       "     'size': 7206054638.0,\n",
       "     'file_hash': '25dd82b9f9200b680ee6baae53c4894b'}}},\n",
       "  'raw': {'files': {'h5ad': {'version': '20230630',\n",
       "     'relative_path': 'expression_matrices/WMB-10Xv3/20230630/WMB-10Xv3-MY-raw.h5ad',\n",
       "     'url': 'https://allen-brain-cell-atlas.s3.us-west-2.amazonaws.com/expression_matrices/WMB-10Xv3/20230630/WMB-10Xv3-MY-raw.h5ad',\n",
       "     'size': 7206054638.0,\n",
       "     'file_hash': '6553a04f0dfc06f1a076aef920ded632'}}}},\n",
       " 'WMB-10Xv3-TH': {'raw': {'files': {'h5ad': {'version': '20230630',\n",
       "     'relative_path': 'expression_matrices/WMB-10Xv3/20230630/WMB-10Xv3-TH-raw.h5ad',\n",
       "     'url': 'https://allen-brain-cell-atlas.s3.us-west-2.amazonaws.com/expression_matrices/WMB-10Xv3/20230630/WMB-10Xv3-TH-raw.h5ad',\n",
       "     'size': 5811140682.0,\n",
       "     'file_hash': '0d54d9a0c0fccbf08051f4e96e3fde4e'}}},\n",
       "  'log2': {'files': {'h5ad': {'version': '20230630',\n",
       "     'relative_path': 'expression_matrices/WMB-10Xv3/20230630/WMB-10Xv3-TH-log2.h5ad',\n",
       "     'url': 'https://allen-brain-cell-atlas.s3.us-west-2.amazonaws.com/expression_matrices/WMB-10Xv3/20230630/WMB-10Xv3-TH-log2.h5ad',\n",
       "     'size': 5811140682.0,\n",
       "     'file_hash': '9adfa950a30615a4e718887a5e5c8eb6'}}}},\n",
       " 'WMB-10Xv3-HY': {'raw': {'files': {'h5ad': {'version': '20230630',\n",
       "     'relative_path': 'expression_matrices/WMB-10Xv3/20230630/WMB-10Xv3-HY-raw.h5ad',\n",
       "     'url': 'https://allen-brain-cell-atlas.s3.us-west-2.amazonaws.com/expression_matrices/WMB-10Xv3/20230630/WMB-10Xv3-HY-raw.h5ad',\n",
       "     'size': 7248338584.0,\n",
       "     'file_hash': '1d7e435bd42464e18b903a0b62f69965'}}},\n",
       "  'log2': {'files': {'h5ad': {'version': '20230630',\n",
       "     'relative_path': 'expression_matrices/WMB-10Xv3/20230630/WMB-10Xv3-HY-log2.h5ad',\n",
       "     'url': 'https://allen-brain-cell-atlas.s3.us-west-2.amazonaws.com/expression_matrices/WMB-10Xv3/20230630/WMB-10Xv3-HY-log2.h5ad',\n",
       "     'size': 7248338584.0,\n",
       "     'file_hash': '539579ade9bfe86e5427b2429904cac5'}}}},\n",
       " 'WMB-10Xv3-STR': {'log2': {'files': {'h5ad': {'version': '20230630',\n",
       "     'relative_path': 'expression_matrices/WMB-10Xv3/20230630/WMB-10Xv3-STR-log2.h5ad',\n",
       "     'url': 'https://allen-brain-cell-atlas.s3.us-west-2.amazonaws.com/expression_matrices/WMB-10Xv3/20230630/WMB-10Xv3-STR-log2.h5ad',\n",
       "     'size': 11915297204.0,\n",
       "     'file_hash': '4a10e4e97cdf9934af2592ef0a849ee1'}}},\n",
       "  'raw': {'files': {'h5ad': {'version': '20230630',\n",
       "     'relative_path': 'expression_matrices/WMB-10Xv3/20230630/WMB-10Xv3-STR-raw.h5ad',\n",
       "     'url': 'https://allen-brain-cell-atlas.s3.us-west-2.amazonaws.com/expression_matrices/WMB-10Xv3/20230630/WMB-10Xv3-STR-raw.h5ad',\n",
       "     'size': 11915297204.0,\n",
       "     'file_hash': '8d882e810e69f61c91559a233a16cbbe'}}}},\n",
       " 'WMB-10Xv3-P': {'log2': {'files': {'h5ad': {'version': '20230630',\n",
       "     'relative_path': 'expression_matrices/WMB-10Xv3/20230630/WMB-10Xv3-P-log2.h5ad',\n",
       "     'url': 'https://allen-brain-cell-atlas.s3.us-west-2.amazonaws.com/expression_matrices/WMB-10Xv3/20230630/WMB-10Xv3-P-log2.h5ad',\n",
       "     'size': 5200570200.0,\n",
       "     'file_hash': 'f94ad816b7d7664e9a3f71b7a9ae5704'}}},\n",
       "  'raw': {'files': {'h5ad': {'version': '20230630',\n",
       "     'relative_path': 'expression_matrices/WMB-10Xv3/20230630/WMB-10Xv3-P-raw.h5ad',\n",
       "     'url': 'https://allen-brain-cell-atlas.s3.us-west-2.amazonaws.com/expression_matrices/WMB-10Xv3/20230630/WMB-10Xv3-P-raw.h5ad',\n",
       "     'size': 5200570200.0,\n",
       "     'file_hash': 'fdeca4bc9fde57f76da5111f29f54674'}}}},\n",
       " 'WMB-10Xv3-HPF': {'raw': {'files': {'h5ad': {'version': '20230630',\n",
       "     'relative_path': 'expression_matrices/WMB-10Xv3/20230630/WMB-10Xv3-HPF-raw.h5ad',\n",
       "     'url': 'https://allen-brain-cell-atlas.s3.us-west-2.amazonaws.com/expression_matrices/WMB-10Xv3/20230630/WMB-10Xv3-HPF-raw.h5ad',\n",
       "     'size': 7409633208.0,\n",
       "     'file_hash': '6acf88e176db905caeab1d8dc2574d40'}}},\n",
       "  'log2': {'files': {'h5ad': {'version': '20230630',\n",
       "     'relative_path': 'expression_matrices/WMB-10Xv3/20230630/WMB-10Xv3-HPF-log2.h5ad',\n",
       "     'url': 'https://allen-brain-cell-atlas.s3.us-west-2.amazonaws.com/expression_matrices/WMB-10Xv3/20230630/WMB-10Xv3-HPF-log2.h5ad',\n",
       "     'size': 7409633208.0,\n",
       "     'file_hash': '12fe1a7f3ef28676e782e8a0375ac854'}}}}}"
      ]
     },
     "execution_count": 10,
     "metadata": {},
     "output_type": "execute_result"
    }
   ],
   "source": [
    "expression_matrices"
   ]
  },
  {
   "cell_type": "code",
   "execution_count": 11,
   "metadata": {},
   "outputs": [
    {
     "data": {
      "text/plain": [
       "{'log2': {'files': {'h5ad': {'version': '20230630',\n",
       "    'relative_path': 'expression_matrices/WMB-10Xv3/20230630/WMB-10Xv3-Isocortex-1-log2.h5ad',\n",
       "    'url': 'https://allen-brain-cell-atlas.s3.us-west-2.amazonaws.com/expression_matrices/WMB-10Xv3/20230630/WMB-10Xv3-Isocortex-1-log2.h5ad',\n",
       "    'size': 11768194128.0,\n",
       "    'file_hash': '1c5c2b6564d0ed506b0aa2cd3300d2d4'}}},\n",
       " 'raw': {'files': {'h5ad': {'version': '20230630',\n",
       "    'relative_path': 'expression_matrices/WMB-10Xv3/20230630/WMB-10Xv3-Isocortex-1-raw.h5ad',\n",
       "    'url': 'https://allen-brain-cell-atlas.s3.us-west-2.amazonaws.com/expression_matrices/WMB-10Xv3/20230630/WMB-10Xv3-Isocortex-1-raw.h5ad',\n",
       "    'size': 11768194128.0,\n",
       "    'file_hash': 'db1d6c7a6c49d8c55a5fc20e1bd70f7a'}}}}"
      ]
     },
     "execution_count": 11,
     "metadata": {},
     "output_type": "execute_result"
    }
   ],
   "source": [
    "expression_matrices['WMB-10Xv3-Isocortex-1']"
   ]
  },
  {
   "cell_type": "code",
   "execution_count": null,
   "metadata": {},
   "outputs": [],
   "source": [
    "expression_matrices = manifest['file_listing']['WMB-10Xv3']['expression_matrices']\n",
    "file_dict = expression_matrices['WMB-10Xv3-Isocortex-1']['log2']['files']['h5ad']\n",
    "print('size:',file_dict['size'])\n",
    "download_file( file_dict )"
   ]
  },
  {
   "cell_type": "code",
   "execution_count": 20,
   "metadata": {},
   "outputs": [
    {
     "data": {
      "text/plain": [
       "{'log2': {'files': {'h5ad': {'version': '20230630',\n",
       "    'relative_path': 'expression_matrices/WMB-10Xv3/20230630/WMB-10Xv3-Isocortex-1-log2.h5ad',\n",
       "    'url': 'https://allen-brain-cell-atlas.s3.us-west-2.amazonaws.com/expression_matrices/WMB-10Xv3/20230630/WMB-10Xv3-Isocortex-1-log2.h5ad',\n",
       "    'size': 11768194128.0,\n",
       "    'file_hash': '1c5c2b6564d0ed506b0aa2cd3300d2d4'}}},\n",
       " 'raw': {'files': {'h5ad': {'version': '20230630',\n",
       "    'relative_path': 'expression_matrices/WMB-10Xv3/20230630/WMB-10Xv3-Isocortex-1-raw.h5ad',\n",
       "    'url': 'https://allen-brain-cell-atlas.s3.us-west-2.amazonaws.com/expression_matrices/WMB-10Xv3/20230630/WMB-10Xv3-Isocortex-1-raw.h5ad',\n",
       "    'size': 11768194128.0,\n",
       "    'file_hash': 'db1d6c7a6c49d8c55a5fc20e1bd70f7a'}}}}"
      ]
     },
     "execution_count": 20,
     "metadata": {},
     "output_type": "execute_result"
    }
   ],
   "source": [
    "expression_matrices = manifest['file_listing']['WMB-10Xv3']['expression_matrices']\n",
    "expression_matrices['WMB-10Xv3-Isocortex-1']"
   ]
  },
  {
   "cell_type": "code",
   "execution_count": 15,
   "metadata": {},
   "outputs": [
    {
     "name": "stdout",
     "output_type": "stream",
     "text": [
      "size: 11768194128.0\n",
      "expression_matrices/WMB-10Xv3/20230630/WMB-10Xv3-Isocortex-1-log2.h5ad 11768194128.0\n",
      "aws s3 cp --no-sign-request s3://allen-brain-cell-atlas/expression_matrices/WMB-10Xv3/20230630/WMB-10Xv3-Isocortex-1-log2.h5ad E:\\MERFISH\\abc_download_root\\expression_matrices\\WMB-10Xv3\\20230630\\WMB-10Xv3-Isocortex-1-log2.h5ad\n"
     ]
    }
   ],
   "source": [
    "expression_matrices = manifest['file_listing']['WMB-10Xv3']['expression_matrices']\n",
    "file_dict = expression_matrices['WMB-10Xv3-Isocortex-1']['log2']['files']['h5ad']\n",
    "print('size:',file_dict['size'])\n",
    "download_file( file_dict )"
   ]
  },
  {
   "cell_type": "markdown",
   "metadata": {},
   "source": [
    "### Downloading the MERFISH expression matrix"
   ]
  },
  {
   "cell_type": "markdown",
   "metadata": {},
   "source": [
    "The prerequisite to run the MERFISH part 1 notebook is to have downloaded the log2 version of the \"C57BL6J-638850\" matrix (7GB). Download takes ~3 mins depending on tour network speed."
   ]
  },
  {
   "cell_type": "code",
   "execution_count": 11,
   "metadata": {},
   "outputs": [
    {
     "name": "stdout",
     "output_type": "stream",
     "text": [
      "size: 7627589574\n",
      "expression_matrices/MERFISH-C57BL6J-638850/20230830/C57BL6J-638850-log2.h5ad 7627589574\n",
      "aws s3 cp --no-sign-request s3://allen-brain-cell-atlas/expression_matrices/MERFISH-C57BL6J-638850/20230830/C57BL6J-638850-log2.h5ad ../../abc_download_root/expression_matrices/MERFISH-C57BL6J-638850/20230830/C57BL6J-638850-log2.h5ad\n"
     ]
    }
   ],
   "source": [
    "datasets = ['MERFISH-C57BL6J-638850']\n",
    "for d in datasets :\n",
    "    expression_matrices = manifest['file_listing'][d]['expression_matrices']\n",
    "    file_dict = expression_matrices['C57BL6J-638850']['log2']['files']['h5ad']\n",
    "    print('size:',file_dict['size'])\n",
    "    download_file( file_dict )"
   ]
  },
  {
   "cell_type": "markdown",
   "metadata": {},
   "source": [
    "The prerequisite to run the Zhuang MERFISH notebook is to have downloaded the log2 version of the expression matrices of all 4 brain specimens"
   ]
  },
  {
   "cell_type": "code",
   "execution_count": 11,
   "metadata": {},
   "outputs": [
    {
     "name": "stdout",
     "output_type": "stream",
     "text": [
      "size: 2128478610\n",
      "expression_matrices/Zhuang-ABCA-1/20230830/Zhuang-ABCA-1-log2.h5ad 2128478610\n",
      "aws s3 cp --no-sign-request s3://allen-brain-cell-atlas/expression_matrices/Zhuang-ABCA-1/20230830/Zhuang-ABCA-1-log2.h5ad E:\\MERFISH\\abc_download_root\\expression_matrices\\Zhuang-ABCA-1\\20230830\\Zhuang-ABCA-1-log2.h5ad\n",
      "size: 871420938\n",
      "expression_matrices/Zhuang-ABCA-2/20230830/Zhuang-ABCA-2-log2.h5ad 871420938\n",
      "aws s3 cp --no-sign-request s3://allen-brain-cell-atlas/expression_matrices/Zhuang-ABCA-2/20230830/Zhuang-ABCA-2-log2.h5ad E:\\MERFISH\\abc_download_root\\expression_matrices\\Zhuang-ABCA-2\\20230830\\Zhuang-ABCA-2-log2.h5ad\n",
      "size: 1160586154\n",
      "expression_matrices/Zhuang-ABCA-3/20230830/Zhuang-ABCA-3-log2.h5ad 1160586154\n",
      "aws s3 cp --no-sign-request s3://allen-brain-cell-atlas/expression_matrices/Zhuang-ABCA-3/20230830/Zhuang-ABCA-3-log2.h5ad E:\\MERFISH\\abc_download_root\\expression_matrices\\Zhuang-ABCA-3\\20230830\\Zhuang-ABCA-3-log2.h5ad\n",
      "size: 106739752\n",
      "expression_matrices/Zhuang-ABCA-4/20230830/Zhuang-ABCA-4-log2.h5ad 106739752\n",
      "aws s3 cp --no-sign-request s3://allen-brain-cell-atlas/expression_matrices/Zhuang-ABCA-4/20230830/Zhuang-ABCA-4-log2.h5ad E:\\MERFISH\\abc_download_root\\expression_matrices\\Zhuang-ABCA-4\\20230830\\Zhuang-ABCA-4-log2.h5ad\n"
     ]
    }
   ],
   "source": [
    "datasets = ['Zhuang-ABCA-1','Zhuang-ABCA-2','Zhuang-ABCA-3','Zhuang-ABCA-4']\n",
    "for d in datasets :\n",
    "    expression_matrices = manifest['file_listing'][d]['expression_matrices']\n",
    "    file_dict = expression_matrices[d]['log2']['files']['h5ad']\n",
    "    print('size:',file_dict['size'])\n",
    "    download_file( file_dict )"
   ]
  },
  {
   "cell_type": "markdown",
   "metadata": {},
   "source": [
    "### Downloading all image volumes\n",
    "\n",
    "The prerequisite to run the CCF and MERFISH to CCF registration notebooks is to have downloaded the two set of image volumes."
   ]
  },
  {
   "cell_type": "code",
   "execution_count": 13,
   "metadata": {},
   "outputs": [
    {
     "name": "stdout",
     "output_type": "stream",
     "text": [
      "aws s3 sync --no-sign-request s3://allen-brain-cell-atlas/image_volumes/Allen-CCF-2020/20230630 ../../abc_download_root/image_volumes/Allen-CCF-2020/20230630\n",
      "aws s3 sync --no-sign-request s3://allen-brain-cell-atlas/image_volumes/MERFISH-C57BL6J-638850-CCF/20230630 ../../abc_download_root/image_volumes/MERFISH-C57BL6J-638850-CCF/20230630\n"
     ]
    }
   ],
   "source": [
    "for r in manifest['directory_listing'] :\n",
    "    \n",
    "    r_dict =  manifest['directory_listing'][r]\n",
    "    \n",
    "    for d in r_dict['directories'] :\n",
    "        \n",
    "        if d != 'image_volumes' :\n",
    "            continue\n",
    "        d_dict = r_dict['directories'][d]\n",
    "        local_path = os.path.join( download_base, d_dict['relative_path'])\n",
    "        local_path = pathlib.Path( local_path )\n",
    "        remote_path = manifest['resource_uri'] + d_dict['relative_path']\n",
    "        \n",
    "        command = \"aws s3 sync --no-sign-request %s %s\" % (remote_path, local_path)\n",
    "        print(command)\n",
    "        \n",
    "        start = time.process_time()\n",
    "        # Uncomment to download directories\n",
    "        #result = subprocess.run(command.split(),stdout=subprocess.PIPE)\n",
    "        #print(\"time taken: \", time.process_time() - start)\n",
    "  "
   ]
  }
 ],
 "metadata": {
  "kernelspec": {
   "display_name": "Python 3",
   "language": "python",
   "name": "python3"
  },
  "language_info": {
   "codemirror_mode": {
    "name": "ipython",
    "version": 3
   },
   "file_extension": ".py",
   "mimetype": "text/x-python",
   "name": "python",
   "nbconvert_exporter": "python",
   "pygments_lexer": "ipython3",
   "version": "3.9.16"
  }
 },
 "nbformat": 4,
 "nbformat_minor": 4
}
