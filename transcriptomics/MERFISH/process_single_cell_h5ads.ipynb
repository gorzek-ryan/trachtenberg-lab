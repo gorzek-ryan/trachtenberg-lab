{
 "cells": [
  {
   "cell_type": "code",
   "execution_count": 8,
   "metadata": {},
   "outputs": [
    {
     "name": "stderr",
     "output_type": "stream",
     "text": [
      "C:\\Users\\TLab\\AppData\\Local\\Temp\\ipykernel_26512\\2191692427.py:8: DtypeWarning: Columns (16) have mixed types. Specify dtype option on import or set low_memory=False.\n",
      "  metadata = pd.read_csv(metadata_path + \"cell_metadata_with_cluster_annotation.csv\")\n"
     ]
    }
   ],
   "source": [
    "import scanpy as sc\n",
    "import pandas as pd\n",
    "\n",
    "adata_path = \"E:/MERFISH/abc_download_root/expression_matrices/WMB-10Xv3/20230630/\"\n",
    "metadata_path = \"E:/MERFISH/abc_download_root/metadata/WMB-10X/20230830/views/\"\n",
    "\n",
    "adata = sc.read_h5ad(adata_path + \"WMB-10Xv3-Isocortex-1-raw.h5ad\")\n",
    "metadata = pd.read_csv(metadata_path + \"cell_metadata_with_cluster_annotation.csv\")\n",
    "metadata.index = metadata[\"cell_label\"]\n",
    "adata.obs = adata.obs.merge(metadata, how=\"left\")"
   ]
  },
  {
   "cell_type": "code",
   "execution_count": 31,
   "metadata": {},
   "outputs": [
    {
     "data": {
      "text/plain": [
       "Index(['cell_barcode', 'library_label', 'anatomical_division_label',\n",
       "       'cell_label', 'barcoded_cell_sample_label', 'feature_matrix_label',\n",
       "       'entity', 'brain_section_label', 'library_method',\n",
       "       'region_of_interest_acronym', 'donor_label', 'donor_genotype',\n",
       "       'donor_sex', 'dataset_label', 'x', 'y', 'cluster_alias',\n",
       "       'neurotransmitter', 'class', 'subclass', 'supertype', 'cluster',\n",
       "       'neurotransmitter_color', 'class_color', 'subclass_color',\n",
       "       'supertype_color', 'cluster_color', 'region_of_interest_order',\n",
       "       'region_of_interest_color'],\n",
       "      dtype='object')"
      ]
     },
     "execution_count": 31,
     "metadata": {},
     "output_type": "execute_result"
    }
   ],
   "source": [
    "adata.obs.columns"
   ]
  },
  {
   "cell_type": "code",
   "execution_count": 32,
   "metadata": {},
   "outputs": [
    {
     "data": {
      "text/plain": [
       "subclass                  \n",
       "030 L6 CT CTX Glut            44705\n",
       "006 L4/5 IT CTX Glut          44121\n",
       "007 L2/3 IT CTX Glut          41389\n",
       "032 L5 NP CTX Glut            10451\n",
       "004 L6 IT CTX Glut             9627\n",
       "                              ...  \n",
       "135 STN-PSTN Pitx2 Glut           1\n",
       "251 NTS Dbh Glut                  1\n",
       "137 PH-an Pitx2 Glut              1\n",
       "140 PMd-LHA Foxb1 Glut            1\n",
       "246 CU-ECU-SPVI Foxb1 Glut        1\n",
       "Name: count, Length: 112, dtype: int64"
      ]
     },
     "execution_count": 32,
     "metadata": {},
     "output_type": "execute_result"
    }
   ],
   "source": [
    "adata.obs[[\"subclass\"]].value_counts()"
   ]
  },
  {
   "cell_type": "code",
   "execution_count": 29,
   "metadata": {},
   "outputs": [
    {
     "data": {
      "text/plain": [
       "region_of_interest_acronym\n",
       "MOp                           76033\n",
       "RSP                           23050\n",
       "ACA                           21550\n",
       "AI                            20427\n",
       "PL-ILA-ORB                    17164\n",
       "VIS                           14681\n",
       "SS-GU-VISC                    14213\n",
       "AUD-TEa-PERI-ECT              14206\n",
       "MO-FRP                        14172\n",
       "VIS-PTLp                      12174\n",
       "Name: count, dtype: int64"
      ]
     },
     "execution_count": 29,
     "metadata": {},
     "output_type": "execute_result"
    }
   ],
   "source": [
    "adata.obs[[\"region_of_interest_acronym\"]].value_counts()"
   ]
  }
 ],
 "metadata": {
  "kernelspec": {
   "display_name": "scanpy",
   "language": "python",
   "name": "python3"
  },
  "language_info": {
   "codemirror_mode": {
    "name": "ipython",
    "version": 3
   },
   "file_extension": ".py",
   "mimetype": "text/x-python",
   "name": "python",
   "nbconvert_exporter": "python",
   "pygments_lexer": "ipython3",
   "version": "3.9.16"
  }
 },
 "nbformat": 4,
 "nbformat_minor": 2
}
